{
 "cells": [
  {
   "cell_type": "markdown",
   "metadata": {},
   "source": [
    "# <font color=pink>Prediccion de juegos</font>\n",
    "\n",
    "Un club del juego de Go recopiló los resultados de varias partidas entre diferentes jugadores, almacenados\n",
    "en el archivo ___juegos_entrenamiento.txt___, con el objetivo de predecir el resultado de\n",
    "partidas futuras, ejemplos de las cuales se encuentran en el archivo ___juegos_validacion.txt___. Los archivos ___juegos_entrenamiento.txt___ y ___juegos_validacion.txt___ contienen 3 columnas: la primera\n",
    "corresponde al identificador del jugador A, la segunda al identificador del jugador B y la tercera\n",
    "es el resultado de la partida (1 si ganó el jugador A o 0 si ganó el jugador B). En el club hay un\n",
    "total de D jugadores, por lo que cada identificador es un número entero entre 1 y D. La predicción\n",
    "del resultado de un juego se puede plantear como un problema de clasificación: dados 2 jugadores\n",
    "(A y B) se requiere predecir si A ganó $(y = 1)$ o si fue B $(y = 0)$. Realice los siguientes ejercicios:"
   ]
  },
  {
   "cell_type": "markdown",
   "metadata": {},
   "source": [
    "* Entrena y evalúa un clasificador bayesiano ingenuo. Al ser un modelo generativo (modela la probabilidad conjunta $P(x;y)$), es posible generar partidas artificiales con los parámetros calculados. Genera nuevas partidas que sigan la distribución modelada."
   ]
  },
  {
   "cell_type": "code",
   "execution_count": 1,
   "metadata": {},
   "outputs": [
    {
     "data": {
      "text/html": [
       "<div>\n",
       "<style scoped>\n",
       "    .dataframe tbody tr th:only-of-type {\n",
       "        vertical-align: middle;\n",
       "    }\n",
       "\n",
       "    .dataframe tbody tr th {\n",
       "        vertical-align: top;\n",
       "    }\n",
       "\n",
       "    .dataframe thead th {\n",
       "        text-align: right;\n",
       "    }\n",
       "</style>\n",
       "<table border=\"1\" class=\"dataframe\">\n",
       "  <thead>\n",
       "    <tr style=\"text-align: right;\">\n",
       "      <th></th>\n",
       "      <th>ID A</th>\n",
       "      <th>ID B</th>\n",
       "      <th>Resultado</th>\n",
       "    </tr>\n",
       "  </thead>\n",
       "  <tbody>\n",
       "    <tr>\n",
       "      <th>0</th>\n",
       "      <td>35</td>\n",
       "      <td>43</td>\n",
       "      <td>1</td>\n",
       "    </tr>\n",
       "    <tr>\n",
       "      <th>1</th>\n",
       "      <td>45</td>\n",
       "      <td>9</td>\n",
       "      <td>0</td>\n",
       "    </tr>\n",
       "    <tr>\n",
       "      <th>2</th>\n",
       "      <td>55</td>\n",
       "      <td>106</td>\n",
       "      <td>0</td>\n",
       "    </tr>\n",
       "    <tr>\n",
       "      <th>3</th>\n",
       "      <td>35</td>\n",
       "      <td>43</td>\n",
       "      <td>1</td>\n",
       "    </tr>\n",
       "    <tr>\n",
       "      <th>4</th>\n",
       "      <td>35</td>\n",
       "      <td>43</td>\n",
       "      <td>1</td>\n",
       "    </tr>\n",
       "    <tr>\n",
       "      <th>...</th>\n",
       "      <td>...</td>\n",
       "      <td>...</td>\n",
       "      <td>...</td>\n",
       "    </tr>\n",
       "    <tr>\n",
       "      <th>110</th>\n",
       "      <td>60</td>\n",
       "      <td>120</td>\n",
       "      <td>1</td>\n",
       "    </tr>\n",
       "    <tr>\n",
       "      <th>111</th>\n",
       "      <td>101</td>\n",
       "      <td>43</td>\n",
       "      <td>1</td>\n",
       "    </tr>\n",
       "    <tr>\n",
       "      <th>112</th>\n",
       "      <td>55</td>\n",
       "      <td>105</td>\n",
       "      <td>0</td>\n",
       "    </tr>\n",
       "    <tr>\n",
       "      <th>113</th>\n",
       "      <td>7</td>\n",
       "      <td>9</td>\n",
       "      <td>0</td>\n",
       "    </tr>\n",
       "    <tr>\n",
       "      <th>114</th>\n",
       "      <td>35</td>\n",
       "      <td>43</td>\n",
       "      <td>0</td>\n",
       "    </tr>\n",
       "  </tbody>\n",
       "</table>\n",
       "<p>115 rows × 3 columns</p>\n",
       "</div>"
      ],
      "text/plain": [
       "     ID A  ID B  Resultado\n",
       "0      35    43          1\n",
       "1      45     9          0\n",
       "2      55   106          0\n",
       "3      35    43          1\n",
       "4      35    43          1\n",
       "..    ...   ...        ...\n",
       "110    60   120          1\n",
       "111   101    43          1\n",
       "112    55   105          0\n",
       "113     7     9          0\n",
       "114    35    43          0\n",
       "\n",
       "[115 rows x 3 columns]"
      ]
     },
     "execution_count": 1,
     "metadata": {},
     "output_type": "execute_result"
    }
   ],
   "source": [
    "#Importamos librerias utiles\n",
    "import numpy as np\n",
    "import pandas as pd\n",
    "import matplotlib.pyplot as plt\n",
    "from sklearn.naive_bayes import CategoricalNB\n",
    "from sklearn import metrics\n",
    "from sklearn.metrics import accuracy_score\n",
    "import math as m\n",
    "\n",
    "#Leemos nuestros datos\n",
    "train = pd.read_csv('juegos_entrenamiento.txt',header=None,sep='\\s+')\n",
    "validacion = pd.read_csv('juegos_validacion.txt',header=None,sep='\\s+')\n",
    "\n",
    "#Renombramos las columnas de los datos por claridad\n",
    "train.columns=['ID A','ID B','Resultado']\n",
    "validacion.columns=['ID A','ID B','Resultado']\n",
    "#mostramos uno de las bases de datos\n",
    "validacion"
   ]
  },
  {
   "cell_type": "code",
   "execution_count": 2,
   "metadata": {},
   "outputs": [
    {
     "name": "stdout",
     "output_type": "stream",
     "text": [
      "<class 'pandas.core.frame.DataFrame'>\n",
      "RangeIndex: 115 entries, 0 to 114\n",
      "Data columns (total 3 columns):\n",
      " #   Column     Non-Null Count  Dtype\n",
      "---  ------     --------------  -----\n",
      " 0   ID A       115 non-null    int64\n",
      " 1   ID B       115 non-null    int64\n",
      " 2   Resultado  115 non-null    int64\n",
      "dtypes: int64(3)\n",
      "memory usage: 2.8 KB\n",
      "<class 'pandas.core.frame.DataFrame'>\n",
      "RangeIndex: 319 entries, 0 to 318\n",
      "Data columns (total 3 columns):\n",
      " #   Column     Non-Null Count  Dtype\n",
      "---  ------     --------------  -----\n",
      " 0   ID A       319 non-null    int64\n",
      " 1   ID B       319 non-null    int64\n",
      " 2   Resultado  319 non-null    int64\n",
      "dtypes: int64(3)\n",
      "memory usage: 7.6 KB\n"
     ]
    }
   ],
   "source": [
    "#Veamos que las bases de datos no vengan incompletas\n",
    "validacion.info()\n",
    "train.info()\n",
    "#dado que las tres columnas de las dos db son non-null y de tipo int64, entonces decimos que no estan incompletas"
   ]
  },
  {
   "cell_type": "code",
   "execution_count": 3,
   "metadata": {},
   "outputs": [],
   "source": [
    "#creamos nuestros arrays de x e y para train y validacion\n",
    "xTrain = (train.drop(columns=['Resultado'])).to_numpy()\n",
    "yTrain = (train['Resultado']).to_numpy()\n",
    "xValid = (validacion.drop(columns=['Resultado'])).to_numpy()\n",
    "yValid = (validacion['Resultado']).to_numpy()"
   ]
  },
  {
   "cell_type": "code",
   "execution_count": 4,
   "metadata": {},
   "outputs": [
    {
     "name": "stdout",
     "output_type": "stream",
     "text": [
      "0.7304347826086957\n"
     ]
    }
   ],
   "source": [
    "naiveCat = CategoricalNB(alpha=20)\n",
    "naiveCat.fit(xTrain,yTrain)\n",
    "prediccion = naiveCat.predict(xValid)\n",
    "\n",
    "#usamos la funcion accuracy_score entre las variables prediccion e yValid\n",
    "#tal y como fueron definidos. Esta funcion muestra el porcentaje de clasificaciones buenas\n",
    "#que hace el modelo con respecto a todas las muestras\n",
    "print(accuracy_score(prediccion,yValid))"
   ]
  },
  {
   "cell_type": "markdown",
   "metadata": {},
   "source": [
    "Ya que tenemos nuestro Bayes entrenado y con un accuracy decente (73%) lo que vamos a hacer es buscar el maximo y el minimo del ID, para con un generador de nuemeros aleatorios crear partidas aleatorias, es decir generar datos de forma aleatoria un nuevo array de dos columnas que contengan los ID de tal forma que los ID de ambas columnas sean diferentes. Posteriormente a este nuevo array vamos a pasarle un predict de nuestro modelo ya entrenado, que generara los resultados artificiales y con esto terminaremos la tarea de generar datos artificiales para partidas artificiales "
   ]
  },
  {
   "cell_type": "code",
   "execution_count": 5,
   "metadata": {},
   "outputs": [
    {
     "name": "stdout",
     "output_type": "stream",
     "text": [
      "ID A         142\n",
      "ID B         141\n",
      "Resultado      1\n",
      "dtype: int64\n",
      "ID A         132\n",
      "ID B         136\n",
      "Resultado      1\n",
      "dtype: int64\n",
      "ID A         1\n",
      "ID B         1\n",
      "Resultado    0\n",
      "dtype: int64\n",
      "ID A         4\n",
      "ID B         4\n",
      "Resultado    0\n",
      "dtype: int64\n"
     ]
    }
   ],
   "source": [
    "#Obtenemos los valores maximo y minimo de los ID\n",
    "maxTrain = train.max()\n",
    "maxValid = validacion.max()\n",
    "print(maxTrain)\n",
    "print(maxValid)\n",
    "#El ID maximo es 142\n",
    "minTrain = train.min()\n",
    "minValid = validacion.min()\n",
    "print(minTrain)\n",
    "print(minValid)\n",
    "#El ID minimo es 1"
   ]
  },
  {
   "cell_type": "code",
   "execution_count": 6,
   "metadata": {},
   "outputs": [],
   "source": [
    "#Generaremos 150 partidas artificiales. para ello creamos un array numpy de ceros de 150filasx2columnas\n",
    "artificiales = np.zeros((150,2),dtype=int)\n",
    "#rellenamos los valores de los jugadores A,B con un ciclo for y un generador de numeros pseudo aleatorios\n",
    "for i in range(artificiales.shape[0]):\n",
    "    #metemos i semillas para obtener reproducibilidad\n",
    "    np.random.seed(i)\n",
    "    #creamos dos numeros enteros aleatorios entre [0,143),  y los asignamos a la variable jugador\n",
    "    jugadorA = np.random.randint(1,143)\n",
    "    jugadorB = np.random.randint(1,142)\n",
    "    #si ambos valores son diferentes\n",
    "    if jugadorA != jugadorB:\n",
    "        #asigna a la fila i columna 0 el id del jugador A\n",
    "        artificiales[i][0] = jugadorA\n",
    "        #asigna a la fila i columna 1 el id del jugador B\n",
    "        artificiales[i][1] = jugadorB\n",
    "    #Si ambos ID son iguales, esto no es posible porque un jugador no puede jugar contra el mismo\n",
    "    else:\n",
    "        #escribe 0 en ambas columnas, esto nos servira para buscar posibles juegos que no son factibles y poder cambiarlos\n",
    "        artificiales[i][0] = 0\n",
    "        artificiales[i][1] = 0"
   ]
  },
  {
   "cell_type": "code",
   "execution_count": 7,
   "metadata": {},
   "outputs": [
    {
     "data": {
      "text/plain": [
       "(array([82, 82], dtype=int64), array([0, 1], dtype=int64))"
      ]
     },
     "execution_count": 7,
     "metadata": {},
     "output_type": "execute_result"
    }
   ],
   "source": [
    "#Buscamos en el array todos aquellos indices que contienen 0,0\n",
    "partidasInvalid = np.where(artificiales==0)\n",
    "#la salida nos dice que en la fila 82 tenemos unicamente una partida invalida en el array artificiales\n",
    "partidasInvalid"
   ]
  },
  {
   "cell_type": "code",
   "execution_count": 8,
   "metadata": {},
   "outputs": [
    {
     "data": {
      "text/plain": [
       "(array([], dtype=int64), array([], dtype=int64))"
      ]
     },
     "execution_count": 8,
     "metadata": {},
     "output_type": "execute_result"
    }
   ],
   "source": [
    "#asignamos manualmente una partida valida\n",
    "artificiales[82][0] = 25\n",
    "artificiales[82][1] = 114\n",
    "#comprobamos que realmente no hay otras partidas invalidas con la misma instruccion anterior\n",
    "#Buscamos en el array todos aquellos indices que contienen 0,0\n",
    "partidasInvalid = np.where(artificiales==0)\n",
    "#la salida nos dice que en la fila 82 tenemos unicamente una partida invalida en el array artificiales\n",
    "partidasInvalid"
   ]
  },
  {
   "cell_type": "code",
   "execution_count": 9,
   "metadata": {},
   "outputs": [],
   "source": [
    "#Usamos nuestro Naive entrenado para generar los resultados de las partidas artificiales\n",
    "resultadoArtificiales = naiveCat.predict(artificiales)"
   ]
  },
  {
   "cell_type": "code",
   "execution_count": 10,
   "metadata": {},
   "outputs": [
    {
     "data": {
      "text/html": [
       "<div>\n",
       "<style scoped>\n",
       "    .dataframe tbody tr th:only-of-type {\n",
       "        vertical-align: middle;\n",
       "    }\n",
       "\n",
       "    .dataframe tbody tr th {\n",
       "        vertical-align: top;\n",
       "    }\n",
       "\n",
       "    .dataframe thead th {\n",
       "        text-align: right;\n",
       "    }\n",
       "</style>\n",
       "<table border=\"1\" class=\"dataframe\">\n",
       "  <thead>\n",
       "    <tr style=\"text-align: right;\">\n",
       "      <th></th>\n",
       "      <th>ID A</th>\n",
       "      <th>ID B</th>\n",
       "      <th>Resultado</th>\n",
       "    </tr>\n",
       "  </thead>\n",
       "  <tbody>\n",
       "    <tr>\n",
       "      <th>0</th>\n",
       "      <td>48</td>\n",
       "      <td>118</td>\n",
       "      <td>1</td>\n",
       "    </tr>\n",
       "    <tr>\n",
       "      <th>1</th>\n",
       "      <td>38</td>\n",
       "      <td>141</td>\n",
       "      <td>1</td>\n",
       "    </tr>\n",
       "    <tr>\n",
       "      <th>2</th>\n",
       "      <td>16</td>\n",
       "      <td>73</td>\n",
       "      <td>1</td>\n",
       "    </tr>\n",
       "    <tr>\n",
       "      <th>3</th>\n",
       "      <td>107</td>\n",
       "      <td>132</td>\n",
       "      <td>1</td>\n",
       "    </tr>\n",
       "    <tr>\n",
       "      <th>4</th>\n",
       "      <td>123</td>\n",
       "      <td>130</td>\n",
       "      <td>0</td>\n",
       "    </tr>\n",
       "    <tr>\n",
       "      <th>...</th>\n",
       "      <td>...</td>\n",
       "      <td>...</td>\n",
       "      <td>...</td>\n",
       "    </tr>\n",
       "    <tr>\n",
       "      <th>145</th>\n",
       "      <td>38</td>\n",
       "      <td>107</td>\n",
       "      <td>1</td>\n",
       "    </tr>\n",
       "    <tr>\n",
       "      <th>146</th>\n",
       "      <td>99</td>\n",
       "      <td>29</td>\n",
       "      <td>1</td>\n",
       "    </tr>\n",
       "    <tr>\n",
       "      <th>147</th>\n",
       "      <td>24</td>\n",
       "      <td>31</td>\n",
       "      <td>1</td>\n",
       "    </tr>\n",
       "    <tr>\n",
       "      <th>148</th>\n",
       "      <td>84</td>\n",
       "      <td>20</td>\n",
       "      <td>1</td>\n",
       "    </tr>\n",
       "    <tr>\n",
       "      <th>149</th>\n",
       "      <td>50</td>\n",
       "      <td>29</td>\n",
       "      <td>0</td>\n",
       "    </tr>\n",
       "  </tbody>\n",
       "</table>\n",
       "<p>150 rows × 3 columns</p>\n",
       "</div>"
      ],
      "text/plain": [
       "     ID A  ID B  Resultado\n",
       "0      48   118          1\n",
       "1      38   141          1\n",
       "2      16    73          1\n",
       "3     107   132          1\n",
       "4     123   130          0\n",
       "..    ...   ...        ...\n",
       "145    38   107          1\n",
       "146    99    29          1\n",
       "147    24    31          1\n",
       "148    84    20          1\n",
       "149    50    29          0\n",
       "\n",
       "[150 rows x 3 columns]"
      ]
     },
     "execution_count": 10,
     "metadata": {},
     "output_type": "execute_result"
    }
   ],
   "source": [
    "#creamos un nuevo dataFrame con las columnas ID A e ID B a partir de los datos 'artificiales'\n",
    "juegosArtificiales = pd.DataFrame(data=artificiales, columns=['ID A', 'ID B'])\n",
    "#le pegamos la columna de la prediccion del modelo\n",
    "juegosArtificiales['Resultado'] = resultadoArtificiales\n",
    "#mostramos nuestro nuevo dataframe\n",
    "juegosArtificiales"
   ]
  },
  {
   "cell_type": "markdown",
   "metadata": {},
   "source": [
    "* Entrena y evalúa un clasificador de regresión logística (a mano). Para esto es necesario reparametrizar las entradas. Explica el procedimiento y la lógica de la reparametrización que realizaste. Selecciona y visualiza los valores de los parámetros.Grafica las curvas ROC y de precisión-exhaustividad y reporta sus áreas bajo la curva."
   ]
  },
  {
   "cell_type": "code",
   "execution_count": 11,
   "metadata": {},
   "outputs": [],
   "source": [
    "#Creamos un nuevo dataframe a partir de los dato entrenamiento que llamaremos prueba\n",
    "#este nuevo df vendra ordenado por los valores de la columna ID A e IDB, ojo este ordenamiento\n",
    "#no cambia los valores de cada columna y cada fila del df original todo esto se hace para comprobacion visual\n",
    "prueba = train.sort_values(by=['ID A', 'ID B'])\n",
    "#reseteamos los indices del nuevo df, pandas agregara una nueva columna index que contendra el valor de la\n",
    "#fila original en el df train, de nuevo esto se hace como comprobacion visual para ver que el sort no arruino\n",
    "#los datos originales\n",
    "prueba = prueba.reset_index()\n",
    "#guardamos el nuevo df a un documento prueba.csv para hacer inspeccion visual\n",
    "#esta inspeccion no es tan necesaria, pero para mi tranquilidad lo hice\n",
    "prueba.to_csv(r'prueba.csv', index = False)"
   ]
  },
  {
   "cell_type": "code",
   "execution_count": 12,
   "metadata": {},
   "outputs": [
    {
     "data": {
      "text/plain": [
       "array([[127,   1,  50,   1],\n",
       "       [297,   1, 118,   1],\n",
       "       [298,   1, 118,   1],\n",
       "       ...,\n",
       "       [255, 142,  19,   1],\n",
       "       [ 86, 142, 118,   1],\n",
       "       [ 92, 142, 138,   1]], dtype=int64)"
      ]
     },
     "execution_count": 12,
     "metadata": {},
     "output_type": "execute_result"
    }
   ],
   "source": [
    "#convertimos el df nuevo a un array numpy\n",
    "matrizPrueba = prueba.to_numpy()\n",
    "#creamos un nuevo array que contendra las estadisticas de los jugadores la primera columna sera el Id del jugador\n",
    "#La segunda tendra la cantidad de juegos jugados, la tercera la cantidad de juegos ganados y la cuarta contendra\n",
    "#la el winrate del jugador. el winrate lo definimos como juegos ganados/juegos jugados, el maximo es 1, y corresponde\n",
    "#a un jugador que gano todas las partidas, mientras que el minimo es cero y corresponde al jugador que perdio todas.\n",
    "estadistica = np.zeros((143,4), dtype=float)\n",
    "#definimos una variable auxiliar que nos ayudara a contar los juegos ganados de cada jugador\n",
    "auxiliar = 0\n",
    "#mostramos la matriz de prueba\n",
    "matrizPrueba"
   ]
  },
  {
   "cell_type": "code",
   "execution_count": 13,
   "metadata": {},
   "outputs": [
    {
     "data": {
      "text/html": [
       "<div>\n",
       "<style scoped>\n",
       "    .dataframe tbody tr th:only-of-type {\n",
       "        vertical-align: middle;\n",
       "    }\n",
       "\n",
       "    .dataframe tbody tr th {\n",
       "        vertical-align: top;\n",
       "    }\n",
       "\n",
       "    .dataframe thead th {\n",
       "        text-align: right;\n",
       "    }\n",
       "</style>\n",
       "<table border=\"1\" class=\"dataframe\">\n",
       "  <thead>\n",
       "    <tr style=\"text-align: right;\">\n",
       "      <th></th>\n",
       "      <th>ID A</th>\n",
       "      <th>ID B</th>\n",
       "      <th>Resultado</th>\n",
       "    </tr>\n",
       "  </thead>\n",
       "  <tbody>\n",
       "    <tr>\n",
       "      <th>0</th>\n",
       "      <td>3</td>\n",
       "      <td>4</td>\n",
       "      <td>1</td>\n",
       "    </tr>\n",
       "    <tr>\n",
       "      <th>1</th>\n",
       "      <td>7</td>\n",
       "      <td>8</td>\n",
       "      <td>1</td>\n",
       "    </tr>\n",
       "    <tr>\n",
       "      <th>2</th>\n",
       "      <td>40</td>\n",
       "      <td>10</td>\n",
       "      <td>1</td>\n",
       "    </tr>\n",
       "    <tr>\n",
       "      <th>3</th>\n",
       "      <td>16</td>\n",
       "      <td>17</td>\n",
       "      <td>1</td>\n",
       "    </tr>\n",
       "    <tr>\n",
       "      <th>4</th>\n",
       "      <td>8</td>\n",
       "      <td>18</td>\n",
       "      <td>1</td>\n",
       "    </tr>\n",
       "    <tr>\n",
       "      <th>...</th>\n",
       "      <td>...</td>\n",
       "      <td>...</td>\n",
       "      <td>...</td>\n",
       "    </tr>\n",
       "    <tr>\n",
       "      <th>314</th>\n",
       "      <td>80</td>\n",
       "      <td>97</td>\n",
       "      <td>1</td>\n",
       "    </tr>\n",
       "    <tr>\n",
       "      <th>315</th>\n",
       "      <td>81</td>\n",
       "      <td>45</td>\n",
       "      <td>0</td>\n",
       "    </tr>\n",
       "    <tr>\n",
       "      <th>316</th>\n",
       "      <td>35</td>\n",
       "      <td>43</td>\n",
       "      <td>1</td>\n",
       "    </tr>\n",
       "    <tr>\n",
       "      <th>317</th>\n",
       "      <td>87</td>\n",
       "      <td>23</td>\n",
       "      <td>0</td>\n",
       "    </tr>\n",
       "    <tr>\n",
       "      <th>318</th>\n",
       "      <td>70</td>\n",
       "      <td>43</td>\n",
       "      <td>1</td>\n",
       "    </tr>\n",
       "  </tbody>\n",
       "</table>\n",
       "<p>319 rows × 3 columns</p>\n",
       "</div>"
      ],
      "text/plain": [
       "     ID A  ID B  Resultado\n",
       "0       3     4          1\n",
       "1       7     8          1\n",
       "2      40    10          1\n",
       "3      16    17          1\n",
       "4       8    18          1\n",
       "..    ...   ...        ...\n",
       "314    80    97          1\n",
       "315    81    45          0\n",
       "316    35    43          1\n",
       "317    87    23          0\n",
       "318    70    43          1\n",
       "\n",
       "[319 rows x 3 columns]"
      ]
     },
     "execution_count": 13,
     "metadata": {},
     "output_type": "execute_result"
    }
   ],
   "source": [
    "#dado que no es necesario el ordenamiento, reseteamos la variable prueba a los valores originales de train\n",
    "prueba = train\n",
    "#convertimos este df a una matriz\n",
    "matrizPrueba = prueba.to_numpy()\n",
    "#cambiamos el tipo de la matriz a float ya que vamos a cambiar el ID por el winrate de cada jugador\n",
    "matrizPrueba = matrizPrueba.astype(float)\n",
    "#mostramos el df prueba\n",
    "prueba"
   ]
  },
  {
   "cell_type": "code",
   "execution_count": 14,
   "metadata": {},
   "outputs": [],
   "source": [
    "#lo mismo debe hacerse para los datos de validacion por lo que creamos un df prueba1 que contiene los valores de \n",
    "#validacion\n",
    "prueba1 = validacion\n",
    "#convertimos a una matriz\n",
    "matrizPrueba1 = prueba1.to_numpy()\n",
    "#cambiamos a float\n",
    "matrizPrueba1 = matrizPrueba1.astype(float)"
   ]
  },
  {
   "cell_type": "code",
   "execution_count": 15,
   "metadata": {},
   "outputs": [],
   "source": [
    "#para i que va desde el ID 1 hasta el 142 de paso 1\n",
    "for i in range (1,143,1):\n",
    "    #guarda en la variable a (es una tupla que se parece mas a una matriz cuadrada) los indices tanto \n",
    "    #de columnas como de filas de todos aquellos valores\n",
    "    #que son igual a i o al ID fijo en una iteracion del ciclo\n",
    "    a = np.where(xTrain ==i)\n",
    "    #guarda en la fila i columna cero de la matriz estadistica el valor (ID del jugador) i , es decir almacena el ID\n",
    "    estadistica[i][0] = i\n",
    "    #guarda en la fila i columna 1 de la matriz estadistica el valor de los juegos jugados por el jugador i, en su\n",
    "    #respectiva fila\n",
    "    estadistica[i][1] = a[0].shape[0]\n",
    "    #itera sobre los juegos jugados por el jugador i \n",
    "    for x in range(a[0].shape[0]):\n",
    "        #Si el resultado del juego en la posicion a[0][x] (filas de train) es igual a la posicion de la columna a[i][x]\n",
    "        #es decir si el jugador i gano el encuentro, por ejemplo suongamos que para una fila dada tenemos que A: 5 B:125\n",
    "        #y el resultado es 0, entonces dado que la posicion de la columna de A es 0 y 0 fue el resultado significa que \n",
    "        #A gnano, en caso contrario si el resultado es 1, entonces A no gano y 0 es diferente de 1, entonces A perdio\n",
    "        if yTrain[a[0][x]] == a[1][x]:\n",
    "            #suma uno a la variable auxiliar si el jugador que estamos analizando gano una partida\n",
    "            auxiliar += 1\n",
    "    #guarda en la fila i columna 2 de la matriz estadistica el valor de los juegos ganados por el jugador i, en su\n",
    "    #respectiva fila\n",
    "    estadistica[i][2] = auxiliar\n",
    "    #guarda en la fila i columna 2 de la matriz estadistica el valor de winrate por el jugador i, en su\n",
    "    #respectiva fila\n",
    "    estadistica[i][3] = estadistica[i][2]/estadistica[i][1]\n",
    "    #resetea la cuenta de juegos ganados ya que ahora vamos a iterar sobre otro jugador\n",
    "    auxiliar = 0"
   ]
  },
  {
   "cell_type": "code",
   "execution_count": 16,
   "metadata": {},
   "outputs": [
    {
     "data": {
      "text/plain": [
       "array([[0.00000000e+00, 0.00000000e+00, 0.00000000e+00, 0.00000000e+00],\n",
       "       [1.00000000e+00, 4.00000000e+00, 0.00000000e+00, 0.00000000e+00],\n",
       "       [2.00000000e+00, 2.00000000e+00, 2.00000000e+00, 1.00000000e+00],\n",
       "       [3.00000000e+00, 2.00000000e+00, 0.00000000e+00, 0.00000000e+00],\n",
       "       [4.00000000e+00, 2.00000000e+01, 1.70000000e+01, 8.50000000e-01],\n",
       "       [5.00000000e+00, 3.00000000e+00, 1.00000000e+00, 3.33333333e-01],\n",
       "       [6.00000000e+00, 3.00000000e+00, 3.00000000e+00, 1.00000000e+00],\n",
       "       [7.00000000e+00, 1.10000000e+01, 9.00000000e+00, 8.18181818e-01],\n",
       "       [8.00000000e+00, 1.50000000e+01, 5.00000000e+00, 3.33333333e-01],\n",
       "       [9.00000000e+00, 9.00000000e+00, 4.00000000e+00, 4.44444444e-01],\n",
       "       [1.00000000e+01, 3.00000000e+00, 2.00000000e+00, 6.66666667e-01],\n",
       "       [1.10000000e+01, 4.00000000e+00, 0.00000000e+00, 0.00000000e+00],\n",
       "       [1.20000000e+01, 1.40000000e+01, 1.00000000e+01, 7.14285714e-01],\n",
       "       [1.30000000e+01, 4.00000000e+00, 2.00000000e+00, 5.00000000e-01],\n",
       "       [1.40000000e+01, 7.00000000e+00, 2.00000000e+00, 2.85714286e-01],\n",
       "       [1.50000000e+01, 3.00000000e+00, 2.00000000e+00, 6.66666667e-01],\n",
       "       [1.60000000e+01, 4.00000000e+00, 3.00000000e+00, 7.50000000e-01],\n",
       "       [1.70000000e+01, 4.00000000e+00, 2.00000000e+00, 5.00000000e-01],\n",
       "       [1.80000000e+01, 2.80000000e+01, 1.90000000e+01, 6.78571429e-01],\n",
       "       [1.90000000e+01, 3.00000000e+00, 1.00000000e+00, 3.33333333e-01],\n",
       "       [2.00000000e+01, 3.00000000e+00, 1.00000000e+00, 3.33333333e-01],\n",
       "       [2.10000000e+01, 2.00000000e+00, 0.00000000e+00, 0.00000000e+00],\n",
       "       [2.20000000e+01, 5.00000000e+00, 1.00000000e+00, 2.00000000e-01],\n",
       "       [2.30000000e+01, 4.00000000e+00, 1.00000000e+00, 2.50000000e-01],\n",
       "       [2.40000000e+01, 2.00000000e+00, 2.00000000e+00, 1.00000000e+00],\n",
       "       [2.50000000e+01, 4.00000000e+00, 3.00000000e+00, 7.50000000e-01],\n",
       "       [2.60000000e+01, 5.00000000e+00, 0.00000000e+00, 0.00000000e+00],\n",
       "       [2.70000000e+01, 1.30000000e+01, 9.00000000e+00, 6.92307692e-01],\n",
       "       [2.80000000e+01, 5.00000000e+00, 3.00000000e+00, 6.00000000e-01],\n",
       "       [2.90000000e+01, 2.00000000e+00, 1.00000000e+00, 5.00000000e-01],\n",
       "       [3.00000000e+01, 1.10000000e+01, 2.00000000e+00, 1.81818182e-01],\n",
       "       [3.10000000e+01, 3.00000000e+00, 3.00000000e+00, 1.00000000e+00],\n",
       "       [3.20000000e+01, 5.00000000e+00, 4.00000000e+00, 8.00000000e-01],\n",
       "       [3.30000000e+01, 3.00000000e+00, 2.00000000e+00, 6.66666667e-01],\n",
       "       [3.40000000e+01, 2.00000000e+00, 2.00000000e+00, 1.00000000e+00],\n",
       "       [3.50000000e+01, 2.80000000e+01, 5.00000000e+00, 1.78571429e-01],\n",
       "       [3.60000000e+01, 1.00000000e+01, 1.00000000e+01, 1.00000000e+00],\n",
       "       [3.70000000e+01, 2.00000000e+00, 0.00000000e+00, 0.00000000e+00],\n",
       "       [3.80000000e+01, 2.00000000e+00, 0.00000000e+00, 0.00000000e+00],\n",
       "       [3.90000000e+01, 3.00000000e+00, 2.00000000e+00, 6.66666667e-01],\n",
       "       [4.00000000e+01, 2.00000000e+00, 0.00000000e+00, 0.00000000e+00],\n",
       "       [4.10000000e+01, 2.00000000e+00, 0.00000000e+00, 0.00000000e+00],\n",
       "       [4.20000000e+01, 3.00000000e+00, 3.00000000e+00, 1.00000000e+00],\n",
       "       [4.30000000e+01, 1.90000000e+01, 1.60000000e+01, 8.42105263e-01],\n",
       "       [4.40000000e+01, 3.00000000e+00, 2.00000000e+00, 6.66666667e-01],\n",
       "       [4.50000000e+01, 6.00000000e+00, 1.00000000e+00, 1.66666667e-01],\n",
       "       [4.60000000e+01, 2.00000000e+00, 0.00000000e+00, 0.00000000e+00],\n",
       "       [4.70000000e+01, 2.00000000e+00, 0.00000000e+00, 0.00000000e+00],\n",
       "       [4.80000000e+01, 2.00000000e+00, 1.00000000e+00, 5.00000000e-01],\n",
       "       [4.90000000e+01, 6.00000000e+00, 2.00000000e+00, 3.33333333e-01],\n",
       "       [5.00000000e+01, 3.00000000e+00, 3.00000000e+00, 1.00000000e+00],\n",
       "       [5.10000000e+01, 2.00000000e+00, 0.00000000e+00, 0.00000000e+00],\n",
       "       [5.20000000e+01, 3.00000000e+00, 2.00000000e+00, 6.66666667e-01],\n",
       "       [5.30000000e+01, 2.00000000e+00, 0.00000000e+00, 0.00000000e+00],\n",
       "       [5.40000000e+01, 2.00000000e+00, 1.00000000e+00, 5.00000000e-01],\n",
       "       [5.50000000e+01, 6.00000000e+00, 4.00000000e+00, 6.66666667e-01],\n",
       "       [5.60000000e+01, 2.00000000e+00, 1.00000000e+00, 5.00000000e-01],\n",
       "       [5.70000000e+01, 4.00000000e+00, 2.00000000e+00, 5.00000000e-01],\n",
       "       [5.80000000e+01, 2.00000000e+00, 1.00000000e+00, 5.00000000e-01],\n",
       "       [5.90000000e+01, 4.00000000e+00, 2.00000000e+00, 5.00000000e-01],\n",
       "       [6.00000000e+01, 2.00000000e+00, 1.00000000e+00, 5.00000000e-01],\n",
       "       [6.10000000e+01, 4.00000000e+00, 3.00000000e+00, 7.50000000e-01],\n",
       "       [6.20000000e+01, 3.00000000e+00, 2.00000000e+00, 6.66666667e-01],\n",
       "       [6.30000000e+01, 2.00000000e+00, 0.00000000e+00, 0.00000000e+00],\n",
       "       [6.40000000e+01, 5.00000000e+00, 1.00000000e+00, 2.00000000e-01],\n",
       "       [6.50000000e+01, 2.00000000e+00, 2.00000000e+00, 1.00000000e+00],\n",
       "       [6.60000000e+01, 2.00000000e+00, 0.00000000e+00, 0.00000000e+00],\n",
       "       [6.70000000e+01, 5.00000000e+00, 2.00000000e+00, 4.00000000e-01],\n",
       "       [6.80000000e+01, 2.00000000e+00, 1.00000000e+00, 5.00000000e-01],\n",
       "       [6.90000000e+01, 2.00000000e+00, 0.00000000e+00, 0.00000000e+00],\n",
       "       [7.00000000e+01, 4.00000000e+00, 1.00000000e+00, 2.50000000e-01],\n",
       "       [7.10000000e+01, 2.00000000e+00, 2.00000000e+00, 1.00000000e+00],\n",
       "       [7.20000000e+01, 3.00000000e+00, 2.00000000e+00, 6.66666667e-01],\n",
       "       [7.30000000e+01, 2.00000000e+00, 1.00000000e+00, 5.00000000e-01],\n",
       "       [7.40000000e+01, 2.00000000e+00, 2.00000000e+00, 1.00000000e+00],\n",
       "       [7.50000000e+01, 4.00000000e+00, 0.00000000e+00, 0.00000000e+00],\n",
       "       [7.60000000e+01, 6.00000000e+00, 3.00000000e+00, 5.00000000e-01],\n",
       "       [7.70000000e+01, 2.00000000e+00, 1.00000000e+00, 5.00000000e-01],\n",
       "       [7.80000000e+01, 4.00000000e+00, 2.00000000e+00, 5.00000000e-01],\n",
       "       [7.90000000e+01, 2.00000000e+00, 1.00000000e+00, 5.00000000e-01],\n",
       "       [8.00000000e+01, 4.00000000e+00, 2.00000000e+00, 5.00000000e-01],\n",
       "       [8.10000000e+01, 5.00000000e+00, 2.00000000e+00, 4.00000000e-01],\n",
       "       [8.20000000e+01, 3.00000000e+00, 0.00000000e+00, 0.00000000e+00],\n",
       "       [8.30000000e+01, 3.00000000e+00, 1.00000000e+00, 3.33333333e-01],\n",
       "       [8.40000000e+01, 3.00000000e+00, 0.00000000e+00, 0.00000000e+00],\n",
       "       [8.50000000e+01, 4.00000000e+00, 4.00000000e+00, 1.00000000e+00],\n",
       "       [8.60000000e+01, 3.00000000e+00, 2.00000000e+00, 6.66666667e-01],\n",
       "       [8.70000000e+01, 4.00000000e+00, 3.00000000e+00, 7.50000000e-01],\n",
       "       [8.80000000e+01, 9.00000000e+00, 2.00000000e+00, 2.22222222e-01],\n",
       "       [8.90000000e+01, 3.00000000e+00, 2.00000000e+00, 6.66666667e-01],\n",
       "       [9.00000000e+01, 2.00000000e+00, 2.00000000e+00, 1.00000000e+00],\n",
       "       [9.10000000e+01, 2.00000000e+00, 2.00000000e+00, 1.00000000e+00],\n",
       "       [9.20000000e+01, 2.00000000e+00, 0.00000000e+00, 0.00000000e+00],\n",
       "       [9.30000000e+01, 3.00000000e+00, 2.00000000e+00, 6.66666667e-01],\n",
       "       [9.40000000e+01, 2.00000000e+00, 2.00000000e+00, 1.00000000e+00],\n",
       "       [9.50000000e+01, 4.00000000e+00, 2.00000000e+00, 5.00000000e-01],\n",
       "       [9.60000000e+01, 2.00000000e+00, 1.00000000e+00, 5.00000000e-01],\n",
       "       [9.70000000e+01, 8.00000000e+00, 5.00000000e+00, 6.25000000e-01],\n",
       "       [9.80000000e+01, 2.00000000e+00, 2.00000000e+00, 1.00000000e+00],\n",
       "       [9.90000000e+01, 2.00000000e+00, 1.00000000e+00, 5.00000000e-01],\n",
       "       [1.00000000e+02, 2.00000000e+00, 1.00000000e+00, 5.00000000e-01],\n",
       "       [1.01000000e+02, 8.00000000e+00, 3.00000000e+00, 3.75000000e-01],\n",
       "       [1.02000000e+02, 3.00000000e+00, 1.00000000e+00, 3.33333333e-01],\n",
       "       [1.03000000e+02, 2.00000000e+00, 1.00000000e+00, 5.00000000e-01],\n",
       "       [1.04000000e+02, 2.00000000e+00, 0.00000000e+00, 0.00000000e+00],\n",
       "       [1.05000000e+02, 1.90000000e+01, 1.20000000e+01, 6.31578947e-01],\n",
       "       [1.06000000e+02, 4.00000000e+00, 1.00000000e+00, 2.50000000e-01],\n",
       "       [1.07000000e+02, 4.00000000e+00, 1.00000000e+00, 2.50000000e-01],\n",
       "       [1.08000000e+02, 2.00000000e+00, 0.00000000e+00, 0.00000000e+00],\n",
       "       [1.09000000e+02, 2.00000000e+00, 1.00000000e+00, 5.00000000e-01],\n",
       "       [1.10000000e+02, 3.00000000e+00, 2.00000000e+00, 6.66666667e-01],\n",
       "       [1.11000000e+02, 2.00000000e+00, 0.00000000e+00, 0.00000000e+00],\n",
       "       [1.12000000e+02, 4.00000000e+00, 3.00000000e+00, 7.50000000e-01],\n",
       "       [1.13000000e+02, 4.00000000e+00, 0.00000000e+00, 0.00000000e+00],\n",
       "       [1.14000000e+02, 2.00000000e+00, 2.00000000e+00, 1.00000000e+00],\n",
       "       [1.15000000e+02, 2.00000000e+00, 1.00000000e+00, 5.00000000e-01],\n",
       "       [1.16000000e+02, 1.00000000e+01, 9.00000000e+00, 9.00000000e-01],\n",
       "       [1.17000000e+02, 2.00000000e+00, 1.00000000e+00, 5.00000000e-01],\n",
       "       [1.18000000e+02, 4.00000000e+00, 4.00000000e+00, 1.00000000e+00],\n",
       "       [1.19000000e+02, 3.00000000e+00, 0.00000000e+00, 0.00000000e+00],\n",
       "       [1.20000000e+02, 6.00000000e+00, 3.00000000e+00, 5.00000000e-01],\n",
       "       [1.21000000e+02, 2.00000000e+00, 2.00000000e+00, 1.00000000e+00],\n",
       "       [1.22000000e+02, 6.00000000e+00, 4.00000000e+00, 6.66666667e-01],\n",
       "       [1.23000000e+02, 2.00000000e+00, 0.00000000e+00, 0.00000000e+00],\n",
       "       [1.24000000e+02, 3.00000000e+00, 2.00000000e+00, 6.66666667e-01],\n",
       "       [1.25000000e+02, 4.00000000e+00, 0.00000000e+00, 0.00000000e+00],\n",
       "       [1.26000000e+02, 2.00000000e+00, 1.00000000e+00, 5.00000000e-01],\n",
       "       [1.27000000e+02, 3.00000000e+00, 2.00000000e+00, 6.66666667e-01],\n",
       "       [1.28000000e+02, 3.00000000e+00, 0.00000000e+00, 0.00000000e+00],\n",
       "       [1.29000000e+02, 2.00000000e+00, 2.00000000e+00, 1.00000000e+00],\n",
       "       [1.30000000e+02, 1.00000000e+01, 1.00000000e+00, 1.00000000e-01],\n",
       "       [1.31000000e+02, 6.00000000e+00, 4.00000000e+00, 6.66666667e-01],\n",
       "       [1.32000000e+02, 6.00000000e+00, 2.00000000e+00, 3.33333333e-01],\n",
       "       [1.33000000e+02, 2.00000000e+00, 0.00000000e+00, 0.00000000e+00],\n",
       "       [1.34000000e+02, 2.00000000e+00, 2.00000000e+00, 1.00000000e+00],\n",
       "       [1.35000000e+02, 5.00000000e+00, 4.00000000e+00, 8.00000000e-01],\n",
       "       [1.36000000e+02, 2.00000000e+00, 0.00000000e+00, 0.00000000e+00],\n",
       "       [1.37000000e+02, 2.00000000e+00, 1.00000000e+00, 5.00000000e-01],\n",
       "       [1.38000000e+02, 7.00000000e+00, 2.00000000e+00, 2.85714286e-01],\n",
       "       [1.39000000e+02, 6.00000000e+00, 4.00000000e+00, 6.66666667e-01],\n",
       "       [1.40000000e+02, 3.00000000e+00, 0.00000000e+00, 0.00000000e+00],\n",
       "       [1.41000000e+02, 3.00000000e+00, 0.00000000e+00, 0.00000000e+00],\n",
       "       [1.42000000e+02, 3.00000000e+00, 0.00000000e+00, 0.00000000e+00]])"
      ]
     },
     "execution_count": 16,
     "metadata": {},
     "output_type": "execute_result"
    }
   ],
   "source": [
    "#muestra matriz de estadistica para inspeccion visual\n",
    "estadistica"
   ]
  },
  {
   "cell_type": "code",
   "execution_count": 17,
   "metadata": {},
   "outputs": [],
   "source": [
    "#Con la matriz estadistica vamos a cambiar los ID por los winrates en la matriz de prueba\n",
    "#iteramos sobre todos los ID\n",
    "for i in range(1,143,1):\n",
    "    #guarda en la variable a (es una tupla que se parece mas a una matriz cuadrada) los indices tanto \n",
    "    #de columnas como de filas de todos aquellos valores\n",
    "    #que son igual a i o al ID fijo en una iteracion del ciclo de los valores x de entrenamiento\n",
    "    a = np.where(xTrain ==i)\n",
    "    #guarda en la variable b (es una tupla que se parece mas a una matriz cuadrada) los indices tanto \n",
    "    #de columnas como de filas de todos aquellos valores\n",
    "    #que son igual a i o al ID fijo en una iteracion del ciclo de los valores x de validacion\n",
    "    b = np.where(xValid ==i)\n",
    "    #itera sobre los juegos jugados por el jugador i\n",
    "    for x in range(a[1].shape[0]):\n",
    "        #En la posicion a[0][x] de la fila de xTrain y en la posicion a[1][x] de la columna de xTrain\n",
    "        #almacena el winrate del jugador i, es decir busca los indices del jugador i y cambia su ID,\n",
    "        #con ayuda de esos indices por su winrate que esta almacenado en la fila i columna 3 de la matriz estadistica\n",
    "        matrizPrueba[a[0][x]][a[1][x]] = estadistica[i][3]\n",
    "    #haz lo mismo pero para los valores de validacion\n",
    "    for y in range(b[1].shape[0]):\n",
    "        matrizPrueba1[b[0][y]][b[1][y]] = estadistica[i][3]"
   ]
  },
  {
   "cell_type": "code",
   "execution_count": 18,
   "metadata": {},
   "outputs": [
    {
     "data": {
      "text/plain": [
       "array([[0.        , 0.85      , 1.        ],\n",
       "       [0.81818182, 0.33333333, 1.        ],\n",
       "       [0.        , 0.66666667, 1.        ],\n",
       "       [0.75      , 0.5       , 1.        ],\n",
       "       [0.33333333, 0.67857143, 1.        ],\n",
       "       [0.75      , 0.        , 0.        ],\n",
       "       [0.33333333, 0.5       , 0.        ],\n",
       "       [0.        , 0.2       , 1.        ],\n",
       "       [0.5       , 0.25      , 1.        ],\n",
       "       [1.        , 0.71428571, 0.        ],\n",
       "       [0.        , 0.71428571, 1.        ],\n",
       "       [0.69230769, 0.67857143, 1.        ],\n",
       "       [0.6       , 0.5       , 0.        ],\n",
       "       [0.71428571, 0.69230769, 0.        ],\n",
       "       [0.69230769, 0.17857143, 0.        ],\n",
       "       [0.69230769, 0.17857143, 0.        ],\n",
       "       [0.69230769, 0.17857143, 0.        ],\n",
       "       [0.        , 0.5       , 1.        ],\n",
       "       [0.        , 0.66666667, 1.        ],\n",
       "       [1.        , 0.84210526, 0.        ],\n",
       "       [0.5       , 0.33333333, 0.        ],\n",
       "       [0.        , 0.5       , 1.        ],\n",
       "       [0.71428571, 0.25      , 0.        ],\n",
       "       [1.        , 0.        , 0.        ],\n",
       "       [0.67857143, 0.5       , 0.        ],\n",
       "       [0.66666667, 0.        , 0.        ],\n",
       "       [1.        , 0.        , 0.        ],\n",
       "       [0.17857143, 0.84210526, 0.        ],\n",
       "       [0.66666667, 0.        , 0.        ],\n",
       "       [0.5       , 0.85      , 1.        ],\n",
       "       [0.5       , 0.5       , 0.        ],\n",
       "       [0.17857143, 0.        , 0.        ],\n",
       "       [0.33333333, 0.81818182, 1.        ],\n",
       "       [1.        , 0.71428571, 0.        ],\n",
       "       [0.        , 0.5       , 1.        ],\n",
       "       [0.75      , 0.5       , 0.        ],\n",
       "       [0.67857143, 0.5       , 0.        ],\n",
       "       [1.        , 0.        , 0.        ],\n",
       "       [0.66666667, 0.5       , 1.        ],\n",
       "       [1.        , 0.5       , 0.        ],\n",
       "       [0.5       , 0.        , 0.        ],\n",
       "       [0.85      , 0.22222222, 0.        ],\n",
       "       [0.        , 0.66666667, 1.        ],\n",
       "       [0.5       , 0.67857143, 1.        ],\n",
       "       [0.5       , 0.625     , 1.        ],\n",
       "       [0.5       , 0.5       , 1.        ],\n",
       "       [0.5       , 0.33333333, 0.        ],\n",
       "       [0.33333333, 0.5       , 0.        ],\n",
       "       [0.        , 0.63157895, 1.        ],\n",
       "       [0.85      , 0.25      , 0.        ],\n",
       "       [0.81818182, 0.25      , 0.        ],\n",
       "       [0.85      , 0.        , 0.        ],\n",
       "       [0.        , 0.66666667, 1.        ],\n",
       "       [0.5       , 0.22222222, 1.        ],\n",
       "       [0.33333333, 0.        , 0.        ],\n",
       "       [0.5       , 0.9       , 1.        ],\n",
       "       [0.        , 1.        , 1.        ],\n",
       "       [0.66666667, 0.66666667, 1.        ],\n",
       "       [0.5       , 0.66666667, 0.        ],\n",
       "       [0.        , 0.66666667, 1.        ],\n",
       "       [0.1       , 0.9       , 0.        ],\n",
       "       [0.66666667, 0.33333333, 1.        ],\n",
       "       [0.        , 0.66666667, 1.        ],\n",
       "       [0.        , 1.        , 1.        ],\n",
       "       [0.66666667, 0.33333333, 0.        ],\n",
       "       [0.9       , 0.1       , 0.        ],\n",
       "       [1.        , 0.66666667, 0.        ],\n",
       "       [0.33333333, 0.66666667, 1.        ],\n",
       "       [0.9       , 0.1       , 0.        ],\n",
       "       [0.33333333, 0.66666667, 1.        ],\n",
       "       [0.66666667, 0.1       , 0.        ],\n",
       "       [0.28571429, 0.625     , 1.        ],\n",
       "       [0.9       , 0.1       , 0.        ],\n",
       "       [0.66666667, 0.22222222, 1.        ],\n",
       "       [0.85      , 0.        , 0.        ],\n",
       "       [0.66666667, 0.22222222, 0.        ],\n",
       "       [0.1       , 0.9       , 1.        ],\n",
       "       [0.1       , 0.9       , 1.        ],\n",
       "       [0.        , 1.        , 1.        ],\n",
       "       [0.33333333, 1.        , 1.        ],\n",
       "       [0.66666667, 0.66666667, 1.        ],\n",
       "       [0.66666667, 0.28571429, 0.        ],\n",
       "       [0.66666667, 0.44444444, 1.        ],\n",
       "       [0.67857143, 0.        , 0.        ],\n",
       "       [1.        , 0.        , 0.        ],\n",
       "       [0.75      , 0.28571429, 0.        ],\n",
       "       [0.        , 1.        , 1.        ],\n",
       "       [1.        , 0.5       , 0.        ],\n",
       "       [0.81818182, 0.22222222, 0.        ],\n",
       "       [1.        , 0.        , 0.        ],\n",
       "       [0.28571429, 0.71428571, 0.        ],\n",
       "       [0.85      , 0.        , 0.        ],\n",
       "       [0.        , 0.28571429, 1.        ],\n",
       "       [0.375     , 0.71428571, 1.        ],\n",
       "       [0.71428571, 0.84210526, 1.        ],\n",
       "       [0.25      , 1.        , 1.        ],\n",
       "       [0.        , 0.67857143, 1.        ],\n",
       "       [0.75      , 0.625     , 0.        ],\n",
       "       [0.        , 0.71428571, 1.        ],\n",
       "       [0.25      , 0.        , 0.        ],\n",
       "       [0.        , 1.        , 1.        ],\n",
       "       [0.33333333, 0.28571429, 1.        ],\n",
       "       [0.66666667, 0.        , 0.        ],\n",
       "       [0.66666667, 0.18181818, 0.        ],\n",
       "       [0.25      , 1.        , 1.        ],\n",
       "       [0.25      , 1.        , 1.        ],\n",
       "       [1.        , 0.        , 0.        ],\n",
       "       [0.5       , 0.28571429, 0.        ],\n",
       "       [0.4       , 0.18181818, 0.        ],\n",
       "       [0.66666667, 0.67857143, 0.        ],\n",
       "       [0.18181818, 0.75      , 1.        ],\n",
       "       [0.66666667, 1.        , 1.        ],\n",
       "       [1.        , 0.        , 0.        ],\n",
       "       [0.66666667, 0.28571429, 0.        ],\n",
       "       [0.66666667, 0.16666667, 0.        ],\n",
       "       [0.18181818, 0.75      , 0.        ],\n",
       "       [0.        , 0.375     , 1.        ],\n",
       "       [1.        , 0.        , 0.        ],\n",
       "       [0.18181818, 0.66666667, 1.        ],\n",
       "       [0.5       , 1.        , 1.        ],\n",
       "       [0.18181818, 0.66666667, 1.        ],\n",
       "       [0.5       , 0.5       , 1.        ],\n",
       "       [0.5       , 0.        , 0.        ],\n",
       "       [0.18181818, 0.75      , 1.        ],\n",
       "       [0.18181818, 0.5       , 1.        ],\n",
       "       [1.        , 0.        , 0.        ],\n",
       "       [0.        , 0.66666667, 1.        ],\n",
       "       [0.        , 1.        , 1.        ],\n",
       "       [0.81818182, 0.75      , 1.        ],\n",
       "       [0.        , 0.5       , 1.        ],\n",
       "       [0.        , 0.25      , 1.        ],\n",
       "       [0.18181818, 0.66666667, 1.        ],\n",
       "       [0.66666667, 0.67857143, 0.        ],\n",
       "       [0.66666667, 0.        , 0.        ],\n",
       "       [0.67857143, 0.66666667, 1.        ],\n",
       "       [0.75      , 1.        , 1.        ],\n",
       "       [0.66666667, 0.85      , 1.        ],\n",
       "       [0.        , 0.5       , 1.        ],\n",
       "       [0.67857143, 0.75      , 1.        ],\n",
       "       [0.18181818, 1.        , 1.        ],\n",
       "       [0.        , 0.81818182, 1.        ],\n",
       "       [0.5       , 1.        , 1.        ],\n",
       "       [0.        , 0.81818182, 1.        ],\n",
       "       [0.5       , 0.8       , 1.        ],\n",
       "       [0.85      , 0.5       , 0.        ],\n",
       "       [0.5       , 0.4       , 1.        ],\n",
       "       [0.5       , 0.44444444, 0.        ],\n",
       "       [0.        , 0.6       , 1.        ],\n",
       "       [0.4       , 1.        , 1.        ],\n",
       "       [0.66666667, 0.5       , 0.        ],\n",
       "       [1.        , 0.        , 0.        ],\n",
       "       [0.        , 0.75      , 1.        ],\n",
       "       [0.5       , 0.4       , 0.        ],\n",
       "       [0.66666667, 0.        , 0.        ],\n",
       "       [1.        , 0.        , 0.        ],\n",
       "       [0.66666667, 0.5       , 0.        ],\n",
       "       [0.5       , 0.25      , 0.        ],\n",
       "       [1.        , 0.66666667, 0.        ],\n",
       "       [1.        , 0.5       , 0.        ],\n",
       "       [1.        , 0.        , 0.        ],\n",
       "       [0.5       , 0.        , 0.        ],\n",
       "       [0.625     , 0.33333333, 1.        ],\n",
       "       [0.84210526, 0.17857143, 0.        ],\n",
       "       [0.17857143, 0.84210526, 0.        ],\n",
       "       [0.5       , 0.67857143, 0.        ],\n",
       "       [1.        , 0.5       , 0.        ],\n",
       "       [0.2       , 0.85      , 1.        ],\n",
       "       [0.2       , 0.67857143, 0.        ],\n",
       "       [0.75      , 0.5       , 0.        ],\n",
       "       [0.75      , 0.        , 0.        ],\n",
       "       [0.5       , 0.6       , 0.        ],\n",
       "       [0.        , 1.        , 1.        ],\n",
       "       [0.67857143, 0.        , 0.        ],\n",
       "       [1.        , 0.63157895, 0.        ],\n",
       "       [0.67857143, 0.        , 0.        ],\n",
       "       [0.63157895, 0.81818182, 1.        ],\n",
       "       [0.63157895, 0.67857143, 1.        ],\n",
       "       [0.        , 0.63157895, 1.        ],\n",
       "       [0.66666667, 0.5       , 0.        ],\n",
       "       [0.        , 0.18181818, 1.        ],\n",
       "       [0.66666667, 0.1       , 0.        ],\n",
       "       [1.        , 0.66666667, 0.        ],\n",
       "       [0.28571429, 0.71428571, 1.        ],\n",
       "       [0.69230769, 0.67857143, 1.        ],\n",
       "       [0.28571429, 0.71428571, 1.        ],\n",
       "       [0.28571429, 0.71428571, 1.        ],\n",
       "       [0.33333333, 0.75      , 1.        ],\n",
       "       [0.5       , 0.        , 0.        ],\n",
       "       [0.66666667, 0.66666667, 1.        ],\n",
       "       [1.        , 0.16666667, 0.        ],\n",
       "       [0.66666667, 0.33333333, 1.        ],\n",
       "       [0.66666667, 0.33333333, 0.        ],\n",
       "       [1.        , 0.44444444, 0.        ],\n",
       "       [0.17857143, 0.84210526, 1.        ],\n",
       "       [0.33333333, 0.67857143, 1.        ],\n",
       "       [0.        , 0.66666667, 1.        ],\n",
       "       [1.        , 0.5       , 0.        ],\n",
       "       [0.22222222, 0.81818182, 1.        ],\n",
       "       [0.5       , 0.85      , 0.        ],\n",
       "       [0.33333333, 0.625     , 1.        ],\n",
       "       [0.63157895, 0.375     , 1.        ],\n",
       "       [0.25      , 0.63157895, 1.        ],\n",
       "       [0.        , 1.        , 1.        ],\n",
       "       [0.2       , 0.63157895, 1.        ],\n",
       "       [0.63157895, 0.375     , 0.        ],\n",
       "       [0.22222222, 0.66666667, 1.        ],\n",
       "       [0.22222222, 0.66666667, 1.        ],\n",
       "       [1.        , 0.8       , 0.        ],\n",
       "       [0.28571429, 0.71428571, 1.        ],\n",
       "       [0.63157895, 0.375     , 1.        ],\n",
       "       [0.28571429, 0.71428571, 1.        ],\n",
       "       [0.8       , 0.5       , 0.        ],\n",
       "       [0.28571429, 0.375     , 0.        ],\n",
       "       [0.16666667, 0.44444444, 0.        ],\n",
       "       [0.2       , 0.63157895, 1.        ],\n",
       "       [0.2       , 0.63157895, 1.        ],\n",
       "       [0.2       , 0.63157895, 1.        ],\n",
       "       [0.66666667, 0.4       , 0.        ],\n",
       "       [0.4       , 0.66666667, 0.        ],\n",
       "       [0.17857143, 0.25      , 0.        ],\n",
       "       [0.625     , 0.33333333, 1.        ],\n",
       "       [0.81818182, 0.33333333, 0.        ],\n",
       "       [0.33333333, 0.67857143, 1.        ],\n",
       "       [0.33333333, 0.67857143, 0.        ],\n",
       "       [0.33333333, 0.67857143, 0.        ],\n",
       "       [0.33333333, 0.67857143, 1.        ],\n",
       "       [0.17857143, 0.84210526, 1.        ],\n",
       "       [0.8       , 0.33333333, 0.        ],\n",
       "       [0.5       , 0.8       , 0.        ],\n",
       "       [0.17857143, 0.66666667, 1.        ],\n",
       "       [1.        , 0.5       , 0.        ],\n",
       "       [0.17857143, 0.66666667, 0.        ],\n",
       "       [1.        , 0.85      , 0.        ],\n",
       "       [0.75      , 0.        , 0.        ],\n",
       "       [0.6       , 0.5       , 1.        ],\n",
       "       [0.2       , 0.85      , 1.        ],\n",
       "       [1.        , 0.5       , 0.        ],\n",
       "       [0.        , 0.6       , 1.        ],\n",
       "       [0.        , 0.63157895, 1.        ],\n",
       "       [0.4       , 0.9       , 1.        ],\n",
       "       [0.5       , 0.8       , 1.        ],\n",
       "       [0.4       , 1.        , 1.        ],\n",
       "       [0.17857143, 0.84210526, 1.        ],\n",
       "       [0.33333333, 0.85      , 1.        ],\n",
       "       [0.33333333, 0.85      , 0.        ],\n",
       "       [0.33333333, 0.85      , 1.        ],\n",
       "       [0.67857143, 0.33333333, 0.        ],\n",
       "       [0.66666667, 0.25      , 1.        ],\n",
       "       [0.66666667, 0.66666667, 1.        ],\n",
       "       [0.17857143, 0.84210526, 1.        ],\n",
       "       [0.17857143, 0.84210526, 1.        ],\n",
       "       [0.33333333, 0.5       , 1.        ],\n",
       "       [0.        , 0.5       , 1.        ],\n",
       "       [0.63157895, 0.375     , 0.        ],\n",
       "       [0.66666667, 0.63157895, 1.        ],\n",
       "       [0.        , 0.33333333, 1.        ],\n",
       "       [1.        , 0.        , 0.        ],\n",
       "       [0.33333333, 0.5       , 0.        ],\n",
       "       [0.33333333, 0.5       , 1.        ],\n",
       "       [0.4       , 0.44444444, 1.        ],\n",
       "       [0.16666667, 0.44444444, 1.        ],\n",
       "       [1.        , 0.44444444, 0.        ],\n",
       "       [0.33333333, 0.8       , 1.        ],\n",
       "       [1.        , 0.25      , 0.        ],\n",
       "       [0.5       , 0.        , 0.        ],\n",
       "       [0.625     , 0.33333333, 0.        ],\n",
       "       [0.8       , 0.        , 0.        ],\n",
       "       [0.5       , 0.33333333, 0.        ],\n",
       "       [0.8       , 0.        , 0.        ],\n",
       "       [0.        , 0.84210526, 1.        ],\n",
       "       [0.        , 0.84210526, 1.        ],\n",
       "       [0.17857143, 0.84210526, 1.        ],\n",
       "       [0.17857143, 0.84210526, 1.        ],\n",
       "       [1.        , 0.17857143, 0.        ],\n",
       "       [0.17857143, 0.84210526, 1.        ],\n",
       "       [0.33333333, 0.85      , 1.        ],\n",
       "       [0.33333333, 0.67857143, 0.        ],\n",
       "       [0.33333333, 0.67857143, 1.        ],\n",
       "       [1.        , 0.5       , 0.        ],\n",
       "       [0.81818182, 0.5       , 0.        ],\n",
       "       [0.75      , 0.44444444, 1.        ],\n",
       "       [1.        , 0.        , 0.        ],\n",
       "       [0.63157895, 0.375     , 0.        ],\n",
       "       [0.66666667, 0.63157895, 0.        ],\n",
       "       [0.75      , 0.5       , 1.        ],\n",
       "       [0.5       , 0.5       , 0.        ],\n",
       "       [0.5       , 0.44444444, 0.        ],\n",
       "       [0.22222222, 0.75      , 1.        ],\n",
       "       [0.5       , 1.        , 1.        ],\n",
       "       [0.2       , 0.85      , 1.        ],\n",
       "       [0.85      , 0.        , 0.        ],\n",
       "       [0.17857143, 0.84210526, 1.        ],\n",
       "       [0.17857143, 0.84210526, 1.        ],\n",
       "       [0.1       , 0.9       , 1.        ],\n",
       "       [0.66666667, 0.8       , 1.        ],\n",
       "       [0.1       , 0.9       , 1.        ],\n",
       "       [0.16666667, 0.5       , 1.        ],\n",
       "       [0.        , 1.        , 1.        ],\n",
       "       [0.        , 1.        , 1.        ],\n",
       "       [0.5       , 0.        , 0.        ],\n",
       "       [0.66666667, 0.63157895, 0.        ],\n",
       "       [0.33333333, 0.67857143, 1.        ],\n",
       "       [0.66666667, 0.5       , 1.        ],\n",
       "       [0.2       , 0.67857143, 1.        ],\n",
       "       [0.69230769, 0.17857143, 0.        ],\n",
       "       [0.69230769, 0.17857143, 0.        ],\n",
       "       [0.69230769, 0.17857143, 0.        ],\n",
       "       [0.69230769, 0.17857143, 0.        ],\n",
       "       [0.69230769, 0.17857143, 0.        ],\n",
       "       [0.69230769, 0.17857143, 0.        ],\n",
       "       [0.69230769, 0.67857143, 1.        ],\n",
       "       [0.        , 0.85      , 1.        ],\n",
       "       [0.66666667, 0.5       , 1.        ],\n",
       "       [0.66666667, 0.        , 0.        ],\n",
       "       [0.5       , 0.625     , 1.        ],\n",
       "       [0.4       , 0.16666667, 0.        ],\n",
       "       [0.17857143, 0.84210526, 1.        ],\n",
       "       [0.75      , 0.25      , 0.        ],\n",
       "       [0.25      , 0.84210526, 1.        ]])"
      ]
     },
     "execution_count": 18,
     "metadata": {},
     "output_type": "execute_result"
    }
   ],
   "source": [
    "#muestra matrizPrueba para corroborar que los cambios del ID con el winrate se hicieron bien\n",
    "#esta comprobacion se hace visual usando el df train, el archivo .csv y la matriz estadistica\n",
    "matrizPrueba"
   ]
  },
  {
   "cell_type": "code",
   "execution_count": 19,
   "metadata": {},
   "outputs": [
    {
     "data": {
      "text/plain": [
       "array([[0.17857143, 0.84210526, 1.        ],\n",
       "       [0.16666667, 0.44444444, 0.        ],\n",
       "       [0.66666667, 0.25      , 0.        ],\n",
       "       [0.17857143, 0.84210526, 1.        ],\n",
       "       [0.17857143, 0.84210526, 1.        ],\n",
       "       [0.33333333, 0.5       , 0.        ],\n",
       "       [0.        , 0.5       , 1.        ],\n",
       "       [0.        , 0.66666667, 1.        ],\n",
       "       [1.        , 0.44444444, 0.        ],\n",
       "       [0.6       , 0.84210526, 1.        ],\n",
       "       [0.17857143, 0.84210526, 1.        ],\n",
       "       [0.17857143, 0.84210526, 1.        ],\n",
       "       [0.17857143, 0.84210526, 1.        ],\n",
       "       [0.33333333, 0.67857143, 1.        ],\n",
       "       [0.33333333, 0.67857143, 1.        ],\n",
       "       [0.33333333, 0.67857143, 0.        ],\n",
       "       [0.33333333, 0.67857143, 0.        ],\n",
       "       [0.2       , 0.84210526, 0.        ],\n",
       "       [0.25      , 0.84210526, 1.        ],\n",
       "       [0.5       , 0.75      , 0.        ],\n",
       "       [0.6       , 0.84210526, 0.        ],\n",
       "       [0.85      , 0.5       , 0.        ],\n",
       "       [0.6       , 0.84210526, 1.        ],\n",
       "       [0.66666667, 0.63157895, 1.        ],\n",
       "       [0.66666667, 0.63157895, 0.        ],\n",
       "       [0.63157895, 0.375     , 0.        ],\n",
       "       [0.2       , 0.85      , 1.        ],\n",
       "       [0.63157895, 0.375     , 0.        ],\n",
       "       [0.2       , 0.67857143, 1.        ],\n",
       "       [0.375     , 0.69230769, 1.        ],\n",
       "       [0.2       , 0.67857143, 1.        ],\n",
       "       [0.2       , 0.67857143, 1.        ],\n",
       "       [0.2       , 0.67857143, 1.        ],\n",
       "       [0.44444444, 0.5       , 1.        ],\n",
       "       [0.17857143, 0.84210526, 1.        ],\n",
       "       [0.375     , 0.84210526, 1.        ],\n",
       "       [0.75      , 0.84210526, 1.        ],\n",
       "       [0.66666667, 0.63157895, 1.        ],\n",
       "       [0.17857143, 0.84210526, 1.        ],\n",
       "       [0.6       , 0.84210526, 0.        ],\n",
       "       [0.6       , 0.84210526, 1.        ],\n",
       "       [0.75      , 1.        , 1.        ],\n",
       "       [0.75      , 0.44444444, 1.        ],\n",
       "       [0.5       , 1.        , 1.        ],\n",
       "       [0.69230769, 0.6       , 1.        ],\n",
       "       [0.33333333, 0.        , 1.        ],\n",
       "       [0.17857143, 0.84210526, 1.        ],\n",
       "       [0.17857143, 0.84210526, 1.        ],\n",
       "       [0.84210526, 0.17857143, 0.        ],\n",
       "       [0.6       , 0.84210526, 1.        ],\n",
       "       [0.84210526, 0.17857143, 0.        ],\n",
       "       [0.84210526, 0.17857143, 1.        ],\n",
       "       [0.28571429, 0.71428571, 1.        ],\n",
       "       [0.28571429, 0.71428571, 1.        ],\n",
       "       [0.66666667, 0.63157895, 0.        ],\n",
       "       [0.84210526, 0.17857143, 0.        ],\n",
       "       [0.63157895, 0.375     , 1.        ],\n",
       "       [0.2       , 0.67857143, 0.        ],\n",
       "       [0.2       , 0.63157895, 1.        ],\n",
       "       [0.2       , 0.63157895, 1.        ],\n",
       "       [0.84210526, 0.17857143, 0.        ],\n",
       "       [0.4       , 0.16666667, 0.        ],\n",
       "       [0.33333333, 0.67857143, 1.        ],\n",
       "       [0.25      , 0.84210526, 1.        ],\n",
       "       [0.75      , 0.84210526, 1.        ],\n",
       "       [0.75      , 0.84210526, 1.        ],\n",
       "       [0.17857143, 0.84210526, 1.        ],\n",
       "       [0.17857143, 0.84210526, 1.        ],\n",
       "       [0.2       , 0.85      , 1.        ],\n",
       "       [0.2       , 0.67857143, 1.        ],\n",
       "       [0.        , 0.625     , 1.        ],\n",
       "       [0.5       , 1.        , 0.        ],\n",
       "       [0.        , 0.84210526, 1.        ],\n",
       "       [0.17857143, 0.84210526, 1.        ],\n",
       "       [0.17857143, 0.84210526, 1.        ],\n",
       "       [0.17857143, 0.84210526, 1.        ],\n",
       "       [0.17857143, 0.84210526, 1.        ],\n",
       "       [0.375     , 0.84210526, 1.        ],\n",
       "       [0.66666667, 0.28571429, 1.        ],\n",
       "       [0.375     , 0.5       , 1.        ],\n",
       "       [0.17857143, 0.84210526, 1.        ],\n",
       "       [0.17857143, 0.84210526, 0.        ],\n",
       "       [0.66666667, 0.25      , 1.        ],\n",
       "       [0.33333333, 0.81818182, 1.        ],\n",
       "       [0.63157895, 0.375     , 1.        ],\n",
       "       [0.6       , 0.84210526, 1.        ],\n",
       "       [0.17857143, 0.84210526, 0.        ],\n",
       "       [0.5       , 0.5       , 0.        ],\n",
       "       [0.2       , 0.84210526, 1.        ],\n",
       "       [0.375     , 0.84210526, 1.        ],\n",
       "       [0.75      , 0.84210526, 1.        ],\n",
       "       [0.6       , 0.84210526, 1.        ],\n",
       "       [0.        , 0.44444444, 1.        ],\n",
       "       [0.33333333, 0.44444444, 0.        ],\n",
       "       [0.66666667, 0.        , 1.        ],\n",
       "       [0.63157895, 0.375     , 1.        ],\n",
       "       [0.375     , 0.84210526, 1.        ],\n",
       "       [0.44444444, 0.75      , 0.        ],\n",
       "       [0.66666667, 0.66666667, 1.        ],\n",
       "       [0.6       , 0.84210526, 0.        ],\n",
       "       [0.5       , 1.        , 1.        ],\n",
       "       [0.375     , 0.84210526, 1.        ],\n",
       "       [0.2       , 0.67857143, 1.        ],\n",
       "       [0.2       , 0.67857143, 1.        ],\n",
       "       [0.66666667, 0.63157895, 1.        ],\n",
       "       [1.        , 0.        , 1.        ],\n",
       "       [0.17857143, 0.84210526, 1.        ],\n",
       "       [0.17857143, 0.84210526, 1.        ],\n",
       "       [0.17857143, 0.84210526, 0.        ],\n",
       "       [1.        , 1.        , 0.        ],\n",
       "       [0.5       , 0.5       , 1.        ],\n",
       "       [0.375     , 0.84210526, 1.        ],\n",
       "       [0.66666667, 0.63157895, 0.        ],\n",
       "       [0.81818182, 0.44444444, 0.        ],\n",
       "       [0.17857143, 0.84210526, 0.        ]])"
      ]
     },
     "execution_count": 19,
     "metadata": {},
     "output_type": "execute_result"
    }
   ],
   "source": [
    "#muestra matrizPrueba para corroborar que los cambios del ID con el winrate se hicieron bien\n",
    "#esta comprobacion se hace visual usando el df validacion, el archivo .csv y la matriz estadistica\n",
    "matrizPrueba1"
   ]
  },
  {
   "cell_type": "code",
   "execution_count": 20,
   "metadata": {},
   "outputs": [
    {
     "data": {
      "image/png": "[encoded data removed]",
      "text/plain": [
       "<Figure size 432x288 with 1 Axes>"
      ]
     },
     "metadata": {
      "needs_background": "light"
     },
     "output_type": "display_data"
    }
   ],
   "source": [
    "#Hacemos un plot de el winrate con respecto a los ID-s\n",
    "r = estadistica[1:143,0]\n",
    "t = estadistica[1:143,3]\n",
    "plt.plot(r, t)\n",
    "\n",
    "plt.plot(r, t, 'ro')\n",
    "plt.axis([0, 145, 0, 1])\n",
    "plt.ylabel('Win Rate')\n",
    "plt.xlabel('ID original de jugador')\n",
    "plt.show()\n",
    "#vemos que ya tiene cara de una sigmoide solo hay que ordenar los ID-s con respecto a el winrate"
   ]
  },
  {
   "cell_type": "code",
   "execution_count": 21,
   "metadata": {},
   "outputs": [
    {
     "data": {
      "text/plain": [
       "array([[0.00000000e+00, 0.00000000e+00, 0.00000000e+00, 0.00000000e+00,\n",
       "        0.00000000e+00],\n",
       "       [4.00000000e+01, 4.00000000e+01, 2.00000000e+00, 0.00000000e+00,\n",
       "        0.00000000e+00],\n",
       "       [4.10000000e+01, 4.10000000e+01, 2.00000000e+00, 0.00000000e+00,\n",
       "        0.00000000e+00],\n",
       "       [4.60000000e+01, 4.60000000e+01, 2.00000000e+00, 0.00000000e+00,\n",
       "        0.00000000e+00],\n",
       "       [4.70000000e+01, 4.70000000e+01, 2.00000000e+00, 0.00000000e+00,\n",
       "        0.00000000e+00],\n",
       "       [5.10000000e+01, 5.10000000e+01, 2.00000000e+00, 0.00000000e+00,\n",
       "        0.00000000e+00],\n",
       "       [5.30000000e+01, 5.30000000e+01, 2.00000000e+00, 0.00000000e+00,\n",
       "        0.00000000e+00],\n",
       "       [6.30000000e+01, 6.30000000e+01, 2.00000000e+00, 0.00000000e+00,\n",
       "        0.00000000e+00],\n",
       "       [6.60000000e+01, 6.60000000e+01, 2.00000000e+00, 0.00000000e+00,\n",
       "        0.00000000e+00],\n",
       "       [6.90000000e+01, 6.90000000e+01, 2.00000000e+00, 0.00000000e+00,\n",
       "        0.00000000e+00],\n",
       "       [1.41000000e+02, 1.41000000e+02, 3.00000000e+00, 0.00000000e+00,\n",
       "        0.00000000e+00],\n",
       "       [7.50000000e+01, 7.50000000e+01, 4.00000000e+00, 0.00000000e+00,\n",
       "        0.00000000e+00],\n",
       "       [8.20000000e+01, 8.20000000e+01, 3.00000000e+00, 0.00000000e+00,\n",
       "        0.00000000e+00],\n",
       "       [8.40000000e+01, 8.40000000e+01, 3.00000000e+00, 0.00000000e+00,\n",
       "        0.00000000e+00],\n",
       "       [9.20000000e+01, 9.20000000e+01, 2.00000000e+00, 0.00000000e+00,\n",
       "        0.00000000e+00],\n",
       "       [1.04000000e+02, 1.04000000e+02, 2.00000000e+00, 0.00000000e+00,\n",
       "        0.00000000e+00],\n",
       "       [1.08000000e+02, 1.08000000e+02, 2.00000000e+00, 0.00000000e+00,\n",
       "        0.00000000e+00],\n",
       "       [1.11000000e+02, 1.11000000e+02, 2.00000000e+00, 0.00000000e+00,\n",
       "        0.00000000e+00],\n",
       "       [1.13000000e+02, 1.13000000e+02, 4.00000000e+00, 0.00000000e+00,\n",
       "        0.00000000e+00],\n",
       "       [1.19000000e+02, 1.19000000e+02, 3.00000000e+00, 0.00000000e+00,\n",
       "        0.00000000e+00],\n",
       "       [1.23000000e+02, 1.23000000e+02, 2.00000000e+00, 0.00000000e+00,\n",
       "        0.00000000e+00],\n",
       "       [1.25000000e+02, 1.25000000e+02, 4.00000000e+00, 0.00000000e+00,\n",
       "        0.00000000e+00],\n",
       "       [1.28000000e+02, 1.28000000e+02, 3.00000000e+00, 0.00000000e+00,\n",
       "        0.00000000e+00],\n",
       "       [1.33000000e+02, 1.33000000e+02, 2.00000000e+00, 0.00000000e+00,\n",
       "        0.00000000e+00],\n",
       "       [1.36000000e+02, 1.36000000e+02, 2.00000000e+00, 0.00000000e+00,\n",
       "        0.00000000e+00],\n",
       "       [1.40000000e+02, 1.40000000e+02, 3.00000000e+00, 0.00000000e+00,\n",
       "        0.00000000e+00],\n",
       "       [3.80000000e+01, 3.80000000e+01, 2.00000000e+00, 0.00000000e+00,\n",
       "        0.00000000e+00],\n",
       "       [3.70000000e+01, 3.70000000e+01, 2.00000000e+00, 0.00000000e+00,\n",
       "        0.00000000e+00],\n",
       "       [1.42000000e+02, 1.42000000e+02, 3.00000000e+00, 0.00000000e+00,\n",
       "        0.00000000e+00],\n",
       "       [2.10000000e+01, 2.10000000e+01, 2.00000000e+00, 0.00000000e+00,\n",
       "        0.00000000e+00],\n",
       "       [1.10000000e+01, 1.10000000e+01, 4.00000000e+00, 0.00000000e+00,\n",
       "        0.00000000e+00],\n",
       "       [2.60000000e+01, 2.60000000e+01, 5.00000000e+00, 0.00000000e+00,\n",
       "        0.00000000e+00],\n",
       "       [3.00000000e+00, 3.00000000e+00, 2.00000000e+00, 0.00000000e+00,\n",
       "        0.00000000e+00],\n",
       "       [1.00000000e+00, 1.00000000e+00, 4.00000000e+00, 0.00000000e+00,\n",
       "        0.00000000e+00],\n",
       "       [1.30000000e+02, 1.30000000e+02, 1.00000000e+01, 1.00000000e+00,\n",
       "        1.00000000e-01],\n",
       "       [4.50000000e+01, 4.50000000e+01, 6.00000000e+00, 1.00000000e+00,\n",
       "        1.66666667e-01],\n",
       "       [3.50000000e+01, 3.50000000e+01, 2.80000000e+01, 5.00000000e+00,\n",
       "        1.78571429e-01],\n",
       "       [3.00000000e+01, 3.00000000e+01, 1.10000000e+01, 2.00000000e+00,\n",
       "        1.81818182e-01],\n",
       "       [2.20000000e+01, 2.20000000e+01, 5.00000000e+00, 1.00000000e+00,\n",
       "        2.00000000e-01],\n",
       "       [6.40000000e+01, 6.40000000e+01, 5.00000000e+00, 1.00000000e+00,\n",
       "        2.00000000e-01],\n",
       "       [8.80000000e+01, 8.80000000e+01, 9.00000000e+00, 2.00000000e+00,\n",
       "        2.22222222e-01],\n",
       "       [2.30000000e+01, 2.30000000e+01, 4.00000000e+00, 1.00000000e+00,\n",
       "        2.50000000e-01],\n",
       "       [1.06000000e+02, 1.06000000e+02, 4.00000000e+00, 1.00000000e+00,\n",
       "        2.50000000e-01],\n",
       "       [7.00000000e+01, 7.00000000e+01, 4.00000000e+00, 1.00000000e+00,\n",
       "        2.50000000e-01],\n",
       "       [1.07000000e+02, 1.07000000e+02, 4.00000000e+00, 1.00000000e+00,\n",
       "        2.50000000e-01],\n",
       "       [1.38000000e+02, 1.38000000e+02, 7.00000000e+00, 2.00000000e+00,\n",
       "        2.85714286e-01],\n",
       "       [1.40000000e+01, 1.40000000e+01, 7.00000000e+00, 2.00000000e+00,\n",
       "        2.85714286e-01],\n",
       "       [5.00000000e+00, 5.00000000e+00, 3.00000000e+00, 1.00000000e+00,\n",
       "        3.33333333e-01],\n",
       "       [1.32000000e+02, 1.32000000e+02, 6.00000000e+00, 2.00000000e+00,\n",
       "        3.33333333e-01],\n",
       "       [1.02000000e+02, 1.02000000e+02, 3.00000000e+00, 1.00000000e+00,\n",
       "        3.33333333e-01],\n",
       "       [2.00000000e+01, 2.00000000e+01, 3.00000000e+00, 1.00000000e+00,\n",
       "        3.33333333e-01],\n",
       "       [1.90000000e+01, 1.90000000e+01, 3.00000000e+00, 1.00000000e+00,\n",
       "        3.33333333e-01],\n",
       "       [8.00000000e+00, 8.00000000e+00, 1.50000000e+01, 5.00000000e+00,\n",
       "        3.33333333e-01],\n",
       "       [4.90000000e+01, 4.90000000e+01, 6.00000000e+00, 2.00000000e+00,\n",
       "        3.33333333e-01],\n",
       "       [8.30000000e+01, 8.30000000e+01, 3.00000000e+00, 1.00000000e+00,\n",
       "        3.33333333e-01],\n",
       "       [1.01000000e+02, 1.01000000e+02, 8.00000000e+00, 3.00000000e+00,\n",
       "        3.75000000e-01],\n",
       "       [6.70000000e+01, 6.70000000e+01, 5.00000000e+00, 2.00000000e+00,\n",
       "        4.00000000e-01],\n",
       "       [8.10000000e+01, 8.10000000e+01, 5.00000000e+00, 2.00000000e+00,\n",
       "        4.00000000e-01],\n",
       "       [9.00000000e+00, 9.00000000e+00, 9.00000000e+00, 4.00000000e+00,\n",
       "        4.44444444e-01],\n",
       "       [7.90000000e+01, 7.90000000e+01, 2.00000000e+00, 1.00000000e+00,\n",
       "        5.00000000e-01],\n",
       "       [8.00000000e+01, 8.00000000e+01, 4.00000000e+00, 2.00000000e+00,\n",
       "        5.00000000e-01],\n",
       "       [7.80000000e+01, 7.80000000e+01, 4.00000000e+00, 2.00000000e+00,\n",
       "        5.00000000e-01],\n",
       "       [7.70000000e+01, 7.70000000e+01, 2.00000000e+00, 1.00000000e+00,\n",
       "        5.00000000e-01],\n",
       "       [1.20000000e+02, 1.20000000e+02, 6.00000000e+00, 3.00000000e+00,\n",
       "        5.00000000e-01],\n",
       "       [9.50000000e+01, 9.50000000e+01, 4.00000000e+00, 2.00000000e+00,\n",
       "        5.00000000e-01],\n",
       "       [9.60000000e+01, 9.60000000e+01, 2.00000000e+00, 1.00000000e+00,\n",
       "        5.00000000e-01],\n",
       "       [9.90000000e+01, 9.90000000e+01, 2.00000000e+00, 1.00000000e+00,\n",
       "        5.00000000e-01],\n",
       "       [1.00000000e+02, 1.00000000e+02, 2.00000000e+00, 1.00000000e+00,\n",
       "        5.00000000e-01],\n",
       "       [1.26000000e+02, 1.26000000e+02, 2.00000000e+00, 1.00000000e+00,\n",
       "        5.00000000e-01],\n",
       "       [1.03000000e+02, 1.03000000e+02, 2.00000000e+00, 1.00000000e+00,\n",
       "        5.00000000e-01],\n",
       "       [1.09000000e+02, 1.09000000e+02, 2.00000000e+00, 1.00000000e+00,\n",
       "        5.00000000e-01],\n",
       "       [1.15000000e+02, 1.15000000e+02, 2.00000000e+00, 1.00000000e+00,\n",
       "        5.00000000e-01],\n",
       "       [1.17000000e+02, 1.17000000e+02, 2.00000000e+00, 1.00000000e+00,\n",
       "        5.00000000e-01],\n",
       "       [1.30000000e+01, 1.30000000e+01, 4.00000000e+00, 2.00000000e+00,\n",
       "        5.00000000e-01],\n",
       "       [2.90000000e+01, 2.90000000e+01, 2.00000000e+00, 1.00000000e+00,\n",
       "        5.00000000e-01],\n",
       "       [7.60000000e+01, 7.60000000e+01, 6.00000000e+00, 3.00000000e+00,\n",
       "        5.00000000e-01],\n",
       "       [7.30000000e+01, 7.30000000e+01, 2.00000000e+00, 1.00000000e+00,\n",
       "        5.00000000e-01],\n",
       "       [1.37000000e+02, 1.37000000e+02, 2.00000000e+00, 1.00000000e+00,\n",
       "        5.00000000e-01],\n",
       "       [4.80000000e+01, 4.80000000e+01, 2.00000000e+00, 1.00000000e+00,\n",
       "        5.00000000e-01],\n",
       "       [5.60000000e+01, 5.60000000e+01, 2.00000000e+00, 1.00000000e+00,\n",
       "        5.00000000e-01],\n",
       "       [5.70000000e+01, 5.70000000e+01, 4.00000000e+00, 2.00000000e+00,\n",
       "        5.00000000e-01],\n",
       "       [5.80000000e+01, 5.80000000e+01, 2.00000000e+00, 1.00000000e+00,\n",
       "        5.00000000e-01],\n",
       "       [5.90000000e+01, 5.90000000e+01, 4.00000000e+00, 2.00000000e+00,\n",
       "        5.00000000e-01],\n",
       "       [6.00000000e+01, 6.00000000e+01, 2.00000000e+00, 1.00000000e+00,\n",
       "        5.00000000e-01],\n",
       "       [5.40000000e+01, 5.40000000e+01, 2.00000000e+00, 1.00000000e+00,\n",
       "        5.00000000e-01],\n",
       "       [6.80000000e+01, 6.80000000e+01, 2.00000000e+00, 1.00000000e+00,\n",
       "        5.00000000e-01],\n",
       "       [1.70000000e+01, 1.70000000e+01, 4.00000000e+00, 2.00000000e+00,\n",
       "        5.00000000e-01],\n",
       "       [2.80000000e+01, 2.80000000e+01, 5.00000000e+00, 3.00000000e+00,\n",
       "        6.00000000e-01],\n",
       "       [9.70000000e+01, 9.70000000e+01, 8.00000000e+00, 5.00000000e+00,\n",
       "        6.25000000e-01],\n",
       "       [1.05000000e+02, 1.05000000e+02, 1.90000000e+01, 1.20000000e+01,\n",
       "        6.31578947e-01],\n",
       "       [1.22000000e+02, 1.22000000e+02, 6.00000000e+00, 4.00000000e+00,\n",
       "        6.66666667e-01],\n",
       "       [3.30000000e+01, 3.30000000e+01, 3.00000000e+00, 2.00000000e+00,\n",
       "        6.66666667e-01],\n",
       "       [1.27000000e+02, 1.27000000e+02, 3.00000000e+00, 2.00000000e+00,\n",
       "        6.66666667e-01],\n",
       "       [1.39000000e+02, 1.39000000e+02, 6.00000000e+00, 4.00000000e+00,\n",
       "        6.66666667e-01],\n",
       "       [3.90000000e+01, 3.90000000e+01, 3.00000000e+00, 2.00000000e+00,\n",
       "        6.66666667e-01],\n",
       "       [1.10000000e+02, 1.10000000e+02, 3.00000000e+00, 2.00000000e+00,\n",
       "        6.66666667e-01],\n",
       "       [7.20000000e+01, 7.20000000e+01, 3.00000000e+00, 2.00000000e+00,\n",
       "        6.66666667e-01],\n",
       "       [1.00000000e+01, 1.00000000e+01, 3.00000000e+00, 2.00000000e+00,\n",
       "        6.66666667e-01],\n",
       "       [5.20000000e+01, 5.20000000e+01, 3.00000000e+00, 2.00000000e+00,\n",
       "        6.66666667e-01],\n",
       "       [1.50000000e+01, 1.50000000e+01, 3.00000000e+00, 2.00000000e+00,\n",
       "        6.66666667e-01],\n",
       "       [4.40000000e+01, 4.40000000e+01, 3.00000000e+00, 2.00000000e+00,\n",
       "        6.66666667e-01],\n",
       "       [1.24000000e+02, 1.24000000e+02, 3.00000000e+00, 2.00000000e+00,\n",
       "        6.66666667e-01],\n",
       "       [8.60000000e+01, 8.60000000e+01, 3.00000000e+00, 2.00000000e+00,\n",
       "        6.66666667e-01],\n",
       "       [6.20000000e+01, 6.20000000e+01, 3.00000000e+00, 2.00000000e+00,\n",
       "        6.66666667e-01],\n",
       "       [8.90000000e+01, 8.90000000e+01, 3.00000000e+00, 2.00000000e+00,\n",
       "        6.66666667e-01],\n",
       "       [9.30000000e+01, 9.30000000e+01, 3.00000000e+00, 2.00000000e+00,\n",
       "        6.66666667e-01],\n",
       "       [1.31000000e+02, 1.31000000e+02, 6.00000000e+00, 4.00000000e+00,\n",
       "        6.66666667e-01],\n",
       "       [5.50000000e+01, 5.50000000e+01, 6.00000000e+00, 4.00000000e+00,\n",
       "        6.66666667e-01],\n",
       "       [1.80000000e+01, 1.80000000e+01, 2.80000000e+01, 1.90000000e+01,\n",
       "        6.78571429e-01],\n",
       "       [2.70000000e+01, 2.70000000e+01, 1.30000000e+01, 9.00000000e+00,\n",
       "        6.92307692e-01],\n",
       "       [1.20000000e+01, 1.20000000e+01, 1.40000000e+01, 1.00000000e+01,\n",
       "        7.14285714e-01],\n",
       "       [8.70000000e+01, 8.70000000e+01, 4.00000000e+00, 3.00000000e+00,\n",
       "        7.50000000e-01],\n",
       "       [1.12000000e+02, 1.12000000e+02, 4.00000000e+00, 3.00000000e+00,\n",
       "        7.50000000e-01],\n",
       "       [6.10000000e+01, 6.10000000e+01, 4.00000000e+00, 3.00000000e+00,\n",
       "        7.50000000e-01],\n",
       "       [1.60000000e+01, 1.60000000e+01, 4.00000000e+00, 3.00000000e+00,\n",
       "        7.50000000e-01],\n",
       "       [2.50000000e+01, 2.50000000e+01, 4.00000000e+00, 3.00000000e+00,\n",
       "        7.50000000e-01],\n",
       "       [3.20000000e+01, 3.20000000e+01, 5.00000000e+00, 4.00000000e+00,\n",
       "        8.00000000e-01],\n",
       "       [1.35000000e+02, 1.35000000e+02, 5.00000000e+00, 4.00000000e+00,\n",
       "        8.00000000e-01],\n",
       "       [7.00000000e+00, 7.00000000e+00, 1.10000000e+01, 9.00000000e+00,\n",
       "        8.18181818e-01],\n",
       "       [4.30000000e+01, 4.30000000e+01, 1.90000000e+01, 1.60000000e+01,\n",
       "        8.42105263e-01],\n",
       "       [4.00000000e+00, 4.00000000e+00, 2.00000000e+01, 1.70000000e+01,\n",
       "        8.50000000e-01],\n",
       "       [1.16000000e+02, 1.16000000e+02, 1.00000000e+01, 9.00000000e+00,\n",
       "        9.00000000e-01],\n",
       "       [1.34000000e+02, 1.34000000e+02, 2.00000000e+00, 2.00000000e+00,\n",
       "        1.00000000e+00],\n",
       "       [2.00000000e+00, 2.00000000e+00, 2.00000000e+00, 2.00000000e+00,\n",
       "        1.00000000e+00],\n",
       "       [1.29000000e+02, 1.29000000e+02, 2.00000000e+00, 2.00000000e+00,\n",
       "        1.00000000e+00],\n",
       "       [8.50000000e+01, 8.50000000e+01, 4.00000000e+00, 4.00000000e+00,\n",
       "        1.00000000e+00],\n",
       "       [1.21000000e+02, 1.21000000e+02, 2.00000000e+00, 2.00000000e+00,\n",
       "        1.00000000e+00],\n",
       "       [3.10000000e+01, 3.10000000e+01, 3.00000000e+00, 3.00000000e+00,\n",
       "        1.00000000e+00],\n",
       "       [3.40000000e+01, 3.40000000e+01, 2.00000000e+00, 2.00000000e+00,\n",
       "        1.00000000e+00],\n",
       "       [3.60000000e+01, 3.60000000e+01, 1.00000000e+01, 1.00000000e+01,\n",
       "        1.00000000e+00],\n",
       "       [2.40000000e+01, 2.40000000e+01, 2.00000000e+00, 2.00000000e+00,\n",
       "        1.00000000e+00],\n",
       "       [4.20000000e+01, 4.20000000e+01, 3.00000000e+00, 3.00000000e+00,\n",
       "        1.00000000e+00],\n",
       "       [5.00000000e+01, 5.00000000e+01, 3.00000000e+00, 3.00000000e+00,\n",
       "        1.00000000e+00],\n",
       "       [6.00000000e+00, 6.00000000e+00, 3.00000000e+00, 3.00000000e+00,\n",
       "        1.00000000e+00],\n",
       "       [6.50000000e+01, 6.50000000e+01, 2.00000000e+00, 2.00000000e+00,\n",
       "        1.00000000e+00],\n",
       "       [9.00000000e+01, 9.00000000e+01, 2.00000000e+00, 2.00000000e+00,\n",
       "        1.00000000e+00],\n",
       "       [9.10000000e+01, 9.10000000e+01, 2.00000000e+00, 2.00000000e+00,\n",
       "        1.00000000e+00],\n",
       "       [9.40000000e+01, 9.40000000e+01, 2.00000000e+00, 2.00000000e+00,\n",
       "        1.00000000e+00],\n",
       "       [9.80000000e+01, 9.80000000e+01, 2.00000000e+00, 2.00000000e+00,\n",
       "        1.00000000e+00],\n",
       "       [1.14000000e+02, 1.14000000e+02, 2.00000000e+00, 2.00000000e+00,\n",
       "        1.00000000e+00],\n",
       "       [1.18000000e+02, 1.18000000e+02, 4.00000000e+00, 4.00000000e+00,\n",
       "        1.00000000e+00],\n",
       "       [7.40000000e+01, 7.40000000e+01, 2.00000000e+00, 2.00000000e+00,\n",
       "        1.00000000e+00],\n",
       "       [7.10000000e+01, 7.10000000e+01, 2.00000000e+00, 2.00000000e+00,\n",
       "        1.00000000e+00]])"
      ]
     },
     "execution_count": 21,
     "metadata": {},
     "output_type": "execute_result"
    }
   ],
   "source": [
    "#Definimos un nuevo dataframe llamado estadistica1 a partir de la matriz estadistica\n",
    "estadistica1 = pd.DataFrame(estadistica)\n",
    "#renombramos columnas del nuevo df\n",
    "estadistica1.columns=['IDA','IDB','nos','WR']\n",
    "#redefinimos nuestro df como el estadistica con los valores ordenados de menor a mayor del winrate\n",
    "estadistica1 = estadistica1.sort_values(by=['WR'])\n",
    "#reseteamos indices pero conservamos los viejos\n",
    "estadistica1 = estadistica1.reset_index()\n",
    "#Hacemos un array de estadistica1\n",
    "wr = estadistica1.to_numpy()\n",
    "#mostramos el array nuevo\n",
    "wr"
   ]
  },
  {
   "cell_type": "code",
   "execution_count": 22,
   "metadata": {},
   "outputs": [
    {
     "data": {
      "image/png": "[encoded data removed]",
      "text/plain": [
       "<Figure size 432x288 with 1 Axes>"
      ]
     },
     "metadata": {
      "needs_background": "light"
     },
     "output_type": "display_data"
    }
   ],
   "source": [
    "#dado que se agrego una nueva columna de indices, ahora nuestro win rate esta en la cuarta columna\n",
    "#considerando columna 0 es la de los indices viejos\n",
    "#definimos a t como nuestros winrates ya ordenados\n",
    "t=wr[1:143,4]\n",
    "#de lo anterior r iba de 1 hasta 142 por lo que podemos pensarlo de la siguiente manera: el id 1 corresponde a una\n",
    "#persona cuyo winrate es el mas bajo, y asi sucesivamente hasta llegar al id 142 que sera de la persona con mayor winrate \n",
    "plt.plot(r, t, 'ro')\n",
    "plt.axis([0, 145, 0, 1])\n",
    "plt.ylabel('Win Rate')\n",
    "plt.xlabel('ID modificado de jugador')\n",
    "plt.show()\n",
    "#vemos que la grafica es mucho mas parecida a una funcion sigmoide"
   ]
  },
  {
   "cell_type": "markdown",
   "metadata": {},
   "source": [
    "Ya vimos que el winrate hace que tengamos un orden o da un orden de prioridad. Y de hecho esto se cumprueba con la ultima greafica donde se ve una buena aproximacion funcion sigmoide. Intuitivamente si enfrentamos a una persona cuyo winrate es cero contra una cuyo winrate es diferente de cero, entonces seguro va a ganar la segunda. En caso en el que una persona cuyo winrate sea 1 la enfrentamos a otra cuyo winrate sea menor que 0.5, entonces es mucho mas probable que la primera persona gane, de hecho la prediccion deberia ser asi.\n",
    "A partir de aqui podemos tomar dos caminos: reasignar los ID's de tal forma que se preserve la funcion sigmoide o sustituir los ID's por el winrate. Hasta este punto ya se hizo lo segundo, por lo que se tomara ese camino. Aunque intuitivamente ambos caminos son analogos, ya que, en el primer caso, se define un orden."
   ]
  },
  {
   "cell_type": "markdown",
   "metadata": {},
   "source": [
    "La verosimilitud de atributos independientes se define como\n",
    "$$L(\\theta) = \\prod_{i=1}^{n} P(Y=y^{(i)}|X=\\vec{x}^{(i)})$$\n",
    "Considerando que para la regresion logistica el resultado proviene de una distribucion de Bernoulli tenemos que $P(Y=y^{(i)}|X=x^{(i)})=\\sigma (\\theta ^{T}\\vec{x})^{y} \\cdot \\left[ 1-\\sigma (\\theta ^{T}\\vec{x})^{y}\\right]^{1-y}$, donde $\\sigma$ es la funcion sigmoide dada por: $\\sigma(z) = \\frac{1}{1+exp(-z)}$. Sustituyendo en la verosimilitud obtenemos que:\n",
    "$$L(\\theta) = \\prod_{i=1}^{n} \\sigma (\\theta ^{T}\\vec{x}^{(i)})^{y^{(i)}} \\cdot \\left[ 1-\\sigma (\\theta ^{T}\\vec{x}^{(i)})\\right]^{1-y^{(i)}}$$\n",
    "al aplicar el logaritmo de la verosimilitud obtenemos la log-verosimilitud dada por:\n",
    "$$LL(\\theta) = \\sum_{i=1}^{n} y^{(i)}log(\\sigma (\\theta ^{T}\\vec{x}^{(i)})) + (1-y^{(i)}) log\\left[ 1-\\sigma (\\theta ^{T}\\vec{x}^{(i)})\\right]$$\n",
    "Una vez que se tiene la funcion de la log-verosimilitud, simplemente debemos elegir los valores de $\\theta$ que las maximicen. Sabemos que la ecuacion de la primera derivada con respecto a $\\theta_j$ no tiene solucion cerrada. Por ello es necesario usar el metodo del descenso del grandiente. La ecuacion de la derivada esta dada por\n",
    "$$\\frac{\\partial}{\\partial \\theta_j}LL(\\theta) = \\sum_{i=1}^{n}\\left[y^{(i)}- \\sigma (\\theta ^{T}\\vec{x}^{(i)})\\right]x_j^{(i)} $$\n",
    "Y la regla de actualizacion del decenso del gradiente es:\n",
    "$$\\theta_{j}^{t+1}=\\theta_{j}^{t}+ \\eta \\frac{\\partial}{\\partial \\theta^{t}}LL(\\theta_j^{t})$$\n",
    "donde $\\eta$ es la magnitud del paso. Entonces, para hacer regresion logistica tenemos que encontrar los valores de $\\theta$ que maximicen. $j$ es la cantidad de variables independientes mas el valor de $\\theta_0$"
   ]
  },
  {
   "cell_type": "code",
   "execution_count": 23,
   "metadata": {},
   "outputs": [],
   "source": [
    "#Creamos en las variables xTr yTr nuestras variables dependientes e independientes de la matrizPrueba\n",
    "#que son los datos originales sustituyendo el ID jugador por el winrate, lo mismo para xVa e yVa\n",
    "xTr = matrizPrueba[:,:2]\n",
    "yTr = matrizPrueba[:,2]\n",
    "xVa = matrizPrueba1[:,:2]\n",
    "yVa = matrizPrueba1[:,2]\n",
    "#creamos un array de unos de la mismas filas de las filas de xTr y una columna, esto para poder calcular theta_0\n",
    "unos = np.ones((xTr.shape[0],1),dtype=np.float32)\n",
    "#le pegamos a la columna de unos los datos de xTr\n",
    "xTr = np.append(unos,xTr,axis=1)\n",
    "#creamos un array de unos de la mismas filas de las filas de xVa y una columna, esto para poder hacer validacion\n",
    "unos = np.ones((xVa.shape[0],1),dtype=np.float32)\n",
    "#le pegamos a la columna de unos los datos de xT\n",
    "xVa = np.append(unos,xVa,axis=1)"
   ]
  },
  {
   "cell_type": "code",
   "execution_count": 24,
   "metadata": {},
   "outputs": [],
   "source": [
    "#definimos una funcion llamada sigmoide que no es exactamente la sigmoide original pero si la resta entre\n",
    "#el valor real y menos sigmoide(vector_theta_Transpuesto por vector_x) y nos va a regresar dicha resta\n",
    "def sigmoide(x,y,theta):\n",
    "    sigma = y - ((1)/(1+np.exp(-(theta.T@x))))\n",
    "    return sigma"
   ]
  },
  {
   "cell_type": "code",
   "execution_count": 25,
   "metadata": {},
   "outputs": [],
   "source": [
    "#definimos nuestra funcion de perdida que es el negativo de la verosimilitud logaritmica\n",
    "#definido en las slides de la clase, archivo 3a_regresion_clasificacion_lineal.pdf slide 43\n",
    "#esta funcion nos regresa un valor de error\n",
    "def loss(x,y,theta):\n",
    "    error = (y*np.log((1/(1+np.exp(-(theta.T@x))))))+((1-y)*np.log(1-((1/(1+np.exp(-(theta.T@x)))))))\n",
    "    return error"
   ]
  },
  {
   "cell_type": "code",
   "execution_count": 26,
   "metadata": {},
   "outputs": [],
   "source": [
    "#definimos nuestra funcion de entrenamiento para determinar el vector de Theta que minimiza el error\n",
    "#con ayuda del descenso del gradiente. Esta funcion come vectores x, vectores y e un entero iteraciones\n",
    "def entrena(x,y,iteraciones):\n",
    "    #definimos una lista que contendra los errores para cada iteracion (distintos valores de theta)\n",
    "    historicoLoss = []\n",
    "    #definimos nuestro vector de Thetas (theta_0,theta_1,theta_2) todos se inicializan en cero\n",
    "    theta = np.zeros((3,1),dtype=np.float32)\n",
    "    #iteramos sobre las iteraciones definidas por el usuario\n",
    "    for pasos in range(iteraciones):\n",
    "        #Reseteamos/seteamos el gradiente como un vector de ceros (cada entrada sera el gradiente para cada variable)\n",
    "        gradiente = np.zeros((3,1),dtype=np.float32)\n",
    "        #Reseteamos/seteamos la perdida para cada iteracion en las filas de x en cero\n",
    "        perdidaiter = 0\n",
    "        #para cada fila del vector de entrada x\n",
    "        for u in range(x.shape[0]):\n",
    "            #para cada fila del vector theta (son 3)\n",
    "            for r in range(theta.shape[0]):\n",
    "                #para una fila dada de theta, suma iterativamente el gradiente + x en la fila u, columna r\n",
    "                #por la funcion sigmoide que definimos antes con entradas el vector x en la fila, el valor\n",
    "                #real y en la fila u y el parametro theta\n",
    "                #Todo esto es la definicion del gradiente o derivada de la funcion error\n",
    "                gradiente[r] = gradiente[r] + x[u][r]*sigmoide(x[u],y[u],theta)\n",
    "            #una vez que terminas de calcular el gradiente en una fila dada, suma iterativamente\n",
    "            #la perdida en cada iteracion hasta terminar las filas de x\n",
    "            perdidaiter += loss(x[u],y[u],theta)\n",
    "        #una vez que termines de calcular el gradiente y la perdida de cada fila, actualiza el valor del vector\n",
    "        #theta haciendo uso de el paso definido como 0.01 y el gradiente calculado, repite con este nuevo vector\n",
    "        #theta hasta acabar las iteraciones\n",
    "        theta += 0.01*gradiente\n",
    "        #en la lista de perdidas agrega la perdida que calculaste\n",
    "        historicoLoss.append(-1*perdidaiter[0])\n",
    "    #regresa el ultimo valor de theta y la lista de perdidas\n",
    "    return theta,historicoLoss"
   ]
  },
  {
   "cell_type": "code",
   "execution_count": 27,
   "metadata": {},
   "outputs": [
    {
     "data": {
      "text/plain": [
       "(3, 1)"
      ]
     },
     "execution_count": 27,
     "metadata": {},
     "output_type": "execute_result"
    }
   ],
   "source": [
    "#A partir de aqui y hasta nuevo aviso hacemos de forma manual lo que se hace en la funcion de \n",
    "#entrenamiento. De hecho, esto lo hice primero antes que la funcion y se deja porque me duele\n",
    "#borrar 1 dia entero de mi trabajo :c\n",
    "#definimos nuestro vector de Thetas (theta_0,theta_1,theta_2) todos se inicializan en cero\n",
    "paramTheta = np.zeros((3,1),dtype=np.float32)\n",
    "#Seteamos el gradiente como un vector de ceros (cada entrada sera el gradiente para cada variable)\n",
    "grad = np.zeros((3,1),dtype=np.float32)\n",
    "#vemos las dimensiones de la matriz de parametros theta\n",
    "paramTheta.shape"
   ]
  },
  {
   "cell_type": "code",
   "execution_count": 28,
   "metadata": {},
   "outputs": [],
   "source": [
    "#definimos una lista que contendra los errores para cada iteracion (distintos valores de theta)\n",
    "historicoPerdida = []\n",
    "#iteramos sobre 800 iteraciones\n",
    "for pasos in range(800):\n",
    "    #Reseteamos/seteamos el gradiente como un vector de ceros (cada entrada sera el gradiente para cada variable)\n",
    "    grad = np.zeros((3,1),dtype=np.float32)\n",
    "    #Reseteamos/seteamos la perdida para cada iteracion en las filas de x en cero\n",
    "    perdida = 0\n",
    "    #para cada fila del vector xTr previamente definido\n",
    "    for i in range(xTr.shape[0]):\n",
    "        #para cada fila del vector theta (son 3)\n",
    "        for k in range(paramTheta.shape[0]):\n",
    "            #para una fila dada de theta, suma iterativamente el gradiente + x en la fila u, columna r\n",
    "            #por la funcion sigmoide que definimos antes con entradas el vector x en la fila, el valor\n",
    "            #real y en la fila u y el parametro theta\n",
    "            #Todo esto es la definicion del gradiente o derivada de la funcion error\n",
    "            grad[k] = grad[k] + xTr[i][k]*sigmoide(xTr[i],yTr[i],paramTheta)\n",
    "        #una vez que terminas de calcular el gradiente en una fila dada, suma iterativamente\n",
    "        #la perdida en cada iteracion hasta terminar las filas de x\n",
    "        perdida += loss(xTr[i],yTr[i],paramTheta)\n",
    "    #una vez que termines de calcular el gradiente y la perdida de cada fila, actualiza el valor del vector\n",
    "    #theta haciendo uso de el paso definido como 0.01 y el gradiente calculado, repite con este nuevo vector\n",
    "    #theta hasta acabar las iteraciones\n",
    "    paramTheta += 0.01*grad\n",
    "    #en la lista de perdidas agrega la perdida que calculaste\n",
    "    historicoPerdida.append(-1*perdida[0])"
   ]
  },
  {
   "cell_type": "code",
   "execution_count": 29,
   "metadata": {},
   "outputs": [
    {
     "data": {
      "text/plain": [
       "array([[-0.11792607],\n",
       "       [-4.2769775 ],\n",
       "       [ 4.4941564 ]], dtype=float32)"
      ]
     },
     "execution_count": 29,
     "metadata": {},
     "output_type": "execute_result"
    }
   ],
   "source": [
    "#comprobamos los parametros de theta calculados en la ultima iteracion\n",
    "paramTheta"
   ]
  },
  {
   "cell_type": "code",
   "execution_count": 30,
   "metadata": {},
   "outputs": [
    {
     "data": {
      "text/plain": [
       "array([[-1.0413550e-05],\n",
       "       [ 1.8977220e-05],\n",
       "       [ 1.9295856e-05]], dtype=float32)"
      ]
     },
     "execution_count": 30,
     "metadata": {},
     "output_type": "execute_result"
    }
   ],
   "source": [
    "#vemos el vector gradiente en la ultima iteracion\n",
    "grad"
   ]
  },
  {
   "cell_type": "code",
   "execution_count": 31,
   "metadata": {},
   "outputs": [
    {
     "data": {
      "image/png": "[encoded data removed]",
      "text/plain": [
       "<Figure size 432x288 with 1 Axes>"
      ]
     },
     "metadata": {
      "needs_background": "light"
     },
     "output_type": "display_data"
    }
   ],
   "source": [
    "#graficamos el error con respecto a las iteraciones usando la lista del historicoPerdida\n",
    "#definido en la forma manual. Aqui termina la forma manual\n",
    "plt.figure()\n",
    "plt.plot(range(len(historicoPerdida)), historicoPerdida, 'ro')\n",
    "plt.ylabel('Error')\n",
    "plt.xlabel('Iteraciones')\n",
    "plt.show()"
   ]
  },
  {
   "cell_type": "code",
   "execution_count": 32,
   "metadata": {},
   "outputs": [
    {
     "data": {
      "text/plain": [
       "array([[-0.11792607],\n",
       "       [-4.2769775 ],\n",
       "       [ 4.4941564 ]], dtype=float32)"
      ]
     },
     "execution_count": 32,
     "metadata": {},
     "output_type": "execute_result"
    }
   ],
   "source": [
    "#Usando la forma con la funcion definida de entrena, pasamos los vectores xTr e yTr\n",
    "#con las mismas iteraciones que la forma manual, esto para comprobar que efectivamente\n",
    "#la funcion hace lo mismo que la forma manual\n",
    "ajusteParam,perdidas = entrena(xTr,yTr,800)\n",
    "#mostramos los parametros del ajuste\n",
    "ajusteParam"
   ]
  },
  {
   "cell_type": "code",
   "execution_count": 33,
   "metadata": {},
   "outputs": [
    {
     "data": {
      "image/png": "[encoded data removed]",
      "text/plain": [
       "<Figure size 432x288 with 1 Axes>"
      ]
     },
     "metadata": {
      "needs_background": "light"
     },
     "output_type": "display_data"
    }
   ],
   "source": [
    "#graficamos el error en funcion de las iteraciones usando la lista perdidas\n",
    "#definida en la forma automatica o forma funcional\n",
    "plt.figure()\n",
    "plt.plot(range(len(perdidas)), perdidas, 'ro')\n",
    "plt.ylabel('Error')\n",
    "plt.xlabel('Iteraciones')\n",
    "plt.show()"
   ]
  },
  {
   "cell_type": "markdown",
   "metadata": {},
   "source": [
    "Notemos que la forma manual y funcional dan los mismos resultados, por lo que consideramos que la forma funcional esta bien definida con respecto a la forma manual. Notemos que el error tiende a un valor conforme las iteraciones se hacen mas grandes, este valor es aproximadamente 121. El error es grande pero es lo que hay :c, quiza con otra reparametrizacion el error disminuye pero no se me ocurre otra forma de reparametrizar los datos.\n",
    "Ahora vamos a predecir los datos de validacion y veamos nuestro accuracy."
   ]
  },
  {
   "cell_type": "code",
   "execution_count": 34,
   "metadata": {},
   "outputs": [],
   "source": [
    "#Definimos la funcion sigmoide original y la llamamos predice\n",
    "def predice(x,theta):\n",
    "    #funcion sigmoide original calculada con los vectores de entrada theta y x\n",
    "    sigma = ((1)/(1+np.exp(-(theta.T@x))))\n",
    "    #regresa el valor de sigma\n",
    "    return sigma"
   ]
  },
  {
   "cell_type": "code",
   "execution_count": 35,
   "metadata": {},
   "outputs": [],
   "source": [
    "#crea un nuevo array que contendra nuestras predicciones a partir de nuestro modelo entrenado\n",
    "#que nos arrojo nuestro vector de thetas optimo\n",
    "yPred = np.zeros((xVa.shape[0],),dtype=int)\n",
    "#creamos un array que contiene las probabilidades\n",
    "probabilidades = np.zeros((xVa.shape[0],),dtype=float)\n",
    "#itera sobre las filas del vector xVa\n",
    "for i in range(xVa.shape[0]):\n",
    "    #define el float z que contendra la prediccion del vector en la fila[i] de xVa, usa las thetas optimas\n",
    "    #previamente calculadas por nuestro modelito\n",
    "    z = predice(xVa[i],ajusteParam)\n",
    "    #guarda a z en la fila i del array probabilidades\n",
    "    probabilidades[i] = z\n",
    "    #si z es mayor que 0.5, entonces la prediccion es 1\n",
    "    if z >0.5:\n",
    "        yPred[i] = 1\n",
    "    #en otro caso, entonces la prediccion es 0\n",
    "    else:\n",
    "        yPred[i]=0    "
   ]
  },
  {
   "cell_type": "code",
   "execution_count": 36,
   "metadata": {},
   "outputs": [
    {
     "data": {
      "text/plain": [
       "array([1, 1, 0, 1, 1, 1, 1, 1, 0, 1, 1, 1, 1, 1, 1, 1, 1, 1, 1, 1, 1, 0,\n",
       "       1, 0, 0, 0, 1, 0, 1, 1, 1, 1, 1, 1, 1, 1, 1, 0, 1, 1, 1, 1, 0, 1,\n",
       "       0, 0, 1, 1, 0, 1, 0, 0, 1, 1, 0, 0, 0, 1, 1, 1, 0, 0, 1, 1, 1, 1,\n",
       "       1, 1, 1, 1, 1, 1, 1, 1, 1, 1, 1, 1, 0, 1, 1, 1, 0, 1, 0, 1, 1, 0,\n",
       "       1, 1, 1, 1, 1, 1, 0, 0, 1, 1, 1, 1, 1, 1, 1, 1, 0, 0, 1, 1, 1, 1,\n",
       "       0, 1, 0, 0, 1])"
      ]
     },
     "execution_count": 36,
     "metadata": {},
     "output_type": "execute_result"
    }
   ],
   "source": [
    "#imprime nuestro array de predicciones\n",
    "yPred"
   ]
  },
  {
   "cell_type": "code",
   "execution_count": 37,
   "metadata": {},
   "outputs": [
    {
     "data": {
      "text/plain": [
       "array([1., 0., 0., 1., 1., 0., 1., 1., 0., 1., 1., 1., 1., 1., 1., 0., 0.,\n",
       "       0., 1., 0., 0., 0., 1., 1., 0., 0., 1., 0., 1., 1., 1., 1., 1., 1.,\n",
       "       1., 1., 1., 1., 1., 0., 1., 1., 1., 1., 1., 1., 1., 1., 0., 1., 0.,\n",
       "       1., 1., 1., 0., 0., 1., 0., 1., 1., 0., 0., 1., 1., 1., 1., 1., 1.,\n",
       "       1., 1., 1., 0., 1., 1., 1., 1., 1., 1., 1., 1., 1., 0., 1., 1., 1.,\n",
       "       1., 0., 0., 1., 1., 1., 1., 1., 0., 1., 1., 1., 0., 1., 0., 1., 1.,\n",
       "       1., 1., 1., 1., 1., 1., 0., 0., 1., 1., 0., 0., 0.])"
      ]
     },
     "execution_count": 37,
     "metadata": {},
     "output_type": "execute_result"
    }
   ],
   "source": [
    "#imprime el array de resultados original\n",
    "yVa"
   ]
  },
  {
   "cell_type": "code",
   "execution_count": 38,
   "metadata": {},
   "outputs": [
    {
     "name": "stdout",
     "output_type": "stream",
     "text": [
      "0.7130434782608696\n"
     ]
    }
   ],
   "source": [
    "#imprime el accuracy score para el array de predicciones y el original\n",
    "print(accuracy_score(yPred,yVa))"
   ]
  },
  {
   "cell_type": "markdown",
   "metadata": {},
   "source": [
    "A pesar de que el error no lo pudimos bajar de 121, debido a la naturaleza del problema, obtenemos un accuracy del 70% que se considera bastante decente. Ahora veamos sus curvas ROC"
   ]
  },
  {
   "cell_type": "code",
   "execution_count": 39,
   "metadata": {},
   "outputs": [],
   "source": [
    "#definimos funcion de falsos positivos\n",
    "def radio_falsos_positivos(probabilities, thres):\n",
    "    return np.mean(probabilities >= thres)"
   ]
  },
  {
   "cell_type": "code",
   "execution_count": 40,
   "metadata": {},
   "outputs": [],
   "source": [
    "#definimos funcion de verdaderos positivos\n",
    "def radio_verdaderos_positivos(probabilities, thres):\n",
    "    return np.mean(probabilities >= thres)"
   ]
  },
  {
   "cell_type": "code",
   "execution_count": 41,
   "metadata": {},
   "outputs": [],
   "source": [
    "#definimos funcion que calcula curva roc\n",
    "def roc(probabilities, y):\n",
    "    positivos = np.where(y == 1)\n",
    "    negativos = np.where(y == 0)\n",
    "\n",
    "    rvps = np.zeros(np.unique(probabilities).shape[0])\n",
    "    rfps = np.zeros(np.unique(probabilities).shape[0])\n",
    "    \n",
    "    for i, p in enumerate(np.unique(probabilities)[::-1]):\n",
    "        rvps[i] = radio_verdaderos_positivos(probabilities[positivos], p)\n",
    "        rfps[i] = radio_falsos_positivos(probabilities[negativos], p)\n",
    "\n",
    "    return rvps, rfps"
   ]
  },
  {
   "cell_type": "code",
   "execution_count": 42,
   "metadata": {},
   "outputs": [],
   "source": [
    "#funcion que calcula el area bajo la curva roc usando la formula de shoelace\n",
    "def area_poligono(vertices):\n",
    "    area = 0.0\n",
    "    n_vert = len(vertices)\n",
    "    for i in range(n_vert - 1):\n",
    "        area = area + vertices[i][0] * vertices[i + 1][1]\n",
    "        area = area - vertices[i + 1][0] * vertices[i][1]\n",
    "\n",
    "    area = area + vertices[n_vert - 1][0] * vertices[0][1]\n",
    "    area = area - vertices[0][0] * vertices[n_vert - 1][1]\n",
    "\n",
    "    return 0.5 * abs(area)\n",
    "\n",
    "def aucroc(tfp, tvp):\n",
    "    auc = 0.0\n",
    "    fprev = 0.0\n",
    "    vprev = 0.0\n",
    "    for i,(f,v) in enumerate(zip(tfp, tvp)):\n",
    "        auc += area_poligono([[fprev, 0], [fprev, vprev], [f, v], [f, 0]])\n",
    "        fprev = f\n",
    "        vprev = v\n",
    "\n",
    "    return auc + area_poligono([[fprev, 0], [fprev, vprev], [1, 1], [1, 0]])"
   ]
  },
  {
   "cell_type": "code",
   "execution_count": 43,
   "metadata": {},
   "outputs": [],
   "source": [
    "#con la funcion que calcula la curva roc le damos de comer la matriz de probabilidades definida previamente\n",
    "#y el vector de yValidacion (valores reales) y nos regresa el rasdio de verdaderos positivos (TPR) la guardamos en\n",
    "#la variable rvps y el radio de falsos positivos (FPR)\n",
    "rvps, rfps = roc(probabilidades, yVa)"
   ]
  },
  {
   "cell_type": "code",
   "execution_count": 44,
   "metadata": {},
   "outputs": [
    {
     "data": {
      "image/png": "[encoded data removed]",
      "text/plain": [
       "<Figure size 432x288 with 1 Axes>"
      ]
     },
     "metadata": {
      "needs_background": "light"
     },
     "output_type": "display_data"
    }
   ],
   "source": [
    "#GRaficamos el TPR en funcion del FPR previamente calculados\n",
    "plt.plot(rfps, rvps)\n",
    "plt.plot([0, 1], [0, 1], '--')\n",
    "plt.fill_between(rfps, rvps, 0, alpha=0.5, color = 'pink')\n",
    "plt.xlabel('Tasa de falsos positivos')\n",
    "plt.ylabel('Tasa de verdaderos positivos')\n",
    "plt.show()"
   ]
  },
  {
   "cell_type": "code",
   "execution_count": 45,
   "metadata": {},
   "outputs": [
    {
     "data": {
      "text/plain": [
       "0.6930894308943091"
      ]
     },
     "execution_count": 45,
     "metadata": {},
     "output_type": "execute_result"
    }
   ],
   "source": [
    "#calculamos el area bajo la curva definida por el TPR y FPR\n",
    "aucroc(rfps, rvps)"
   ]
  },
  {
   "cell_type": "markdown",
   "metadata": {},
   "source": [
    "Veamos que el area bajo la curva ROC es de 0.7 que tambien se considera es un modelo decente."
   ]
  },
  {
   "cell_type": "code",
   "execution_count": 46,
   "metadata": {},
   "outputs": [],
   "source": [
    "#Para la curva precision-exahustividad sabemos que por definicion el radio de verdaderos positivos\n",
    "#es igual a la exahustividad, que ya se calculo previamente. Solo basta calcular la precision. Para ello:\n",
    "#define una matriz llamada positivos cuyos valores corresponden a la posicion para la cual hay un 1 en el \n",
    "#vector de validacion\n",
    "positivos = np.where(yVa == 1)\n",
    "#define una matriz llamada negativos cuyos valores corresponden a la posicion para la cual hay 1 en el vector\n",
    "#yPred (predicciones) y ademas en la matriz yVa (valores reales) haya un cero. Esto se hace ya que recordemos\n",
    "#que los falsos positivos se definen como un resultado que indica la existencia de una condicion cuando en\n",
    "#realidad no lo es. Traducido a nuestro problema vemos que esto corresponde a el resultado en nuestra prediccion\n",
    "#que nos dice que si gano un jugador cuando no es verdad. Notemos que la contraparte descrita como no gano cuando\n",
    "#en realidad si lo hizo corresponde a un falso negativo.\n",
    "negativos = np.where((yPred==1) & (yVa != yPred))\n",
    "#definimos nuestro vector de precision que tendra dimension del numero de valores diferentes en la matriz probabilidades\n",
    "precision = np.zeros(np.unique(probabilidades).shape[0])\n",
    "\n",
    "#iteramos i de 0 hasta el tamano de la matriz probabilidades, p se define como el valor de las probabilidad en la\n",
    "#posicion i\n",
    "for i, p in enumerate(np.unique(probabilidades)[::-1]):\n",
    "    #definimos el float verdaderos positivos como la suma (el total de valores que cumplen la condicion)\n",
    "    #de aquellos valores en la posicion guardada en el array positivos tal que son mayores o iguales que p \n",
    "    truePositives = np.sum(probabilidades[positivos] >= p)\n",
    "    #definimos el float falsos positivos como la suma (el total de valores que cumplen la condicion)\n",
    "    #de aquellos valores en la posicion guardada en el array negativos tal que son mayores o iguales que p \n",
    "    falsePositives = np.sum(probabilidades[negativos] >= p)\n",
    "    #guarda en la posicion i del array precision el cociente de los verdaderos positivos entre verdaderos\n",
    "    #positivos mas falsos positivos (definicion de exahustividad)\n",
    "    precision[i] = (truePositives)/(falsePositives+truePositives)"
   ]
  },
  {
   "cell_type": "code",
   "execution_count": 47,
   "metadata": {},
   "outputs": [
    {
     "data": {
      "text/plain": [
       "array([1.        , 0.83333333, 0.84      , 0.85185185, 0.82758621,\n",
       "       0.83333333, 0.84375   , 0.82857143, 0.83333333, 0.83783784,\n",
       "       0.84444444, 0.8627451 , 0.86538462, 0.87037037, 0.875     ,\n",
       "       0.85245902, 0.85483871, 0.84126984, 0.84375   , 0.83076923,\n",
       "       0.81818182, 0.8       , 0.78947368, 0.79220779, 0.80246914,\n",
       "       0.79268293, 0.79518072, 0.78571429, 0.78823529, 0.79069767,\n",
       "       0.79775281, 0.8       , 0.8       , 0.80645161, 0.80851064,\n",
       "       0.80851064, 0.81052632, 0.81052632, 0.8125    , 0.81443299,\n",
       "       0.81443299, 0.81632653, 0.81818182, 0.82      ])"
      ]
     },
     "execution_count": 47,
     "metadata": {},
     "output_type": "execute_result"
    }
   ],
   "source": [
    "#mostramos el array precision recien calculado\n",
    "precision"
   ]
  },
  {
   "cell_type": "code",
   "execution_count": 48,
   "metadata": {},
   "outputs": [
    {
     "data": {
      "image/png": "[encoded data removed]",
      "text/plain": [
       "<Figure size 432x288 with 1 Axes>"
      ]
     },
     "metadata": {
      "needs_background": "light"
     },
     "output_type": "display_data"
    }
   ],
   "source": [
    "#graficamos la curva precision-exahustividad\n",
    "plt.plot(rvps,precision)\n",
    "plt.fill_between(rvps,precision, 0, alpha=0.5, color = 'pink')\n",
    "plt.xlabel('Exahustividad')\n",
    "plt.ylabel('Precision')\n",
    "plt.show()"
   ]
  },
  {
   "cell_type": "code",
   "execution_count": 49,
   "metadata": {},
   "outputs": [
    {
     "data": {
      "text/plain": [
       "0.8446761907982621"
      ]
     },
     "execution_count": 49,
     "metadata": {},
     "output_type": "execute_result"
    }
   ],
   "source": [
    "#mostramos el area bajo la curva de la grafica precision-exahustividad\n",
    "#usando la funcion que calcula el area definida previamente\n",
    "aucroc(rvps,precision)"
   ]
  },
  {
   "cell_type": "markdown",
   "metadata": {},
   "source": [
    "* Compara el clasificador bayesiano ingenuo y regresión logística en este problema. ¿Qué ventajas y desventajas tienen los modelos entrenados? ¿Qué pasaría si se entrena el clasificador bayesiano ingenuo con los vectores reparametrizados o si se entrena un modelo de regresión logística usando los vectores de entrada originales? ¿Consideras que las presuposiciones de cada clasificador son apropiadas para los datos del problema? ¿Para este tipo de problemas cuál de los dos recomendarías y por qué?"
   ]
  },
  {
   "cell_type": "markdown",
   "metadata": {},
   "source": [
    "Entrenemos nuestro naive Bayes con los datos reparametrizados:"
   ]
  },
  {
   "cell_type": "code",
   "execution_count": 50,
   "metadata": {},
   "outputs": [
    {
     "name": "stdout",
     "output_type": "stream",
     "text": [
      "0.7217391304347827\n"
     ]
    }
   ],
   "source": [
    "xw = matrizPrueba[:,0:2]\n",
    "yw = matrizPrueba[:,2]\n",
    "xww = matrizPrueba1[:,0:2]\n",
    "yww = matrizPrueba1[:,2]\n",
    "\n",
    "naiveCati = CategoricalNB(alpha=0.01)\n",
    "naiveCati.fit(xw,yw)\n",
    "prediccion = naiveCati.predict(xww)\n",
    "\n",
    "#usamos la funcion accuracy_score entre las variables prediccion e yValid\n",
    "#tal y como fueron definidos. Esta funcion muestra el porcentaje de clasificaciones buenas\n",
    "#que hace el modelo con respecto a todas las muestras\n",
    "print(accuracy_score(prediccion,yww))"
   ]
  },
  {
   "cell_type": "code",
   "execution_count": 51,
   "metadata": {},
   "outputs": [
    {
     "data": {
      "text/plain": [
       "array([1.])"
      ]
     },
     "execution_count": 51,
     "metadata": {},
     "output_type": "execute_result"
    }
   ],
   "source": [
    "ceros = np.zeros((1,2))\n",
    "naiveCati.predict(ceros)"
   ]
  },
  {
   "cell_type": "code",
   "execution_count": 52,
   "metadata": {},
   "outputs": [
    {
     "data": {
      "text/plain": [
       "array([[0.4705526]])"
      ]
     },
     "execution_count": 52,
     "metadata": {},
     "output_type": "execute_result"
    }
   ],
   "source": [
    "ceros = np.zeros((2,1))\n",
    "un = np.ones((1,1),dtype=np.float32)\n",
    "ceros = np.append(un,ceros,axis=0)\n",
    "pr = predice(ceros,ajusteParam)\n",
    "pr"
   ]
  },
  {
   "cell_type": "markdown",
   "metadata": {},
   "source": [
    "Veamos que la reparemetrizacion si afecta el rendimiento del clasificador, ya que originalmente, para obtener 0.73 de accuracy con los datos originales, fue necesario aumentar el valor del suavizado de laplace a 20, mientras que para este caso el suavizado fue de 0.01 y se obtuvo practicamente el mismo acurracy. Si se usa 0.01 como suavizado de laplace con los datos originales, el accuraccy decrece hasta 0.69, un 3% menos pero es ya algo significativo.\n",
    "Ahora entrenemos nuestra regresion logistica con los datos originales."
   ]
  },
  {
   "cell_type": "code",
   "execution_count": 53,
   "metadata": {},
   "outputs": [
    {
     "name": "stderr",
     "output_type": "stream",
     "text": [
      "C:\\ProgramData\\Anaconda3\\lib\\site-packages\\ipykernel_launcher.py:5: RuntimeWarning: divide by zero encountered in log\n",
      "  \"\"\"\n",
      "C:\\ProgramData\\Anaconda3\\lib\\site-packages\\ipykernel_launcher.py:5: RuntimeWarning: invalid value encountered in multiply\n",
      "  \"\"\"\n",
      "C:\\ProgramData\\Anaconda3\\lib\\site-packages\\ipykernel_launcher.py:4: RuntimeWarning: overflow encountered in exp\n",
      "  after removing the cwd from sys.path.\n",
      "C:\\ProgramData\\Anaconda3\\lib\\site-packages\\ipykernel_launcher.py:5: RuntimeWarning: overflow encountered in exp\n",
      "  \"\"\"\n"
     ]
    }
   ],
   "source": [
    "unos = np.ones((xTrain.shape[0],1),dtype=np.float32)\n",
    "#le pegamos a la columna de unos los datos de xTrain\n",
    "xTrainOrig = np.append(unos,xTrain,axis=1)\n",
    "#creamos un array de unos de la mismas filas de las filas de xValid y una columna, esto para poder hacer validacion\n",
    "unos = np.ones((xVa.shape[0],1),dtype=np.float32)\n",
    "#le pegamos a la columna de unos los datos de xValid\n",
    "xValidOrig = np.append(unos,xValid,axis=1)\n",
    "ajusteOriginales,perdidaOrig = entrena(xTrainOrig,yTrain,800)"
   ]
  },
  {
   "cell_type": "markdown",
   "metadata": {},
   "source": [
    "Vemos que de entrada se tienen multiples problemas como overflow o division entre cero, por lo que no es factible hacer regresion logistica con los datos originales."
   ]
  },
  {
   "cell_type": "markdown",
   "metadata": {},
   "source": [
    "Por otro lado, el accuracy score de la regresion logistica como se planteo es de 0.71, que es muy similar con el naive Bayes entrenado para datos reparametrizados y datos originales. Sin embargo, con la regresion logistica obtenemos mas informacion con las curvas ROC y precision exahustividad, que para el caso de naive Bayes no estan definidas. Dado que el acurracy es muy similar, entonces yo recomendaria usar la regresion logistica, ya que obtenemos mas informacion con las curvas, que pueden ser escenciales a la hora de la evaluacion de datos nuevos de entrada."
   ]
  },
  {
   "cell_type": "markdown",
   "metadata": {},
   "source": [
    "Con respecto a los datos podemos decir que el hecho de que varios jugadores tengan winrate de 0 nos mete muchisimo ruido, ya que observemos que al intentar predecir el resultado de un juego en el cual los dos jugadores tienen un winrate de 0, Naive predice que siempre va a ganar el jugador de la segunda columna, mientras que la regresion logistica nos dice que va a ganar el que se coloca en la primera columna (ver 4 celdas atras. Ahi se hacen las predicciones). La posicion del jugador en la tabla (primera o segunda columnas) es informacion no relevante pero vemos que para este conjunto de datos si lo es, al igual que el clasificador. Para evitar esto es necesario agregar otras columnas con respecto a la informacion de los jugadores que si sea relevante como por ejemplo si es un jugador experto o no. Ademas el winrate no es informacion tan relevante en la vida real, supongamos que enfrentamos a dos jugadores cuyo winrate no es muy diferente necesartiamente ganara aquel que tiene mayor winrate? La respuesta es no, el go es un juego que requiere habilidad y un poco de suerte. Este hecho se logro observar. El regresor dara prioridad a aquel cuyo winrate sea mayor pero en los datos de validacion se observan casos donde jugadores de menor winrate gana la partida. Un caso analogo sucede cuando enfrentamos a dos jugadores con winrate de 1 ¿A quien le damos preferencia y porque? Supongo que la preferencia se basa, en estos casos, en la posicion del jugador en la tabla, si en la primera columna hay jugadores que ganaron mas, entonces la preferencia es sobre esa primera columna. Resumiendo, si quisieramos mejorar las predicciones necesitamos mas variables que caractericen al jugador. El winrate es solo un numero que mide la cantidad de partidas ganadas en funcion de las partidas totales jugadas y la base de datos no es homogenea con respecto a las partidas jugadas de cada jugador. Existen casos en los que un jugador jugo 3 partidas, mientras que otro lo hizo mas de 10 veces. De esta forma, es de esperar que Naive, tanto como la regresion no sean tan buenos a la hora de predecir."
   ]
  },
  {
   "cell_type": "markdown",
   "metadata": {},
   "source": [
    "Naive tiene la ventaja de tener una implementacion mas sencilla que el regresor lineal y no dependemos del calculo del error, solo hay que evaluar las distribuciones de clase y hallar el maximo. Tambien, Naive es muy flexible con respecto a la reparametrizacion. La regresion lineal requiere hacer descenso por gradiente para hallar los parametros de theta, por ende no podemos asegurar que los parametros calculados son la solucion a la ecuacion de la derivada del error aunque si una aproximacion decente.\n",
    "Por otro lado, como ya comenté la regresion lineal ofrece más informacion del ajuste mediante las curvas ROC y precision exahustividad. Este modelo no me fue posible ajustarlo con los datos originales debido a overflow en la funcion exponencial"
   ]
  },
  {
   "cell_type": "markdown",
   "metadata": {},
   "source": [
    "Para el caso de la regresion, los datos no son apropiados, ya que son necesarios una mayor cantidad de datos de entrenamiento para obtener mejorias. Para ambos casos no sabemos si los datos de entrenamiento son realmente independientes, ya que puede suceder que existan mas de una partida ente un jugador j y un jugador i con resultados diferentes. Eso no lo podemos asegurar sin revisar con cuidado los datos. Por lo que de esta forma se pierde la suposicion de independencia entre variables."
   ]
  },
  {
   "cell_type": "markdown",
   "metadata": {},
   "source": [
    "* Deriva la regla de actualizacion para el algoritmo del descenso por gradiente de un clasificador donde $\\hat{y}=sigm(\\theta^{T}\\vec{x})$ y la funcion de perdida sea:\n",
    "$$E(\\theta) = \\frac{1}{2}\\sum_{i=1}^{n}\\left( \\hat{y}^{(i)}-y^{(i)} \\right)$$\n",
    "Discute las diferencias entre este clasificador y el de regresion logistica y compara sus rendimientos en la tarea de prediccion de juegos"
   ]
  },
  {
   "cell_type": "markdown",
   "metadata": {},
   "source": [
    "Basta con encontrar $\\frac{d}{d\\theta}E(\\theta)$, para ello reescribimos $E(\\theta)$ en forma vectorial dada como:\n",
    "$$E(\\vec{\\theta})=\\frac{1}{2}(p-y)$$ donde $p=sigm(\\theta^{T}\\vec{x})$.\n",
    "Usando la regla de la cadena tenemos que:\n",
    "$$\\frac{\\partial}{\\partial \\theta_j}=\\frac{\\partial}{\\partial p}\\frac{\\partial p}{\\partial z}\\frac{\\partial z}{\\partial \\theta_j}$$.\n",
    "Entonces:\n",
    "$$\\frac{\\partial E}{\\partial p} = 1/2$$\n",
    "Como $p=sigm(z)$, donde $z=\\theta^{T}\\vec{x}$, luego\n",
    "$$\\frac{\\partial p}{\\partial z}= sigm(z)(1-sigm(z)) $$\n",
    "Como $z=\\theta^{T}\\vec{x}$ entonces:\n",
    "$$\\frac{\\partial z}{\\partial \\theta_j}=x_j$$\n",
    "De esta forma tenemos que:\n",
    "$$\\frac{\\partial E}{\\partial \\theta_j}=\\frac{\\partial E}{\\partial p}\\frac{\\partial p}{\\partial z}\\frac{\\partial z}{\\partial \\theta_j} = \\frac{1}{2}sigm(z)(1-sigm(z))x_j$$\n",
    "Sustituyendo las $z$ tenemos que:\n",
    "$$\\frac{\\partial E}{\\partial \\theta_j}=\\frac{1}{2}sigm(\\theta^{T}\\vec{x})(1-sigm(\\theta^{T}\\vec{x}))x_j$$\n",
    "que no depende de $y$. Entonces usando la definicion del ascenso del gradiente, tenemos que la regla de actualizacion es:\n",
    "$$\\theta^{t+1}=\\theta^{t}+\\eta \\frac{\\partial E}{\\partial \\theta}$$\n",
    "Que resulta ser:\n",
    "$$\\theta^{t+1}=\\theta^{t}+\\eta \\left( \\left(\\frac{1}{2}\\right) sigm(\\theta^{T}\\vec{x})(1-sigm(\\theta^{T}\\vec{x}))x_j \\right)$$\n",
    "O en forma algebraica:\n",
    "$$\\theta^{t+1}=\\theta^{t}+\\eta \\left( \\left(\\frac{1}{2}\\right)\\sum_{i=1}^{n} sigm(\\theta^{T}\\vec{x}^{(i)})(1-sigm(\\theta^{T}\\vec{x}^{(i)}))x_j^{(i)} \\right)$$\n",
    "El gradiente tampoco tiene solucion cerrada por esa razon debe usarse descenso del gradiente"
   ]
  },
  {
   "cell_type": "code",
   "execution_count": 54,
   "metadata": {},
   "outputs": [],
   "source": [
    "#definimos nuestra funcion de perdida que es el negativo de la verosimilitud logaritmica\n",
    "#definido en las slides de la clase, archivo 3a_regresion_clasificacion_lineal.pdf slide 43\n",
    "#esta funcion nos regresa un valor de error\n",
    "def nuevoloss(x,y,theta):\n",
    "    error = 0.5*((1/(1+np.exp(-(theta.T@x))))-y)\n",
    "    return error"
   ]
  },
  {
   "cell_type": "code",
   "execution_count": 55,
   "metadata": {},
   "outputs": [],
   "source": [
    "#definimos nuestra funcion de entrenamiento para determinar el vector de Theta que minimiza el error nuevo\n",
    "#con ayuda del descenso del gradiente. Esta funcion come vectores x, vectores y e un entero iteraciones\n",
    "def nuevoentrena(x,y,iteraciones):\n",
    "    #definimos una lista que contendra los errores para cada iteracion (distintos valores de theta)\n",
    "    perdida = []\n",
    "    #definimos nuestro vector de Thetas (theta_0,theta_1,theta_2) todos se inicializan en cero\n",
    "    theta = np.zeros((3,1),dtype=np.float32)\n",
    "    #iteramos sobre las iteraciones definidas por el usuario\n",
    "    for pasos in range(iteraciones):\n",
    "        #Reseteamos/seteamos el gradiente como un vector de ceros (cada entrada sera el gradiente para cada variable)\n",
    "        gradiente = np.zeros((3,1),dtype=np.float32)\n",
    "        #Reseteamos/seteamos la perdida para cada iteracion en las filas de x en cero\n",
    "        perdidaiter = 0\n",
    "        #para cada fila del vector de entrada x\n",
    "        for u in range(x.shape[0]):\n",
    "            #para cada fila del vector theta (son 3)\n",
    "            for r in range(theta.shape[0]):\n",
    "                #para una fila dada de theta, suma iterativamente el gradiente + x en la fila u, columna r\n",
    "                #por la funcion sigmoide que definimos antes con entradas el vector x en la fila, el valor\n",
    "                #real y en la fila u y el parametro theta\n",
    "                #Todo esto es la definicion del gradiente o derivada de la nueva funcion error\n",
    "                gradiente[r] = gradiente[r] + x[u][r]*predice(x[u],theta)*(1-predice(x[u],theta))\n",
    "            #una vez que terminas de calcular el gradiente en una fila dada, suma iterativamente\n",
    "            #la perdida en cada iteracion hasta terminar las filas de x\n",
    "            perdidaiter += nuevoloss(x[u],y[u],theta)\n",
    "        #una vez que termines de calcular el gradiente y la perdida de cada fila, actualiza el valor del vector\n",
    "        #theta haciendo uso de el paso definido como 0.01 y el gradiente calculado, repite con este nuevo vector\n",
    "        #theta hasta acabar las iteraciones\n",
    "        theta += 0.001*0.5*gradiente\n",
    "        #en la lista de perdidas agrega la perdida que calculaste\n",
    "        perdida.append(-1*perdidaiter[0])\n",
    "    #regresa el ultimo valor de theta y la lista de perdidas\n",
    "    return theta,perdida"
   ]
  },
  {
   "cell_type": "code",
   "execution_count": 56,
   "metadata": {},
   "outputs": [
    {
     "data": {
      "text/plain": [
       "array([[3.5738623],\n",
       "       [1.6087385],\n",
       "       [1.7231103]], dtype=float32)"
      ]
     },
     "execution_count": 56,
     "metadata": {},
     "output_type": "execute_result"
    }
   ],
   "source": [
    "#Usando la forma con la funcion definida de entrena, pasamos los vectores xTr e yTr\n",
    "#con las mismas iteraciones que la forma manual, esto para comprobar que efectivamente\n",
    "#la funcion hace lo mismo que la forma manual\n",
    "nuevoAjusteParam,nuevaPerdida = nuevoentrena(xTr,yTr,800)\n",
    "#mostramos los parametros del ajuste\n",
    "nuevoAjusteParam"
   ]
  },
  {
   "cell_type": "code",
   "execution_count": 57,
   "metadata": {},
   "outputs": [
    {
     "data": {
      "image/png": "[encoded data removed]",
      "text/plain": [
       "<Figure size 432x288 with 1 Axes>"
      ]
     },
     "metadata": {
      "needs_background": "light"
     },
     "output_type": "display_data"
    }
   ],
   "source": [
    "#graficamos el error en funcion de las iteraciones usando la lista perdidas\n",
    "#definida en la forma automatica o forma funcional\n",
    "plt.figure()\n",
    "plt.plot(range(len(nuevaPerdida)), nuevaPerdida, 'ro')\n",
    "plt.ylabel('Error')\n",
    "plt.xlabel('Iteraciones')\n",
    "plt.show()"
   ]
  },
  {
   "cell_type": "markdown",
   "metadata": {},
   "source": [
    "Vemos que con esta nueva funcion de error, la perdida calculada con el descenso del gradiente es de -76, que, si consideramos el valor absoluto, esta nueva funcion nos reduce el error en aproximadamente 40 unidades. Por lo que esperamos que el accuracy de este nuevo modelo sea mayor con respecto a la regresion logistica con su funcion de error definida en las slides. Veamos si esto es verdad."
   ]
  },
  {
   "cell_type": "code",
   "execution_count": 58,
   "metadata": {},
   "outputs": [],
   "source": [
    "#crea un nuevo array que contendra nuestras predicciones a partir de nuestro nuevo modelo entrenado\n",
    "#que nos arrojo nuestro vector de thetas optimo\n",
    "yNuevoPred = np.zeros((xVa.shape[0],),dtype=int)\n",
    "#creamos un array que contiene las probabilidades\n",
    "probabilidadesNuevo = np.zeros((xVa.shape[0],),dtype=float)\n",
    "#itera sobre las filas del vector xVa\n",
    "for i in range(xVa.shape[0]):\n",
    "    #define el float z que contendra la prediccion del vector en la fila[i] de xVa, usa las thetas optimas\n",
    "    #previamente calculadas por nuestro nuevo modelito\n",
    "    z = predice(xVa[i],nuevoAjusteParam)\n",
    "    #guarda a z en la fila i del array probabilidades\n",
    "    probabilidadesNuevo[i] = z\n",
    "    #si z es mayor que 0.5, entonces la prediccion es 1\n",
    "    if z >0.5:\n",
    "        yNuevoPred[i] = 1\n",
    "    #en otro caso, entonces la prediccion es 0\n",
    "    else:\n",
    "        yNuevoPred[i]=0    "
   ]
  },
  {
   "cell_type": "code",
   "execution_count": 59,
   "metadata": {},
   "outputs": [
    {
     "data": {
      "text/plain": [
       "array([1, 1, 1, 1, 1, 1, 1, 1, 1, 1, 1, 1, 1, 1, 1, 1, 1, 1, 1, 1, 1, 1,\n",
       "       1, 1, 1, 1, 1, 1, 1, 1, 1, 1, 1, 1, 1, 1, 1, 1, 1, 1, 1, 1, 1, 1,\n",
       "       1, 1, 1, 1, 1, 1, 1, 1, 1, 1, 1, 1, 1, 1, 1, 1, 1, 1, 1, 1, 1, 1,\n",
       "       1, 1, 1, 1, 1, 1, 1, 1, 1, 1, 1, 1, 1, 1, 1, 1, 1, 1, 1, 1, 1, 1,\n",
       "       1, 1, 1, 1, 1, 1, 1, 1, 1, 1, 1, 1, 1, 1, 1, 1, 1, 1, 1, 1, 1, 1,\n",
       "       1, 1, 1, 1, 1])"
      ]
     },
     "execution_count": 59,
     "metadata": {},
     "output_type": "execute_result"
    }
   ],
   "source": [
    "yNuevoPred"
   ]
  },
  {
   "cell_type": "code",
   "execution_count": 60,
   "metadata": {},
   "outputs": [
    {
     "data": {
      "text/plain": [
       "array([1., 0., 0., 1., 1., 0., 1., 1., 0., 1., 1., 1., 1., 1., 1., 0., 0.,\n",
       "       0., 1., 0., 0., 0., 1., 1., 0., 0., 1., 0., 1., 1., 1., 1., 1., 1.,\n",
       "       1., 1., 1., 1., 1., 0., 1., 1., 1., 1., 1., 1., 1., 1., 0., 1., 0.,\n",
       "       1., 1., 1., 0., 0., 1., 0., 1., 1., 0., 0., 1., 1., 1., 1., 1., 1.,\n",
       "       1., 1., 1., 0., 1., 1., 1., 1., 1., 1., 1., 1., 1., 0., 1., 1., 1.,\n",
       "       1., 0., 0., 1., 1., 1., 1., 1., 0., 1., 1., 1., 0., 1., 0., 1., 1.,\n",
       "       1., 1., 1., 1., 1., 1., 0., 0., 1., 1., 0., 0., 0.])"
      ]
     },
     "execution_count": 60,
     "metadata": {},
     "output_type": "execute_result"
    }
   ],
   "source": [
    "yVa"
   ]
  },
  {
   "cell_type": "code",
   "execution_count": 61,
   "metadata": {},
   "outputs": [
    {
     "name": "stdout",
     "output_type": "stream",
     "text": [
      "0.7130434782608696\n"
     ]
    }
   ],
   "source": [
    "print(accuracy_score(yNuevoPred,yVa))"
   ]
  },
  {
   "attachments": {
    "meme.jfif": {
     "image/jpeg": "[encoded data removed]"
    }
   },
   "cell_type": "markdown",
   "metadata": {},
   "source": [
    "![meme.jfif](attachment:meme.jfif)"
   ]
  },
  {
   "cell_type": "markdown",
   "metadata": {},
   "source": [
    "Entrenemos con solo 3 iteraciones (error proximo a cero)"
   ]
  },
  {
   "cell_type": "code",
   "execution_count": 62,
   "metadata": {},
   "outputs": [],
   "source": [
    "nuevoAjusteParam1,nuevaPerdida1 = nuevoentrena(xTr,yTr,4)\n",
    "\n",
    "yNuevoPred1 = np.zeros((xVa.shape[0],),dtype=int)\n",
    "#creamos un array que contiene las probabilidades\n",
    "probabilidadesNuevo1 = np.zeros((xVa.shape[0],),dtype=float)\n",
    "#itera sobre las filas del vector xVa\n",
    "for i in range(xVa.shape[0]):\n",
    "    #define el float z que contendra la prediccion del vector en la fila[i] de xVa, usa las thetas optimas\n",
    "    #previamente calculadas por nuestro nuevo modelito\n",
    "    z1 = predice(xVa[i],nuevoAjusteParam1)\n",
    "    #guarda a z en la fila i del array probabilidades\n",
    "    probabilidadesNuevo1[i] = z1\n",
    "    #si z es mayor que 0.5, entonces la prediccion es 1\n",
    "    if z >0.5:\n",
    "        yNuevoPred1[i] = 1\n",
    "    #en otro caso, entonces la prediccion es 0\n",
    "    else:\n",
    "        yNuevoPred1[i]=0    "
   ]
  },
  {
   "cell_type": "code",
   "execution_count": 63,
   "metadata": {},
   "outputs": [
    {
     "name": "stdout",
     "output_type": "stream",
     "text": [
      "0.7130434782608696\n"
     ]
    }
   ],
   "source": [
    "print(accuracy_score(yNuevoPred1,yVa))"
   ]
  },
  {
   "attachments": {
    "meme.jfif": {
     "image/jpeg": "[encoded data removed]"
    }
   },
   "cell_type": "markdown",
   "metadata": {},
   "source": [
    "![meme.jfif](attachment:meme.jfif)"
   ]
  },
  {
   "cell_type": "code",
   "execution_count": 64,
   "metadata": {},
   "outputs": [
    {
     "data": {
      "text/plain": [
       "array([1, 1, 1, 1, 1, 1, 1, 1, 1, 1, 1, 1, 1, 1, 1, 1, 1, 1, 1, 1, 1, 1,\n",
       "       1, 1, 1, 1, 1, 1, 1, 1, 1, 1, 1, 1, 1, 1, 1, 1, 1, 1, 1, 1, 1, 1,\n",
       "       1, 1, 1, 1, 1, 1, 1, 1, 1, 1, 1, 1, 1, 1, 1, 1, 1, 1, 1, 1, 1, 1,\n",
       "       1, 1, 1, 1, 1, 1, 1, 1, 1, 1, 1, 1, 1, 1, 1, 1, 1, 1, 1, 1, 1, 1,\n",
       "       1, 1, 1, 1, 1, 1, 1, 1, 1, 1, 1, 1, 1, 1, 1, 1, 1, 1, 1, 1, 1, 1,\n",
       "       1, 1, 1, 1, 1])"
      ]
     },
     "execution_count": 64,
     "metadata": {},
     "output_type": "execute_result"
    }
   ],
   "source": [
    "yNuevoPred1"
   ]
  },
  {
   "cell_type": "markdown",
   "metadata": {},
   "source": [
    "Vemos que al entrenar con los supuestos parametros optimos y con los parametros tales que el error sea cercano a cero (4 iteraciones) el accuracy score del nuevo modelo coincide exactamente con el acurracy de la regresion lineal original. Sin embargo, vemos que las predicciones para los primeros dos casos predicen que el jugador en la segunda columna siempre va a ganar sin importar nada. Esto se parece mas a un volado con moneda cargada. Entonces, el hecho de que el error disminuya al cambiar el modelo no implica una mejora en la prediccion. Ahora veamos las curvas ROC y precision exahustividad de este nuevo modelo."
   ]
  },
  {
   "cell_type": "code",
   "execution_count": 65,
   "metadata": {},
   "outputs": [],
   "source": [
    "#con la funcion que calcula la curva roc le damos de comer la matriz de probabilidades definida previamente\n",
    "#y el vector de yValidacion (valores reales) y nos regresa el rasdio de verdaderos positivos (TPR) la guardamos en\n",
    "#la variable rvps y el radio de falsos positivos (FPR)\n",
    "rvpsNuevo, rfpsNuevo = roc(probabilidadesNuevo, yVa)"
   ]
  },
  {
   "cell_type": "code",
   "execution_count": 66,
   "metadata": {},
   "outputs": [
    {
     "data": {
      "image/png": "[encoded data removed]",
      "text/plain": [
       "<Figure size 432x288 with 1 Axes>"
      ]
     },
     "metadata": {
      "needs_background": "light"
     },
     "output_type": "display_data"
    }
   ],
   "source": [
    "#GRaficamos el TPR en funcion del FPR previamente calculados\n",
    "plt.plot(rfpsNuevo, rvpsNuevo)\n",
    "plt.plot([0, 1], [0, 1], '--')\n",
    "plt.fill_between(rfpsNuevo, rvpsNuevo, 0, alpha=0.5, color = 'pink')\n",
    "plt.xlabel('Tasa de falsos positivos')\n",
    "plt.ylabel('Tasa de verdaderos positivos')\n",
    "plt.show()"
   ]
  },
  {
   "cell_type": "code",
   "execution_count": 67,
   "metadata": {},
   "outputs": [
    {
     "data": {
      "text/plain": [
       "0.4876201034737621"
      ]
     },
     "execution_count": 67,
     "metadata": {},
     "output_type": "execute_result"
    }
   ],
   "source": [
    "#calculamos el area bajo la curva definida por el TPR y FPR\n",
    "aucroc(rfpsNuevo, rvpsNuevo)"
   ]
  },
  {
   "cell_type": "markdown",
   "metadata": {},
   "source": [
    "Vemos que efectivamente, la curva ROC nos muestra que este modelo tiene un nuevo comportamiento y se hacerca a la del lanzamiento de una moneda ligeramente cargada. El area bajo la curva es de 0.48 que nos dice que este modelo tiene un accuracy de 70% por pura suerte, es decir el modelo le atino a equivocarse en la misma cantidad de veces que la regresion original. Con esta informacion afirmamos que este nuevo modelo no es para nada util.\n",
    "De nuevo aqui surge la discusion de que modelo escoger y refuerza mi conclusion. Imaginemos que entrenamos un Naive tal que reproduzca el accuracy de la regresion lineal pero no sabemos si estas predicciones fueron suerte tal y como este modelo lo hizo."
   ]
  },
  {
   "cell_type": "code",
   "execution_count": 68,
   "metadata": {},
   "outputs": [],
   "source": [
    "#Para la curva precision-exahustividad sabemos que por definicion el radio de verdaderos positivos\n",
    "#es igual a la exahustividad, que ya se calculo previamente. Solo basta calcular la precision. Para ello:\n",
    "#define una matriz llamada positivos cuyos valores corresponden a la posicion para la cual hay un 1 en el \n",
    "#vector de validacion\n",
    "positivosNuevo = np.where(yVa == 1)\n",
    "#define una matriz llamada negativos cuyos valores corresponden a la posicion para la cual hay 1 en el vector\n",
    "#yPred (predicciones) y ademas en la matriz yVa (valores reales) haya un cero. Esto se hace ya que recordemos\n",
    "#que los falsos positivos se definen como un resultado que indica la existencia de una condicion cuando en\n",
    "#realidad no lo es. Traducido a nuestro problema vemos que esto corresponde a el resultado en nuestra prediccion\n",
    "#que nos dice que si gano un jugador cuando no es verdad. Notemos que la contraparte descrita como no gano cuando\n",
    "#en realidad si lo hizo corresponde a un falso negativo.\n",
    "negativosNuevo = np.where((yNuevoPred==1) & (yVa != yNuevoPred))\n",
    "#definimos nuestro vector de precision que tendra dimension del numero de valores diferentes en la matriz probabilidades\n",
    "precisionNuevo = np.zeros(np.unique(probabilidadesNuevo).shape[0])\n",
    "\n",
    "#iteramos i de 0 hasta el tamano de la matriz probabilidades, p se define como el valor de las probabilidad en la\n",
    "#posicion i\n",
    "for i, p in enumerate(np.unique(probabilidadesNuevo)[::-1]):\n",
    "    #definimos el float verdaderos positivos como la suma (el total de valores que cumplen la condicion)\n",
    "    #de aquellos valores en la posicion guardada en el array positivos tal que son mayores o iguales que p \n",
    "    truePositivesNuevo = np.sum(probabilidadesNuevo[positivosNuevo] >= p)\n",
    "    #definimos el float falsos positivos como la suma (el total de valores que cumplen la condicion)\n",
    "    #de aquellos valores en la posicion guardada en el array negativos tal que son mayores o iguales que p \n",
    "    falsePositivesNuevo = np.sum(probabilidadesNuevo[negativosNuevo] >= p)\n",
    "    #guarda en la posicion i del array precision el cociente de los verdaderos positivos entre verdaderos\n",
    "    #positivos mas falsos positivos (definicion de exahustividad)\n",
    "    precisionNuevo[i] = (truePositivesNuevo)/(falsePositivesNuevo+truePositivesNuevo)"
   ]
  },
  {
   "cell_type": "code",
   "execution_count": 69,
   "metadata": {},
   "outputs": [
    {
     "data": {
      "image/png": "[encoded data removed]",
      "text/plain": [
       "<Figure size 432x288 with 1 Axes>"
      ]
     },
     "metadata": {
      "needs_background": "light"
     },
     "output_type": "display_data"
    }
   ],
   "source": [
    "#graficamos la curva precision-exahustividad\n",
    "plt.plot(rvpsNuevo,precisionNuevo)\n",
    "plt.fill_between(rvpsNuevo,precisionNuevo, 0, alpha=0.5, color = 'pink')\n",
    "plt.xlabel('Exahustividad')\n",
    "plt.ylabel('Precision')\n",
    "plt.show()"
   ]
  },
  {
   "cell_type": "code",
   "execution_count": 70,
   "metadata": {},
   "outputs": [
    {
     "data": {
      "text/plain": [
       "0.6979507957994917"
      ]
     },
     "execution_count": 70,
     "metadata": {},
     "output_type": "execute_result"
    }
   ],
   "source": [
    "#calculamos el area bajo la curva precision exahustividad\n",
    "aucroc(rvpsNuevo,precisionNuevo)"
   ]
  },
  {
   "cell_type": "markdown",
   "metadata": {},
   "source": [
    "Para este caso, tambien el área bajo la curva precision exahustividad disminuyó al rededor de 0.15 unidades. De aqui tambien vemos que este modelo es peor que el de la regresion logistica."
   ]
  },
  {
   "cell_type": "markdown",
   "metadata": {},
   "source": [
    "Concluimos que el error tanto la prediccion del modelo juegan un papel importante con respecto al comportamiento del modelo (curva ROC y precision exahustividad). Y el acurracy score no es una medida determinante de la calidad general de un modelo."
   ]
  }
 ],
 "metadata": {
  "kernelspec": {
   "display_name": "Python 3",
   "language": "python",
   "name": "python3"
  },
  "language_info": {
   "codemirror_mode": {
    "name": "ipython",
    "version": 3
   },
   "file_extension": ".py",
   "mimetype": "text/x-python",
   "name": "python",
   "nbconvert_exporter": "python",
   "pygments_lexer": "ipython3",
   "version": "3.7.7"
  }
 },
 "nbformat": 4,
 "nbformat_minor": 4
}
