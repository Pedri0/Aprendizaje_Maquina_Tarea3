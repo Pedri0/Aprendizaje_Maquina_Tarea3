{
 "cells": [
  {
   "cell_type": "markdown",
   "metadata": {},
   "source": [
    "# <font color=blue> Regresión logística vs clasificador bayesiano ingenuo </font>\n",
    "Compara los métodos de regresión logística y el clasificador bayesiano ingenuo en las siguientes\n",
    "tareas:\n",
    "\n",
    "Discute qué modelo seleccionarías y por qué. Todos los modelos deberán ser evaluados con 10\n",
    "repeticiones de validación cruzada estratificada de 5 particiones."
   ]
  },
  {
   "cell_type": "markdown",
   "metadata": {},
   "source": [
    "## Clasificación de spam"
   ]
  },
  {
   "cell_type": "code",
   "execution_count": 1,
   "metadata": {},
   "outputs": [
    {
     "name": "stdout",
     "output_type": "stream",
     "text": [
      "<class 'pandas.core.frame.DataFrame'>\n",
      "RangeIndex: 5172 entries, 0 to 5171\n",
      "Columns: 2001 entries, 0 to Spam?\n",
      "dtypes: int64(2001)\n",
      "memory usage: 79.0 MB\n"
     ]
    },
    {
     "data": {
      "text/html": [
       "<div>\n",
       "<style scoped>\n",
       "    .dataframe tbody tr th:only-of-type {\n",
       "        vertical-align: middle;\n",
       "    }\n",
       "\n",
       "    .dataframe tbody tr th {\n",
       "        vertical-align: top;\n",
       "    }\n",
       "\n",
       "    .dataframe thead th {\n",
       "        text-align: right;\n",
       "    }\n",
       "</style>\n",
       "<table border=\"1\" class=\"dataframe\">\n",
       "  <thead>\n",
       "    <tr style=\"text-align: right;\">\n",
       "      <th></th>\n",
       "      <th>0</th>\n",
       "      <th>1</th>\n",
       "      <th>2</th>\n",
       "      <th>3</th>\n",
       "      <th>4</th>\n",
       "      <th>5</th>\n",
       "      <th>6</th>\n",
       "      <th>7</th>\n",
       "      <th>8</th>\n",
       "      <th>9</th>\n",
       "      <th>...</th>\n",
       "      <th>1991</th>\n",
       "      <th>1992</th>\n",
       "      <th>1993</th>\n",
       "      <th>1994</th>\n",
       "      <th>1995</th>\n",
       "      <th>1996</th>\n",
       "      <th>1997</th>\n",
       "      <th>1998</th>\n",
       "      <th>1999</th>\n",
       "      <th>Spam?</th>\n",
       "    </tr>\n",
       "  </thead>\n",
       "  <tbody>\n",
       "    <tr>\n",
       "      <th>0</th>\n",
       "      <td>0</td>\n",
       "      <td>0</td>\n",
       "      <td>0</td>\n",
       "      <td>0</td>\n",
       "      <td>0</td>\n",
       "      <td>0</td>\n",
       "      <td>0</td>\n",
       "      <td>0</td>\n",
       "      <td>0</td>\n",
       "      <td>0</td>\n",
       "      <td>...</td>\n",
       "      <td>0</td>\n",
       "      <td>0</td>\n",
       "      <td>0</td>\n",
       "      <td>0</td>\n",
       "      <td>0</td>\n",
       "      <td>0</td>\n",
       "      <td>0</td>\n",
       "      <td>0</td>\n",
       "      <td>0</td>\n",
       "      <td>1</td>\n",
       "    </tr>\n",
       "    <tr>\n",
       "      <th>1</th>\n",
       "      <td>1</td>\n",
       "      <td>0</td>\n",
       "      <td>0</td>\n",
       "      <td>0</td>\n",
       "      <td>0</td>\n",
       "      <td>0</td>\n",
       "      <td>0</td>\n",
       "      <td>0</td>\n",
       "      <td>0</td>\n",
       "      <td>0</td>\n",
       "      <td>...</td>\n",
       "      <td>0</td>\n",
       "      <td>0</td>\n",
       "      <td>0</td>\n",
       "      <td>0</td>\n",
       "      <td>0</td>\n",
       "      <td>0</td>\n",
       "      <td>0</td>\n",
       "      <td>0</td>\n",
       "      <td>1</td>\n",
       "      <td>1</td>\n",
       "    </tr>\n",
       "    <tr>\n",
       "      <th>2</th>\n",
       "      <td>1</td>\n",
       "      <td>0</td>\n",
       "      <td>0</td>\n",
       "      <td>0</td>\n",
       "      <td>0</td>\n",
       "      <td>0</td>\n",
       "      <td>0</td>\n",
       "      <td>0</td>\n",
       "      <td>0</td>\n",
       "      <td>0</td>\n",
       "      <td>...</td>\n",
       "      <td>0</td>\n",
       "      <td>0</td>\n",
       "      <td>0</td>\n",
       "      <td>0</td>\n",
       "      <td>0</td>\n",
       "      <td>0</td>\n",
       "      <td>0</td>\n",
       "      <td>0</td>\n",
       "      <td>0</td>\n",
       "      <td>1</td>\n",
       "    </tr>\n",
       "    <tr>\n",
       "      <th>3</th>\n",
       "      <td>0</td>\n",
       "      <td>0</td>\n",
       "      <td>0</td>\n",
       "      <td>0</td>\n",
       "      <td>0</td>\n",
       "      <td>0</td>\n",
       "      <td>0</td>\n",
       "      <td>0</td>\n",
       "      <td>0</td>\n",
       "      <td>0</td>\n",
       "      <td>...</td>\n",
       "      <td>0</td>\n",
       "      <td>1</td>\n",
       "      <td>0</td>\n",
       "      <td>0</td>\n",
       "      <td>0</td>\n",
       "      <td>0</td>\n",
       "      <td>0</td>\n",
       "      <td>0</td>\n",
       "      <td>0</td>\n",
       "      <td>1</td>\n",
       "    </tr>\n",
       "    <tr>\n",
       "      <th>4</th>\n",
       "      <td>1</td>\n",
       "      <td>0</td>\n",
       "      <td>0</td>\n",
       "      <td>0</td>\n",
       "      <td>0</td>\n",
       "      <td>0</td>\n",
       "      <td>0</td>\n",
       "      <td>0</td>\n",
       "      <td>0</td>\n",
       "      <td>0</td>\n",
       "      <td>...</td>\n",
       "      <td>0</td>\n",
       "      <td>0</td>\n",
       "      <td>0</td>\n",
       "      <td>0</td>\n",
       "      <td>0</td>\n",
       "      <td>0</td>\n",
       "      <td>0</td>\n",
       "      <td>0</td>\n",
       "      <td>0</td>\n",
       "      <td>1</td>\n",
       "    </tr>\n",
       "    <tr>\n",
       "      <th>...</th>\n",
       "      <td>...</td>\n",
       "      <td>...</td>\n",
       "      <td>...</td>\n",
       "      <td>...</td>\n",
       "      <td>...</td>\n",
       "      <td>...</td>\n",
       "      <td>...</td>\n",
       "      <td>...</td>\n",
       "      <td>...</td>\n",
       "      <td>...</td>\n",
       "      <td>...</td>\n",
       "      <td>...</td>\n",
       "      <td>...</td>\n",
       "      <td>...</td>\n",
       "      <td>...</td>\n",
       "      <td>...</td>\n",
       "      <td>...</td>\n",
       "      <td>...</td>\n",
       "      <td>...</td>\n",
       "      <td>...</td>\n",
       "      <td>...</td>\n",
       "    </tr>\n",
       "    <tr>\n",
       "      <th>5167</th>\n",
       "      <td>0</td>\n",
       "      <td>0</td>\n",
       "      <td>0</td>\n",
       "      <td>0</td>\n",
       "      <td>0</td>\n",
       "      <td>0</td>\n",
       "      <td>0</td>\n",
       "      <td>0</td>\n",
       "      <td>4</td>\n",
       "      <td>0</td>\n",
       "      <td>...</td>\n",
       "      <td>0</td>\n",
       "      <td>0</td>\n",
       "      <td>0</td>\n",
       "      <td>0</td>\n",
       "      <td>0</td>\n",
       "      <td>0</td>\n",
       "      <td>0</td>\n",
       "      <td>0</td>\n",
       "      <td>0</td>\n",
       "      <td>0</td>\n",
       "    </tr>\n",
       "    <tr>\n",
       "      <th>5168</th>\n",
       "      <td>0</td>\n",
       "      <td>0</td>\n",
       "      <td>0</td>\n",
       "      <td>0</td>\n",
       "      <td>3</td>\n",
       "      <td>4</td>\n",
       "      <td>0</td>\n",
       "      <td>0</td>\n",
       "      <td>0</td>\n",
       "      <td>0</td>\n",
       "      <td>...</td>\n",
       "      <td>0</td>\n",
       "      <td>0</td>\n",
       "      <td>0</td>\n",
       "      <td>0</td>\n",
       "      <td>0</td>\n",
       "      <td>0</td>\n",
       "      <td>0</td>\n",
       "      <td>0</td>\n",
       "      <td>0</td>\n",
       "      <td>0</td>\n",
       "    </tr>\n",
       "    <tr>\n",
       "      <th>5169</th>\n",
       "      <td>0</td>\n",
       "      <td>0</td>\n",
       "      <td>0</td>\n",
       "      <td>0</td>\n",
       "      <td>1</td>\n",
       "      <td>0</td>\n",
       "      <td>0</td>\n",
       "      <td>0</td>\n",
       "      <td>1</td>\n",
       "      <td>0</td>\n",
       "      <td>...</td>\n",
       "      <td>0</td>\n",
       "      <td>0</td>\n",
       "      <td>0</td>\n",
       "      <td>0</td>\n",
       "      <td>0</td>\n",
       "      <td>0</td>\n",
       "      <td>0</td>\n",
       "      <td>0</td>\n",
       "      <td>0</td>\n",
       "      <td>0</td>\n",
       "    </tr>\n",
       "    <tr>\n",
       "      <th>5170</th>\n",
       "      <td>0</td>\n",
       "      <td>0</td>\n",
       "      <td>0</td>\n",
       "      <td>0</td>\n",
       "      <td>0</td>\n",
       "      <td>0</td>\n",
       "      <td>0</td>\n",
       "      <td>0</td>\n",
       "      <td>0</td>\n",
       "      <td>0</td>\n",
       "      <td>...</td>\n",
       "      <td>0</td>\n",
       "      <td>0</td>\n",
       "      <td>0</td>\n",
       "      <td>0</td>\n",
       "      <td>0</td>\n",
       "      <td>0</td>\n",
       "      <td>0</td>\n",
       "      <td>0</td>\n",
       "      <td>0</td>\n",
       "      <td>0</td>\n",
       "    </tr>\n",
       "    <tr>\n",
       "      <th>5171</th>\n",
       "      <td>0</td>\n",
       "      <td>0</td>\n",
       "      <td>0</td>\n",
       "      <td>0</td>\n",
       "      <td>4</td>\n",
       "      <td>0</td>\n",
       "      <td>0</td>\n",
       "      <td>0</td>\n",
       "      <td>4</td>\n",
       "      <td>0</td>\n",
       "      <td>...</td>\n",
       "      <td>0</td>\n",
       "      <td>0</td>\n",
       "      <td>0</td>\n",
       "      <td>0</td>\n",
       "      <td>0</td>\n",
       "      <td>0</td>\n",
       "      <td>0</td>\n",
       "      <td>0</td>\n",
       "      <td>0</td>\n",
       "      <td>0</td>\n",
       "    </tr>\n",
       "  </tbody>\n",
       "</table>\n",
       "<p>5172 rows × 2001 columns</p>\n",
       "</div>"
      ],
      "text/plain": [
       "      0  1  2  3  4  5  6  7  8  9  ...  1991  1992  1993  1994  1995  1996  \\\n",
       "0     0  0  0  0  0  0  0  0  0  0  ...     0     0     0     0     0     0   \n",
       "1     1  0  0  0  0  0  0  0  0  0  ...     0     0     0     0     0     0   \n",
       "2     1  0  0  0  0  0  0  0  0  0  ...     0     0     0     0     0     0   \n",
       "3     0  0  0  0  0  0  0  0  0  0  ...     0     1     0     0     0     0   \n",
       "4     1  0  0  0  0  0  0  0  0  0  ...     0     0     0     0     0     0   \n",
       "...  .. .. .. .. .. .. .. .. .. ..  ...   ...   ...   ...   ...   ...   ...   \n",
       "5167  0  0  0  0  0  0  0  0  4  0  ...     0     0     0     0     0     0   \n",
       "5168  0  0  0  0  3  4  0  0  0  0  ...     0     0     0     0     0     0   \n",
       "5169  0  0  0  0  1  0  0  0  1  0  ...     0     0     0     0     0     0   \n",
       "5170  0  0  0  0  0  0  0  0  0  0  ...     0     0     0     0     0     0   \n",
       "5171  0  0  0  0  4  0  0  0  4  0  ...     0     0     0     0     0     0   \n",
       "\n",
       "      1997  1998  1999  Spam?  \n",
       "0        0     0     0      1  \n",
       "1        0     0     1      1  \n",
       "2        0     0     0      1  \n",
       "3        0     0     0      1  \n",
       "4        0     0     0      1  \n",
       "...    ...   ...   ...    ...  \n",
       "5167     0     0     0      0  \n",
       "5168     0     0     0      0  \n",
       "5169     0     0     0      0  \n",
       "5170     0     0     0      0  \n",
       "5171     0     0     0      0  \n",
       "\n",
       "[5172 rows x 2001 columns]"
      ]
     },
     "execution_count": 1,
     "metadata": {},
     "output_type": "execute_result"
    }
   ],
   "source": [
    "#Importamos librerias utiles\n",
    "import numpy as np\n",
    "import pandas as pd\n",
    "import matplotlib.pyplot as plt\n",
    "from sklearn.naive_bayes import CategoricalNB\n",
    "from sklearn import metrics\n",
    "from sklearn.metrics import accuracy_score\n",
    "from scipy.special import expit,logit\n",
    "\n",
    "#Leemos nuestros datos\n",
    "spam = pd.read_csv('spam.csv',header=None,sep='\\s+')\n",
    "#Renombramos la ultima columna del dataframe\n",
    "spam.rename(columns={2000:'Spam?'}, inplace=True)\n",
    "#imprimimos la info del dataframe para ver si hay datos faltantes\n",
    "spam.info()\n",
    "#imprimimos las primeras 5 filas\n",
    "spam"
   ]
  },
  {
   "cell_type": "markdown",
   "metadata": {},
   "source": [
    "Vemos que todas las columnas son del tipo int64, por lo que suponemos que no hay datos faltantes."
   ]
  },
  {
   "cell_type": "code",
   "execution_count": 2,
   "metadata": {},
   "outputs": [
    {
     "name": "stdout",
     "output_type": "stream",
     "text": [
      "(array([], dtype=int64),)\n"
     ]
    }
   ],
   "source": [
    "#buscamos si hay valores en cada fila de la columna Spam? un numero mayor que 1, ya que eso lo consideramos como un\n",
    "#error en los datos, ya que este df solo toma en cuenta 1 si el correo es spam o 0 si\n",
    "#no lo es. Para ello primero pasamos la calumna Spam? del df a una matriz numpy.\n",
    "spm = (spam['Spam?']).to_numpy()\n",
    "print(np.where(spm > 1))\n",
    "#vemos que es un array vacio por lo que consideramos que los datos estan limpios."
   ]
  },
  {
   "cell_type": "markdown",
   "metadata": {},
   "source": [
    "Para implementar la validacion cruzada estratificada de 5 particiones debemos asegurarnos que las clases estan desbalanceadas, es decir la cantidad de correos spam y no spam no son iguales. Para ello:"
   ]
  },
  {
   "cell_type": "code",
   "execution_count": 3,
   "metadata": {},
   "outputs": [
    {
     "name": "stdout",
     "output_type": "stream",
     "text": [
      "Hay 1500 correos Spam\n",
      "Hay 3672 correos que no son Spam\n"
     ]
    }
   ],
   "source": [
    "esSpam = np.where(spm == 1)\n",
    "print('Hay %d correos Spam'%esSpam[0].shape)\n",
    "noSpam = np.where(spm == 0)\n",
    "print('Hay %d correos que no son Spam'%noSpam[0].shape)"
   ]
  },
  {
   "cell_type": "code",
   "execution_count": 4,
   "metadata": {},
   "outputs": [],
   "source": [
    "def particionesEstratificadas(particion,y,semilla):\n",
    "    #definimos un array ordenados_y que contendra los indices de y tales que y queda ordenada de menor a mayor\n",
    "    #por ejemplo si y es [4,3,2] ordenados_y sera [2,1,0] si lo interpretamos como los indices de y tal que y queda\n",
    "    #ordenada tenemos que [2,3,4]\n",
    "    ordenados_y = np.argsort(y)\n",
    "    #creamos un array no inicializado de la longitud de y\n",
    "    particiones = np.empty(len(y), dtype=np.int32)\n",
    "    \n",
    "    #Para reproducibilidad ajustamos la semilla\n",
    "    np.random.seed(semilla)\n",
    "    #iteramos desde cero hasta el tamaño de ordenados_y con paso \"particion\" (va a ser 5) definido por el usuario\n",
    "    for i in range(0, ordenados_y.shape[0], particion):\n",
    "        #define una nueva matriz particion_idx que contendra los valores de ordenados_y (indices de y) desde\n",
    "        #el paso i hasta i+particion\n",
    "        particion_idx = ordenados_y[i:i+particion]\n",
    "        #haz un suffle a los valordes de particion_idx\n",
    "        #np.random.shuffle(particion_idx)\n",
    "        #guarda en el array particiones en la posicion dada por los valores de particion_idx un arange hasta la longitud\n",
    "        #de particion_idx en el momento actual\n",
    "        particiones[particion_idx] = np.arange(len(particion_idx))\n",
    "                    \n",
    "    return particiones"
   ]
  },
  {
   "cell_type": "code",
   "execution_count": 5,
   "metadata": {},
   "outputs": [
    {
     "data": {
      "text/plain": [
       "array([1, 3, 4, ..., 2, 3, 0])"
      ]
     },
     "execution_count": 5,
     "metadata": {},
     "output_type": "execute_result"
    }
   ],
   "source": [
    "#creamos las particiones estratificadas en el array particiones\n",
    "particiones = particionesEstratificadas(5,spm,42)\n",
    "particiones"
   ]
  },
  {
   "cell_type": "code",
   "execution_count": 6,
   "metadata": {},
   "outputs": [
    {
     "data": {
      "text/plain": [
       "array([   0,    4,    9, ..., 5155, 5160, 5165], dtype=int64)"
      ]
     },
     "execution_count": 6,
     "metadata": {},
     "output_type": "execute_result"
    }
   ],
   "source": [
    "#definimos a como el array que contiene los indices de particiones tales que son igual a 1 (pertenecen a la\n",
    "#primera particion) (hay 5 del cero a l 4).\n",
    "a = np.where(particiones ==1)[0]\n",
    "a"
   ]
  },
  {
   "cell_type": "code",
   "execution_count": 7,
   "metadata": {},
   "outputs": [
    {
     "data": {
      "text/plain": [
       "(1035,)"
      ]
     },
     "execution_count": 7,
     "metadata": {},
     "output_type": "execute_result"
    }
   ],
   "source": [
    "#Vemos el tamaño de spm en los indices recien calculados\n",
    "spm[a].shape"
   ]
  },
  {
   "cell_type": "code",
   "execution_count": 8,
   "metadata": {},
   "outputs": [
    {
     "name": "stdout",
     "output_type": "stream",
     "text": [
      "En la particion 1 hay 300 correos spam\n",
      "En la particion 1 hay 735 correos no spam\n"
     ]
    }
   ],
   "source": [
    "#Imprimimos cuantos correos son spam de acuerdo a la particion 1\n",
    "print('En la particion 1 hay %d correos spam'%np.count_nonzero(spm[a] == 1))\n",
    "#Imprimimos cuantos correos son spam de acuerdo a la particion 1\n",
    "print('En la particion 1 hay %d correos no spam'%np.count_nonzero(spm[a] == 0))"
   ]
  },
  {
   "cell_type": "code",
   "execution_count": 9,
   "metadata": {},
   "outputs": [
    {
     "name": "stdout",
     "output_type": "stream",
     "text": [
      "En la particion 0 hay 300 correos spam\n",
      "En la particion 0 hay 735 correos no spam\n",
      "En la particion 1 hay 300 correos spam\n",
      "En la particion 1 hay 735 correos no spam\n",
      "En la particion 2 hay 300 correos spam\n",
      "En la particion 2 hay 734 correos no spam\n",
      "En la particion 3 hay 300 correos spam\n",
      "En la particion 3 hay 734 correos no spam\n",
      "En la particion 4 hay 300 correos spam\n",
      "En la particion 4 hay 734 correos no spam\n"
     ]
    }
   ],
   "source": [
    "#Hagamos un ciclo for para comprobar todas las particiones\n",
    "for fold in range(5):\n",
    "    a = np.where(particiones == fold)[0]\n",
    "    #Imprimimos cuantos correos son spam de acuerdo a la particion fold\n",
    "    print('En la particion %d'  %fold + ' hay %d correos spam' %np.count_nonzero(spm[a] == 1))\n",
    "    #Imprimimos cuantos correos son spam de acuerdo a la particion 1\n",
    "    print('En la particion %d' %fold + ' hay %d correos no spam' %np.count_nonzero(spm[a] == 0))"
   ]
  },
  {
   "cell_type": "markdown",
   "metadata": {},
   "source": [
    "Vemos que con la particion estratificada, las 5 particiones quedan balanceadas con respecto a las dos clases. Esto es, justo la definicion de k particiones estratificadas. Comprobemos que realmente el balance se hace correctamente, esta comprobacion se va a hacer con la funcion de Scikit-learn ya implementada y vamos a imprimir la cantidad de correos spam y no spam en las particiones."
   ]
  },
  {
   "cell_type": "code",
   "execution_count": 10,
   "metadata": {},
   "outputs": [
    {
     "data": {
      "text/plain": [
       "(5172, 2000)"
      ]
     },
     "execution_count": 10,
     "metadata": {},
     "output_type": "execute_result"
    }
   ],
   "source": [
    "#definimos nuestras variables independientes\n",
    "X = (spam.drop(columns='Spam?')).to_numpy()\n",
    "X.shape"
   ]
  },
  {
   "cell_type": "code",
   "execution_count": 11,
   "metadata": {},
   "outputs": [
    {
     "name": "stdout",
     "output_type": "stream",
     "text": [
      ">Train: 0=2937, 1=1200, Test: 0=735, 1=300\n",
      ">Train: 0=2937, 1=1200, Test: 0=735, 1=300\n",
      ">Train: 0=2938, 1=1200, Test: 0=734, 1=300\n",
      ">Train: 0=2938, 1=1200, Test: 0=734, 1=300\n",
      ">Train: 0=2938, 1=1200, Test: 0=734, 1=300\n"
     ]
    }
   ],
   "source": [
    "#importa la libreria StratifiedKfold de scikit, para hacer particiones estratificadas\n",
    "from sklearn.model_selection import StratifiedKFold, KFold\n",
    "#define 5 particiones con suffle activado y una semilla\n",
    "kfold = StratifiedKFold(n_splits=5, shuffle=True, random_state=42)\n",
    "for train_ix, test_ix in kfold.split(X, spm):\n",
    "    # selescciona las filas para train y test\n",
    "    train_X, test_X = X[train_ix], X[test_ix]\n",
    "    train_y, test_y = spm[train_ix], spm[test_ix]\n",
    "    # cuenta las longitudes de train y test, divididas segun su clase\n",
    "    train_0, train_1 = len(train_y[train_y==0]), len(train_y[train_y==1])\n",
    "    test_0, test_1 = len(test_y[test_y==0]), len(test_y[test_y==1])\n",
    "    print('>Train: 0=%d, 1=%d, Test: 0=%d, 1=%d' % (train_0, train_1, test_0, test_1))"
   ]
  },
  {
   "cell_type": "markdown",
   "metadata": {},
   "source": [
    "El resultado es bastante similar. Para el caso de Test los numeros coinciden para una sola particion y para train vemos que son cuatro particiones unidas. Por lo que debemos hacer que una vez pasada la funcion definir quien sera train y quien sera test. Esto se hace junto con la implementacion de las repeticiones."
   ]
  },
  {
   "cell_type": "code",
   "execution_count": 12,
   "metadata": {},
   "outputs": [],
   "source": [
    "def validacionEstratificada(x,y,repeticiones,particiones):\n",
    "    #iteramos sobre las repeticiones\n",
    "    for i in range(repeticiones):\n",
    "        #calculamos las particiones con semilla i para procurar que en cada iteracion la variable particion\n",
    "        #no sea igual a la anterior\n",
    "        particion = particionesEstratificadas(particiones,y,i)\n",
    "        #dado que debemos pegar 4 particiones para entrenamiento y 1 para validacion tenemos que itrerar\n",
    "        #sobre las cuatro particiones\n",
    "        for fold in range(particiones):\n",
    "            #Creamos una variable auxiliar (array) que nos va a elegir quienes seran para Train y quienes para test\n",
    "            z = np.arange(5)\n",
    "            #aplicamos un suffle a z\n",
    "            np.random.shuffle(z)\n",
    "            #creamos arrays auxiliares para evitar hacer el codigo ilegible, en estas arrays vamos a almacenar los\n",
    "            #indices del array particion tal que pertenecen a una particion determinada\n",
    "            uno = np.where(particion==z[0])\n",
    "            dos = np.where(particion==z[1])\n",
    "            tres = np.where(particion==z[2])\n",
    "            cuatro = np.where(particion==z[3])\n",
    "            cinco = np.where(particion==z[4])\n",
    "            #definimos el conjunto de train al pegar o concatenar a las 4 particiones, mientras que las\n",
    "            #de test sera unicamente el indice que no quedo dentro de los primeros folds del shuffle\n",
    "            xTrain = np.concatenate((x[uno],x[dos],x[tres],x[cuatro]),axis=0)\n",
    "            xTest = x[cinco]\n",
    "            yTrain = np.concatenate((y[uno],y[dos],y[tres],y[cuatro]),axis=0)\n",
    "            yTest = y[cinco]\n",
    "            #pegamos una columna de unos para calcular el parametro theta_0\n",
    "            unos = np.ones((xTrain.shape[0],1),dtype=float)\n",
    "            xTrain = np.append(unos,xTrain,axis=1)\n",
    "            unos = np.ones((xTest.shape[0],1),dtype=float)\n",
    "            xTest = np.append(unos,xTest,axis=1)\n",
    "            yield xTrain, yTrain, xTest, yTest        "
   ]
  },
  {
   "cell_type": "markdown",
   "metadata": {},
   "source": [
    "Para entrenar regresion logistica debemos usar descenso del gradiente. Para ello reutilizaremos el codigo escrito en la libreta Go.ipynb."
   ]
  },
  {
   "cell_type": "code",
   "execution_count": 13,
   "metadata": {},
   "outputs": [],
   "source": [
    "#Definimos la funcion que predice los valores, usando la funcion de numpy expit(x)\n",
    "#esta funcion es la implementacion estable de la funcion sigmoide, con estable nos\n",
    "#referimos a que cuando ve un valor extrano como infinito devuelve un numero no un nan\n",
    "#para mas info ver la documentacion: \n",
    "#https://docs.scipy.org/doc/scipy/reference/generated/scipy.special.expit.html\n",
    "def predice(x,theta):\n",
    "    z = theta.T@x.T\n",
    "    return expit(z)    "
   ]
  },
  {
   "cell_type": "code",
   "execution_count": 14,
   "metadata": {},
   "outputs": [],
   "source": [
    "def Entrena(x, y_true, alpha=0.05, steps=100):\n",
    "    # ejemplos, atributos\n",
    "    m, n = x.shape\n",
    "    # inicialización de parámetros con una normal\n",
    "    Theta = np.random.normal(0, 1, n)\n",
    "    # lista de histórico de pérdidas\n",
    "    loss_hist = []\n",
    "    # ciclio de entrenamiento, para 100 pasos\n",
    "    for i in range(steps):\n",
    "        # hacemos prediccion con la theta recien creada y la funcion predice\n",
    "        y_pred = predice(x,Theta)\n",
    "        # calculamos la funcion o valores de la funcion de costo, note que agregamos una constante de 1e-9\n",
    "        #en los argumentos de los logaritmos ya que si no se pone hay inestabilidad numerica por parte del \n",
    "        #logaritmo\n",
    "        loss = -np.average((y_true.T*np.log(y_pred+1e-5) + (1-y_true).T*np.log((1-y_pred+1e-5))))\n",
    "        # Calculamos el gradiente usando la prediccion expit(x@Theta)\n",
    "        grad = (x.T @ ((expit(x@Theta)) - y_true)) / m\n",
    "        # actualizamos parámetros de theta usando el gradiente\n",
    "        Theta = Theta - alpha * grad\n",
    "        # ponemos en la lista de historico de perdida el valor de la funcion de perdida\n",
    "        loss_hist.append(loss)\n",
    "    #cuando termine de entrenar (100 pasos) regresa el vector de thetas suboptimo y el historial de perdidas    \n",
    "    return Theta, loss_hist"
   ]
  },
  {
   "cell_type": "code",
   "execution_count": 15,
   "metadata": {},
   "outputs": [],
   "source": [
    "#definimos la funcion que reescala los datos, definida en las slides 3a_regresion_clasificacion_lineal.pdf\n",
    "#de la clase, slide 37\n",
    "def Reescalado(X):\n",
    "    #definimos una nueva matriz con las dimensiones de la matriz X de entrada y tipo flotante\n",
    "    xRee=np.zeros((X.shape[0],X.shape[1]),dtype=float)\n",
    "    #iteramos sobre las columnas de X\n",
    "    for i in range(X.shape[1]):\n",
    "        #definimos el maximo y minimo de la columna i usando la funcion de numpy amax y amin\n",
    "        #que encuentra el valor maximo y minimo de una matriz dada\n",
    "        maximo = np.amax(X[:,i])\n",
    "        minimo = np.amin(X[:,i])\n",
    "        #Una vez definidas el maximo y minimo iteramos sobre cada fila\n",
    "        for j in range (X.shape[0]):\n",
    "            #definimos xRee en la fila j, columna i como la resta del valor de X en la misma posicion\n",
    "            #con el minimo y lo dividimos entre la resta del maximo y minimo.\n",
    "            xRee[j,i] = (X[j,i]-minimo)/(maximo-minimo)\n",
    "    #regresamos el array que acabamos de crear\n",
    "    return xRee"
   ]
  },
  {
   "cell_type": "code",
   "execution_count": 16,
   "metadata": {},
   "outputs": [],
   "source": [
    "#definimos la funcion que estandariza los datos, definida en las slides 3a_regresion_clasificacion_lineal.pdf\n",
    "#de la clase, slide 37\n",
    "def Estandarizacion(X):\n",
    "    #definimos una nueva matriz con las dimensiones de la matriz X de entrada y tipo flotante\n",
    "    xEs=np.zeros((X.shape[0],X.shape[1]),dtype=np.float32)\n",
    "    #iteramos sobre las columnas de X\n",
    "    for i in range(X.shape[1]):\n",
    "        #definimos la media y desviacion de la columna i usando la funcion de numpy mean y std\n",
    "        #que encuentra el valor la media y desviacion de una matriz dada\n",
    "        media = np.mean(X[:,i])\n",
    "        desviacion = np.std(X[:,i])\n",
    "        #Una vez definidas la media y desviacion iteramos sobre cada fila\n",
    "        for j in range (X.shape[0]):\n",
    "            #definimos xEs en la fila j, columna i como la resta del valor de X en la misma posicion\n",
    "            #con la media y lo dividimos entre la desviacion.\n",
    "            xEs[j,i] = (X[j,i]-media)/(desviacion)\n",
    "    #regresamos la matriz recien creada\n",
    "    return xEs"
   ]
  },
  {
   "cell_type": "code",
   "execution_count": 17,
   "metadata": {},
   "outputs": [],
   "source": [
    "#a nuestras X originales (toda la base de datos) la reescalamos y estandarizamos\n",
    "#por separado, esto se hace para ver que tanto cambian las predicciones con ambos metodos\n",
    "xReescalado = Reescalado(X)\n",
    "xEstandar = Estandarizacion(X)"
   ]
  },
  {
   "cell_type": "code",
   "execution_count": 18,
   "metadata": {},
   "outputs": [],
   "source": [
    "#Hacemos nuevos df con los datos procesados esto para poder dividir nuestro conjunto a entrenamiento y validacion\n",
    "#ya que necesitamos un conjunto para que cuando se entrene la regresion logistica podamos predecir y comparar sus \n",
    "#salidas\n",
    "xRe = pd.DataFrame(xReescalado)\n",
    "xEs = pd.DataFrame(xEstandar)\n",
    "#Le pegamos a ambos df la columna spm (valores dependientes spam no spam). Dado que no se movieron los \n",
    "#indices entonces aseguramos que los df procesados tendran la misma salida para cada fila segun el df original\n",
    "xRe['Spam?'] = spm\n",
    "xEs['Spam?'] = spm"
   ]
  },
  {
   "cell_type": "code",
   "execution_count": 19,
   "metadata": {},
   "outputs": [],
   "source": [
    "#Definimos nuestros conjuntos de entrenamiento y validacion\n",
    "#train se construye a partir de la funcion sample() donde frac es el porcentaje de los datos\n",
    "#random_state es la semilla del numero aleatorio, esta funcion por default tiene desactivado\n",
    "#el ingreso de datos por reemplazo, es decir no se pueden repetir filas\n",
    "#el conjunto test se construye a partir del train quitando todos los indices que tiene train,\n",
    "#es decir hace una operacion de conjuntos del conjunto universo Spam resta el conjunto train \n",
    "#y guarda lo que resta en test\n",
    "trainRe = xRe.sample(frac=0.7,random_state=0)\n",
    "testRe = xRe.drop(trainRe.index)\n",
    "trainEs = xEs.sample(frac=0.7,random_state=0)\n",
    "testEs = xEs.drop(trainEs.index)\n",
    "#reseteamos los indices con la funcion reset_index. drop=True lo usamos para evitar que se\n",
    "#anada una columna del indice anterior\n",
    "trainRe.reset_index(drop=True,inplace=True)\n",
    "trainEs.reset_index(drop=True,inplace=True)\n",
    "testRe.reset_index(drop=True,inplace=True)\n",
    "testEs.reset_index(drop=True,inplace=True)"
   ]
  },
  {
   "cell_type": "markdown",
   "metadata": {},
   "source": [
    "Aqui surge una pregunta importante ¿Por que no usaste particiones estratificadas para dividir tus conjuntos Entrenamiento y Validacion? La respuesta es intuitiva, cada vez que alguien entrena se tienen datos que podemos conocer usando validacion estratificada y otros metodos. Pero cuando a uno le llegan nuevos datos no siempre estos seran tan bonitos como uno quisiera (clases igualmente distribuidas, datos limpios etc). Por esa razon no lo dividi usando estratificada. A partir de los datos de Entrenamiento ahi si se usara la estratificacion de los datos."
   ]
  },
  {
   "cell_type": "code",
   "execution_count": 20,
   "metadata": {},
   "outputs": [],
   "source": [
    "#definimos nuestras x e y de entrenamiento y validacion\n",
    "xEntRe = (trainRe.drop(columns=['Spam?'])).to_numpy()\n",
    "yEntRe = (trainRe['Spam?']).to_numpy()\n",
    "xValRe = (testRe.drop(columns=['Spam?'])).to_numpy()\n",
    "yValRe = (testRe['Spam?']).to_numpy()\n",
    "xEntEs = (trainEs.drop(columns='Spam?')).to_numpy()\n",
    "yEntEs = (trainEs['Spam?']).to_numpy()\n",
    "xValEs = (testEs.drop(columns=['Spam?'])).to_numpy()\n",
    "yValEs = (testEs['Spam?']).to_numpy()"
   ]
  },
  {
   "cell_type": "code",
   "execution_count": 21,
   "metadata": {},
   "outputs": [],
   "source": [
    "#dado que los datos de validacion no seran pasados por la estratificacion que por default agrega una columna\n",
    "#de unos para calcular las thetas_0. hay que agregar manuealmente estas columnas a los x de validacion\n",
    "unos = np.ones((xValRe.shape[0],1),dtype=float)\n",
    "xValRe = np.append(unos,xValRe,axis=1)\n",
    "unos = np.ones((xValEs.shape[0],1),dtype=float)\n",
    "xValEs = np.append(unos,xValEs,axis=1)"
   ]
  },
  {
   "cell_type": "code",
   "execution_count": 22,
   "metadata": {},
   "outputs": [],
   "source": [
    "#para los datos reescalados\n",
    "#Definimos nuestra matriz de Thetas que seran calculadas por la validacion cruzada estratificada de 10\n",
    "#repeticiones y 5 particiones, es decir se calcularan 50 vectores thetha, dado que el vector de thetha es de 2001\n",
    "#valores entonces nuestra matriz contendra 50x2001 valores, Cada fila contendra las thetas encontradas\n",
    "#para cada una de las validaciones\n",
    "ThethaRe = np.zeros((50,2001),dtype=np.float64)\n",
    "#definimos nuestra matriz de perdida que contendra las perdidas de cada entrenamiento por \n",
    "#validacion cruzada estratificada dado que se hacen 100 repeticiones habra 100 columnas\n",
    "#y 50 filas para los 10*5 validaciones, cada fila tendra los errores calculados para cada una de las\n",
    "#100 thethas calculadas, es decir en 0,0 tendra el error para la primera validacion correspondiente al primer \n",
    "#conjunto de thethas calculada\n",
    "LossiRe = np.zeros((50,100),dtype=np.float64)"
   ]
  },
  {
   "cell_type": "code",
   "execution_count": 23,
   "metadata": {},
   "outputs": [],
   "source": [
    "#para los datos estandarizados\n",
    "#Definimos nuestra matriz de Thetas que seran calculadas por la validacion cruzada estratificada de 10\n",
    "#repeticiones y 5 particiones, es decir se calcularan 50 vectores thetha, dado que el vector de thetha es de 2001\n",
    "#valores entonces nuestra matriz contendra 50x2001 valores, Cada fila contendra las thetas encontradas\n",
    "#para cada una de las validaciones\n",
    "ThethaEs = np.zeros((50,2001),dtype=np.float64)\n",
    "#definimos nuestra matriz de perdida que contendra las perdidas de cada entrenamiento por \n",
    "#validacion cruzada estratificada dado que se hacen 100 repeticiones habra 100 columnas\n",
    "#y 50 filas para los 10*5 validaciones, cada fila tendra los errores calculados para cada una de las\n",
    "#100 thethas calculadas, es decir en 0,0 tendra el error para la primera validacion correspondiente al primer \n",
    "#conjunto de thethas calculada\n",
    "LossiEs = np.zeros((50,100),dtype=np.float64)"
   ]
  },
  {
   "cell_type": "code",
   "execution_count": 24,
   "metadata": {},
   "outputs": [],
   "source": [
    "#entrenamos para los datos reescalados\n",
    "#definimos la variable auxiliar i que nos ayudara a saber en que fila va a colocar los valores\n",
    "#de theta y perdida\n",
    "i=0\n",
    "#iteramos sobre cada x,y de entrenamiento y validacion que calcula la funcion\n",
    "#validacion estratificada de 10 repeticiones con 5 particiones\n",
    "for xTrain, yTrain, xTest, yTest in validacionEstratificada(xEntRe, yEntRe,10,5):\n",
    "    #en la fila i de Thetha y Lossi colocamos los valores que resultan del entrenamiento de la funcion Entrena\n",
    "    ThethaRe[i],LossiRe[i]=  Entrena(xTrain,yTrain)\n",
    "    #aumenta i en 1.\n",
    "    i+=1"
   ]
  },
  {
   "cell_type": "code",
   "execution_count": 25,
   "metadata": {},
   "outputs": [],
   "source": [
    "#entrenamos para los datos estandarizados\n",
    "#definimos la variable auxiliar i que nos ayudara a saber en que fila va a colocar los valores\n",
    "#de theta y perdida\n",
    "i=0\n",
    "#iteramos sobre cada x,y de entrenamiento y validacion que calcula la funcion\n",
    "#validacion estratificada de 10 repeticiones con 5 particiones\n",
    "for xTrain, yTrain, xTest, yTest in validacionEstratificada(xEntEs, yEntEs,10,5):\n",
    "    #en la fila i de Thetha y Lossi colocamos los valores que resultan del entrenamiento de la funcion Entrena\n",
    "    ThethaEs[i],LossiEs[i]=  Entrena(xTrain,yTrain)\n",
    "    #aumenta i en 1.\n",
    "    i+=1"
   ]
  },
  {
   "cell_type": "code",
   "execution_count": 26,
   "metadata": {},
   "outputs": [],
   "source": [
    "#Para reescalado\n",
    "#Vamos a calcular la media de los ultimos errores calculados para cada iteracion\n",
    "#entonces guardaremos en una matriz de 1x50 dichos errores\\\n",
    "LossRe = np.mean(LossiRe,axis=0)"
   ]
  },
  {
   "cell_type": "code",
   "execution_count": 27,
   "metadata": {},
   "outputs": [
    {
     "data": {
      "image/png": "[encoded data removed]",
      "text/plain": [
       "<Figure size 432x288 with 1 Axes>"
      ]
     },
     "metadata": {
      "needs_background": "light"
     },
     "output_type": "display_data"
    }
   ],
   "source": [
    "#Para reescalado\n",
    "#graficamos el error en funcion de las iteraciones usando la lista perdidas\n",
    "#definida en la forma automatica o forma funcional\n",
    "plt.figure()\n",
    "plt.plot(range(len(LossRe)), LossRe, 'ro')\n",
    "plt.ylabel('Promedio Error por cada iteracion')\n",
    "plt.xlabel('Iteraciones')\n",
    "plt.show()"
   ]
  },
  {
   "cell_type": "code",
   "execution_count": 28,
   "metadata": {},
   "outputs": [],
   "source": [
    "#Para estandarizacion\n",
    "#Vamos a calcular la media de los ultimos errores calculados para cada iteracion\n",
    "#entonces guardaremos en una matriz de 1x50 dichos errores\\\n",
    "LossEs = np.mean(LossiEs,axis=0)"
   ]
  },
  {
   "cell_type": "code",
   "execution_count": 29,
   "metadata": {},
   "outputs": [
    {
     "data": {
      "image/png": "[encoded data removed]",
      "text/plain": [
       "<Figure size 432x288 with 1 Axes>"
      ]
     },
     "metadata": {
      "needs_background": "light"
     },
     "output_type": "display_data"
    }
   ],
   "source": [
    "#Para estandarizacion\n",
    "#graficamos el error en funcion de las iteraciones usando la lista perdidas\n",
    "#definida en la forma automatica o forma funcional\n",
    "plt.figure()\n",
    "plt.plot(range(len(LossEs)), LossEs, 'ro')\n",
    "plt.ylabel('Promedio Error por cada iteracion')\n",
    "plt.xlabel('Iteraciones')\n",
    "plt.show()"
   ]
  },
  {
   "cell_type": "markdown",
   "metadata": {},
   "source": [
    "Vemos que para los valores estandarizados el error es aproximadamente 4 veces menor comparado con el de estandarizacion"
   ]
  },
  {
   "cell_type": "code",
   "execution_count": 30,
   "metadata": {},
   "outputs": [],
   "source": [
    "#calculamos las medias de todas las thetas calculadas en la validacion estratificada y entrenamiento\n",
    "#estas se calculan por columna, este promedio sera nuestro vector de Thetas optimo\n",
    "#Note los nombres para reescalado Re y estandarizado Es\n",
    "ThetaRe = np.mean(ThethaRe,axis=0)\n",
    "ThetaEs = np.mean(ThethaEs,axis=0)"
   ]
  },
  {
   "cell_type": "code",
   "execution_count": 31,
   "metadata": {},
   "outputs": [],
   "source": [
    "#una vez entrenado, predecimos nuestros valores de validacion\n",
    "ypredichRe = predice(xValRe,ThetaRe)\n",
    "ypredichEs = predice(xValEs,ThetaEs)"
   ]
  },
  {
   "cell_type": "code",
   "execution_count": 32,
   "metadata": {},
   "outputs": [],
   "source": [
    "#Para el reescalado\n",
    "#ypredich tendra valores de probabilidad por lo que debemos decidir si es spam o no\n",
    "#haciendo que si el valor de y en una determinada fila es menor que 0.5 entonces decimos que\n",
    "#no es spam. y en caso contrario decimos que si es spam\n",
    "#creamos una nueva matriz que tendra puros ceros o unos y la llamamos prediccion\n",
    "prediccionRe = np.zeros(ypredichRe.shape,dtype=int)\n",
    "#iteramos sobre las filas de ypredich\n",
    "for i in range (ypredichRe.shape[0]):\n",
    "    #asignamos 0 o 1 segun los valores de cada fila\n",
    "    z = ypredichRe[i]\n",
    "    if z<0.5:\n",
    "        prediccionRe[i]=0\n",
    "    else:\n",
    "        prediccionRe[i]=1"
   ]
  },
  {
   "cell_type": "code",
   "execution_count": 33,
   "metadata": {},
   "outputs": [],
   "source": [
    "#Para el estandarizacion\n",
    "#ypredich tendra valores de probabilidad por lo que debemos decidir si es spam o no\n",
    "#haciendo que si el valor de y en una determinada fila es menor que 0.5 entonces decimos que\n",
    "#no es spam. y en caso contrario decimos que si es spam\n",
    "#creamos una nueva matriz que tendra puros ceros o unos y la llamamos prediccion\n",
    "prediccionEs = np.zeros(ypredichEs.shape,dtype=int)\n",
    "#iteramos sobre las filas de ypredich\n",
    "for i in range (ypredichEs.shape[0]):\n",
    "    #asignamos 0 o 1 segun los valores de cada fila\n",
    "    z = ypredichEs[i]\n",
    "    if z<0.5:\n",
    "        prediccionEs[i]=0\n",
    "    else:\n",
    "        prediccionEs[i]=1"
   ]
  },
  {
   "cell_type": "code",
   "execution_count": 34,
   "metadata": {},
   "outputs": [
    {
     "name": "stdout",
     "output_type": "stream",
     "text": [
      "0.7332474226804123\n"
     ]
    }
   ],
   "source": [
    "#Para reescalado\n",
    "#imprime el accuracy score para el array de prediccion y el original\n",
    "print(accuracy_score(prediccionRe,yValRe))"
   ]
  },
  {
   "cell_type": "code",
   "execution_count": 35,
   "metadata": {},
   "outputs": [
    {
     "name": "stdout",
     "output_type": "stream",
     "text": [
      "0.916881443298969\n"
     ]
    }
   ],
   "source": [
    "#Para estandarizado\n",
    "#imprime el accuracy score para el array de prediccion y el original\n",
    "print(accuracy_score(prediccionEs,yValEs))"
   ]
  },
  {
   "cell_type": "markdown",
   "metadata": {},
   "source": [
    "Vemos que el accuracy para el Reescalado es de 0.73, miesntras que para la estandarizacion es de 0.92. Nuevamente el la grafica del error no se correlaciona con el acurracy. Vimos que el error del Reescalado es 4 veces menor que la Estandarizacion pero en el acurracy obtenemos mejores predicciones con la Estandarizacion. Esto puede deberse a que para el reescalado, si x de entrada es 0, entonces el reescalado da cero, es decir es invariante, mientras que para la estandarizacion, si tenemos un valor 0 puede pasar que la estandarizacion sea cero o diferente de cero. Es menos probable que de 0 ya que la media suponemos que es diferente de cero ya que si la media es cero entonces esa palabra nunca aparecio en ningun correo y eso es dato basura. Pero puede suceder.\n",
    "Ahora calcularemos las curvas roc. de ambas"
   ]
  },
  {
   "cell_type": "code",
   "execution_count": 36,
   "metadata": {},
   "outputs": [],
   "source": [
    "#definimos funcion de falsos positivos\n",
    "def radio_falsos_positivos(probabilities, thres):\n",
    "    return np.mean(probabilities >= thres)"
   ]
  },
  {
   "cell_type": "code",
   "execution_count": 37,
   "metadata": {},
   "outputs": [],
   "source": [
    "#definimos funcion de verdaderos positivos\n",
    "def radio_verdaderos_positivos(probabilities, thres):\n",
    "    return np.mean(probabilities >= thres)"
   ]
  },
  {
   "cell_type": "code",
   "execution_count": 38,
   "metadata": {},
   "outputs": [],
   "source": [
    "#definimos funcion que calcula curva roc\n",
    "def roc(probabilities, y):\n",
    "    positivos = np.where(y == 1)\n",
    "    negativos = np.where(y == 0)\n",
    "\n",
    "    rvps = np.zeros(np.unique(probabilities).shape[0])\n",
    "    rfps = np.zeros(np.unique(probabilities).shape[0])\n",
    "    \n",
    "    for i, p in enumerate(np.unique(probabilities)[::-1]):\n",
    "        rvps[i] = radio_verdaderos_positivos(probabilities[positivos], p)\n",
    "        rfps[i] = radio_falsos_positivos(probabilities[negativos], p)\n",
    "\n",
    "    return rvps, rfps"
   ]
  },
  {
   "cell_type": "code",
   "execution_count": 39,
   "metadata": {},
   "outputs": [],
   "source": [
    "#funcion que calcula el area bajo la curva roc usando la formula de shoelace\n",
    "def area_poligono(vertices):\n",
    "    area = 0.0\n",
    "    n_vert = len(vertices)\n",
    "    for i in range(n_vert - 1):\n",
    "        area = area + vertices[i][0] * vertices[i + 1][1]\n",
    "        area = area - vertices[i + 1][0] * vertices[i][1]\n",
    "\n",
    "    area = area + vertices[n_vert - 1][0] * vertices[0][1]\n",
    "    area = area - vertices[0][0] * vertices[n_vert - 1][1]\n",
    "\n",
    "    return 0.5 * abs(area)\n",
    "\n",
    "def aucroc(tfp, tvp):\n",
    "    auc = 0.0\n",
    "    fprev = 0.0\n",
    "    vprev = 0.0\n",
    "    for i,(f,v) in enumerate(zip(tfp, tvp)):\n",
    "        auc += area_poligono([[fprev, 0], [fprev, vprev], [f, v], [f, 0]])\n",
    "        fprev = f\n",
    "        vprev = v\n",
    "\n",
    "    return auc + area_poligono([[fprev, 0], [fprev, vprev], [1, 1], [1, 0]])"
   ]
  },
  {
   "cell_type": "code",
   "execution_count": 40,
   "metadata": {},
   "outputs": [],
   "source": [
    "#para Reescalado\n",
    "#con la funcion que calcula la curva roc le damos de comer la matriz de probabilidades definida previamente\n",
    "#y el vector de yValidacion (valores reales) y nos regresa el rasdio de verdaderos positivos (TPR) la guardamos en\n",
    "#la variable rvps y el radio de falsos positivos (FPR)\n",
    "rvpsRe, rfpsRe = roc(ypredichRe, yValRe)"
   ]
  },
  {
   "cell_type": "code",
   "execution_count": 41,
   "metadata": {},
   "outputs": [
    {
     "data": {
      "image/png": "[encoded data removed]",
      "text/plain": [
       "<Figure size 432x288 with 1 Axes>"
      ]
     },
     "metadata": {
      "needs_background": "light"
     },
     "output_type": "display_data"
    }
   ],
   "source": [
    "#GRaficamos el TPR en funcion del FPR previamente calculados\n",
    "plt.plot(rfpsRe, rvpsRe)\n",
    "plt.plot([0, 1], [0, 1], '--')\n",
    "plt.fill_between(rfpsRe, rvpsRe, 0, alpha=0.5, color = 'pink')\n",
    "plt.xlabel('Tasa de falsos positivos')\n",
    "plt.ylabel('Tasa de verdaderos positivos')\n",
    "plt.show()"
   ]
  },
  {
   "cell_type": "code",
   "execution_count": 42,
   "metadata": {},
   "outputs": [
    {
     "data": {
      "text/plain": [
       "0.5903909957756526"
      ]
     },
     "execution_count": 42,
     "metadata": {},
     "output_type": "execute_result"
    }
   ],
   "source": [
    "#calculamos el area bajo la curva definida por el TPR y FPR para el reescalado\n",
    "aucroc(rfpsRe, rvpsRe)"
   ]
  },
  {
   "cell_type": "code",
   "execution_count": 43,
   "metadata": {},
   "outputs": [],
   "source": [
    "#para estandarizacion\n",
    "#con la funcion que calcula la curva roc le damos de comer la matriz de probabilidades definida previamente\n",
    "#y el vector de yValidacion (valores reales) y nos regresa el rasdio de verdaderos positivos (TPR) la guardamos en\n",
    "#la variable rvps y el radio de falsos positivos (FPR)\n",
    "rvpsEs, rfpsEs = roc(ypredichEs, yValEs)"
   ]
  },
  {
   "cell_type": "code",
   "execution_count": 44,
   "metadata": {},
   "outputs": [
    {
     "data": {
      "image/png": "[encoded data removed]",
      "text/plain": [
       "<Figure size 432x288 with 1 Axes>"
      ]
     },
     "metadata": {
      "needs_background": "light"
     },
     "output_type": "display_data"
    }
   ],
   "source": [
    "#GRaficamos el TPR en funcion del FPR previamente calculados\n",
    "plt.plot(rfpsEs, rvpsEs)\n",
    "plt.plot([0, 1], [0, 1], '--')\n",
    "plt.fill_between(rfpsEs, rvpsEs, 0, alpha=0.5, color = 'pink')\n",
    "plt.xlabel('Tasa de falsos positivos')\n",
    "plt.ylabel('Tasa de verdaderos positivos')\n",
    "plt.show()"
   ]
  },
  {
   "cell_type": "code",
   "execution_count": 45,
   "metadata": {},
   "outputs": [
    {
     "data": {
      "text/plain": [
       "0.9701439094610177"
      ]
     },
     "execution_count": 45,
     "metadata": {},
     "output_type": "execute_result"
    }
   ],
   "source": [
    "#calculamos el area bajo la curva definida por el TPR y FPR para el reescalado\n",
    "aucroc(rfpsEs, rvpsEs)"
   ]
  },
  {
   "cell_type": "markdown",
   "metadata": {},
   "source": [
    "Con la curva ROC obtenemos resultados contundentes. El área bajo la curva ROc del reescalado nos dice que este modelo es muy similar a hechar un volado, es decir, el modelo no es muy bueno. Por otro lado con la estandarizacion el area bajo la curva nos confirma que el modelo es bueno para reconocer correos spam y no spam.\n",
    "Vemos ahora sus curvas de precision exahustividad."
   ]
  },
  {
   "cell_type": "code",
   "execution_count": 46,
   "metadata": {},
   "outputs": [],
   "source": [
    "#Para Reescalado\n",
    "#Para la curva precision-exahustividad sabemos que por definicion el radio de verdaderos positivos\n",
    "#es igual a la exahustividad, que ya se calculo previamente. Solo basta calcular la precision. Para ello:\n",
    "#define una matriz llamada positivos cuyos valores corresponden a la posicion para la cual hay un 1 en el \n",
    "#vector de validacion\n",
    "positivosRe = np.where(yValRe == 1)\n",
    "#define una matriz llamada negativos cuyos valores corresponden a la posicion para la cual hay 1 en el vector\n",
    "#yPred (predicciones) y ademas en la matriz yVa (valores reales) haya un cero. Esto se hace ya que recordemos\n",
    "#que los falsos positivos se definen como un resultado que indica la existencia de una condicion cuando en\n",
    "#realidad no lo es. Traducido a nuestro problema vemos que esto corresponde a el resultado en nuestra prediccion\n",
    "#que nos dice que si gano un jugador cuando no es verdad. Notemos que la contraparte descrita como no gano cuando\n",
    "#en realidad si lo hizo corresponde a un falso negativo.\n",
    "negativosRe = np.where((prediccionRe==1) & (yValRe != prediccionRe))\n",
    "#definimos nuestro vector de precision que tendra dimension del numero de valores diferentes en la matriz probabilidades\n",
    "precisionRe = np.zeros(np.unique(ypredichRe).shape[0])\n",
    "\n",
    "#iteramos i de 0 hasta el tamano de la matriz probabilidades, p se define como el valor de las probabilidad en la\n",
    "#posicion i\n",
    "for i, p in enumerate(np.unique(ypredichRe)[::-1]):\n",
    "    #definimos el float verdaderos positivos como la suma (el total de valores que cumplen la condicion)\n",
    "    #de aquellos valores en la posicion guardada en el array positivos tal que son mayores o iguales que p \n",
    "    truePositivesRe = np.sum(ypredichRe[positivosRe] >= p)\n",
    "    #definimos el float falsos positivos como la suma (el total de valores que cumplen la condicion)\n",
    "    #de aquellos valores en la posicion guardada en el array negativos tal que son mayores o iguales que p \n",
    "    falsePositivesRe = np.sum(ypredichRe[negativosRe] >= p)\n",
    "    #guarda en la posicion i del array precision el cociente de los verdaderos positivos entre verdaderos\n",
    "    #positivos mas falsos positivos (definicion de exahustividad)\n",
    "    precisionRe[i] = (truePositivesRe)/(falsePositivesRe+truePositivesRe)"
   ]
  },
  {
   "cell_type": "code",
   "execution_count": 47,
   "metadata": {},
   "outputs": [
    {
     "data": {
      "image/png": "[encoded data removed]",
      "text/plain": [
       "<Figure size 432x288 with 1 Axes>"
      ]
     },
     "metadata": {
      "needs_background": "light"
     },
     "output_type": "display_data"
    }
   ],
   "source": [
    "#graficamos la curva precision-exahustividad\n",
    "plt.plot(rvpsRe,precisionRe)\n",
    "plt.fill_between(rvpsRe,precisionRe, 0, alpha=0.5, color = 'pink')\n",
    "plt.xlabel('Exahustividad')\n",
    "plt.ylabel('Precision')\n",
    "plt.show()"
   ]
  },
  {
   "cell_type": "code",
   "execution_count": 48,
   "metadata": {},
   "outputs": [
    {
     "data": {
      "text/plain": [
       "0.9749519227004417"
      ]
     },
     "execution_count": 48,
     "metadata": {},
     "output_type": "execute_result"
    }
   ],
   "source": [
    "#calculamos el area bajo la curva precision exahustividad\n",
    "aucroc(rvpsRe,precisionRe)"
   ]
  },
  {
   "cell_type": "code",
   "execution_count": 49,
   "metadata": {},
   "outputs": [],
   "source": [
    "#Para Estandarizacion\n",
    "#Para la curva precision-exahustividad sabemos que por definicion el radio de verdaderos positivos\n",
    "#es igual a la exahustividad, que ya se calculo previamente. Solo basta calcular la precision. Para ello:\n",
    "#define una matriz llamada positivos cuyos valores corresponden a la posicion para la cual hay un 1 en el \n",
    "#vector de validacion\n",
    "positivosEs = np.where(yValEs == 1)\n",
    "#define una matriz llamada negativos cuyos valores corresponden a la posicion para la cual hay 1 en el vector\n",
    "#yPred (predicciones) y ademas en la matriz yVa (valores reales) haya un cero. Esto se hace ya que recordemos\n",
    "#que los falsos positivos se definen como un resultado que indica la existencia de una condicion cuando en\n",
    "#realidad no lo es. Traducido a nuestro problema vemos que esto corresponde a el resultado en nuestra prediccion\n",
    "#que nos dice que si gano un jugador cuando no es verdad. Notemos que la contraparte descrita como no gano cuando\n",
    "#en realidad si lo hizo corresponde a un falso negativo.\n",
    "negativosEs = np.where((prediccionEs==1) & (yValEs != prediccionEs))\n",
    "#definimos nuestro vector de precision que tendra dimension del numero de valores diferentes en la matriz probabilidades\n",
    "precisionEs = np.zeros(np.unique(ypredichEs).shape[0])\n",
    "\n",
    "#iteramos i de 0 hasta el tamano de la matriz probabilidades, p se define como el valor de las probabilidad en la\n",
    "#posicion i\n",
    "for i, p in enumerate(np.unique(ypredichEs)[::-1]):\n",
    "    #definimos el float verdaderos positivos como la suma (el total de valores que cumplen la condicion)\n",
    "    #de aquellos valores en la posicion guardada en el array positivos tal que son mayores o iguales que p \n",
    "    truePositivesEs = np.sum(ypredichEs[positivosEs] >= p)\n",
    "    #definimos el float falsos positivos como la suma (el total de valores que cumplen la condicion)\n",
    "    #de aquellos valores en la posicion guardada en el array negativos tal que son mayores o iguales que p \n",
    "    falsePositivesEs = np.sum(ypredichEs[negativosEs] >= p)\n",
    "    #guarda en la posicion i del array precision el cociente de los verdaderos positivos entre verdaderos\n",
    "    #positivos mas falsos positivos (definicion de exahustividad)\n",
    "    precisionEs[i] = (truePositivesEs)/(falsePositivesEs+truePositivesEs)"
   ]
  },
  {
   "cell_type": "code",
   "execution_count": 50,
   "metadata": {},
   "outputs": [
    {
     "data": {
      "image/png": "[encoded data removed]",
      "text/plain": [
       "<Figure size 432x288 with 1 Axes>"
      ]
     },
     "metadata": {
      "needs_background": "light"
     },
     "output_type": "display_data"
    }
   ],
   "source": [
    "#graficamos la curva precision-exahustividad\n",
    "plt.plot(rvpsEs,precisionEs)\n",
    "plt.fill_between(rvpsEs,precisionEs, 0, alpha=0.5, color = 'pink')\n",
    "plt.xlabel('Exahustividad')\n",
    "plt.ylabel('Precision')\n",
    "plt.show()"
   ]
  },
  {
   "cell_type": "code",
   "execution_count": 51,
   "metadata": {},
   "outputs": [
    {
     "data": {
      "text/plain": [
       "0.8368308438436576"
      ]
     },
     "execution_count": 51,
     "metadata": {},
     "output_type": "execute_result"
    }
   ],
   "source": [
    "#calculamos el area bajo la curva precision exahustividad\n",
    "aucroc(rvpsEs,precisionEs)"
   ]
  },
  {
   "cell_type": "markdown",
   "metadata": {},
   "source": [
    "Entrenemos Ahora un Naive Bayes con nuestros Datos"
   ]
  },
  {
   "attachments": {
    "error.JPG": {
     "image/jpeg": "[encoded data removed]"
    }
   },
   "cell_type": "markdown",
   "metadata": {},
   "source": [
    "Intente entrenar con los valores xEntEs y  yEntEs y validar con la siguiente instruccion cati.predict(xValEs)\n",
    "Pero el compilador lanza error y nunca entendi porque. El error es el siguiente (imagen). Al intentar con el reescalado\n",
    "da un error similar. Por esta razon la siguiente celda de codigo esta comentada\n",
    "![error.JPG](attachment:error.JPG)"
   ]
  },
  {
   "cell_type": "code",
   "execution_count": 52,
   "metadata": {},
   "outputs": [],
   "source": [
    "#from sklearn.naive_bayes import CategoricalNB\n",
    "#catiSpam = CategoricalNB()\n",
    "#catiSpam.fit(xEntRe, yEntRe)\n",
    "#predicti = catiSpam.predict(xValRe[:,1:])\n",
    "#print(accuracy_score(predicti,yValRe))"
   ]
  },
  {
   "cell_type": "markdown",
   "metadata": {},
   "source": [
    "Con todo el conjunto de datossi se deja entrenar por lo que lo hare con todos aun sabiendo que hay overfitting ya que estoy pasando valores que el clasificador ya conoce."
   ]
  },
  {
   "cell_type": "code",
   "execution_count": 53,
   "metadata": {},
   "outputs": [],
   "source": [
    "#redefinimos nuestras x e y de validacion\n",
    "xValRe = (testRe.drop(columns='Spam?')).to_numpy()\n",
    "xValEs = testEs.drop(columns='Spam?').to_numpy()"
   ]
  },
  {
   "cell_type": "code",
   "execution_count": 54,
   "metadata": {},
   "outputs": [
    {
     "name": "stdout",
     "output_type": "stream",
     "text": [
      "0.8202319587628866\n"
     ]
    }
   ],
   "source": [
    "naiveCat = CategoricalNB()\n",
    "naiveCat.fit(xEstandar,spm)\n",
    "prediccion = naiveCat.predict(xValEs)\n",
    "\n",
    "#usamos la funcion accuracy_score entre las variables prediccion e yValid\n",
    "#tal y como fueron definidos. Esta funcion muestra el porcentaje de clasificaciones buenas\n",
    "#que hace el modelo con respecto a todas las muestras\n",
    "print(accuracy_score(prediccion,yValEs))"
   ]
  },
  {
   "cell_type": "markdown",
   "metadata": {},
   "source": [
    "Aun con overfitting el acurracy es menor que con la regresion logistica con los datos estandarizados.\n",
    "De esta manera yo escogeria la regresion logistica. Ya que el acurracy score es de 0.92. Tambien el area bajo la curva ROC es de 0.97 y como ya lo discuti en el ejercicio 2 Naive no tiene definido curvas ROC (hasta donde yo se) y esta curva nos da una buena referencia de que tan bueno es el clasificador a la hora de detectar spam.\n",
    "Por otro lado con la validacion estratificada obtenemos un array de thetas conforme vamos entrenando con diferentes sets de validacion y entrenamiento. Al final las thetas que escogemos son un promedio, esto quiere decir que estamos de alguna manera generalizando nuestro modelo al obtener el promedio de las thetas. Por contra parte Naive solo le da una pasada a los datos y a partir de ahi decide por lo que su generalizacion no es muy buena. Esto lo vemos en su accuracy aun con overfitting el acurracy es menor.\n",
    "Hablamos de generalizavion con la regresion logistica ya que suponemos que los datos que se usan para entrenar son una representacion general del conjunto de todos los correos spam que podemos encontrar. si los datos no son representativos, entonces la supuesta generalizacion seria mas bien hacer overffiting. Pero este ultimo se descarta ya que con datos que jamas habia visto puede predecir de una forma muy aceptable si son spam o no.\n",
    "\n",
    "Finalmente para este caso se logro apreciar la importancia del tratamiento de los atributos, cuando creamos un orden (como en el caso de la estandarizacion) el modelo tiende a ser mejor comparado a cuando el orden no esta muy definido o hay atributos que se mantienen muy similares en el dataset (El Reescalado dejo en valor 0 a todas las palabras que no aparecian en un correo determinado). Por lo que podriamos esperar que el rendimiento de un clasificador mejora cuando los atributos no son similares entre si (hipotesis falsa. Ver discusion de cancer con reescalado)."
   ]
  },
  {
   "cell_type": "markdown",
   "metadata": {},
   "source": [
    "Por diversion hacemos regresion logistica con sci kit para una sola pasada de los datos. Vemos que el accuracy es 0.4 puntos mejor que el implementado manualmente. Pero esto puede deberse a que no se hace validacion cruzada estratificada y/o la misma implementacion del algoritmo. Algo que supongo no tiene que ver con el accuracy es el hecho de que el algoritmo aqui implementado es lento mientras que el de scikit es rapido."
   ]
  },
  {
   "cell_type": "code",
   "execution_count": 55,
   "metadata": {},
   "outputs": [
    {
     "name": "stdout",
     "output_type": "stream",
     "text": [
      "0.9626288659793815\n"
     ]
    }
   ],
   "source": [
    "from sklearn.linear_model import LogisticRegression\n",
    "clf = LogisticRegression(penalty='none').fit(xEntEs, yEntEs)\n",
    "prediccions = clf.predict(xValEs)\n",
    "print(accuracy_score(prediccions,yValEs))"
   ]
  },
  {
   "cell_type": "markdown",
   "metadata": {},
   "source": [
    "## Clasificacion de tumores de seno"
   ]
  },
  {
   "cell_type": "markdown",
   "metadata": {},
   "source": [
    "Vamos a usar las funciones ya declaradas en esta libreta para hacer regresion logistica. De la tarea 2 ya sabemos que este data set tiene unos cuantos datos faltantes. Por simplicidad vamos a eliminarlos. Ya sabemos que podemos inferirlos pero por razones de tiempo prefiero eliminarlos. La descripcion del dataset es como sigue:"
   ]
  },
  {
   "cell_type": "markdown",
   "metadata": {},
   "source": [
    "Este conjunto de datos contiene 699 registros\n",
    "de tumores de seno, de los cuales 458 son benignos y 241 son malignos. Cada registro consta de los\n",
    "siguientes atributos:\n",
    "\n",
    "| Numero  | Atributo  | Valores | \n",
    "| ------- |:-------------:|:-------------:| \n",
    "| 1       | Código de la muestra |  ID |\n",
    "| 2       | Grosor del tumor|  1-10 |\n",
    "| 3       | Uniformidad del tamaño de la célula |  1-10 |\n",
    "| 4       | Uniformidad de la forma de la célula |  1-10 |\n",
    "| 5       | Adhesión marginal|  1-10 |\n",
    "| 6       | Tamaño de célula epitelial |  1-10  |\n",
    "| 7       | Núcleos desnudos |  1-10 |\n",
    "| 8       | Cromatina blanda|  1-10 |\n",
    "| 9       | Nucléolos normales |  1-10  |\n",
    "| 10      | Mitosis de células | 1-10 |\n",
    "| 11      | Clase|  2 para benigno ; 4 para maligno\n",
    "\n",
    "Existen 16 registros en el conjunto de datos con un atributo no especificado.\n",
    "El codigo de la muestra es irrelevante para saber si hay cancer o no por lo que dicha columna la vamos a tirar a la basura."
   ]
  },
  {
   "cell_type": "code",
   "execution_count": 56,
   "metadata": {},
   "outputs": [
    {
     "data": {
      "text/html": [
       "<div>\n",
       "<style scoped>\n",
       "    .dataframe tbody tr th:only-of-type {\n",
       "        vertical-align: middle;\n",
       "    }\n",
       "\n",
       "    .dataframe tbody tr th {\n",
       "        vertical-align: top;\n",
       "    }\n",
       "\n",
       "    .dataframe thead th {\n",
       "        text-align: right;\n",
       "    }\n",
       "</style>\n",
       "<table border=\"1\" class=\"dataframe\">\n",
       "  <thead>\n",
       "    <tr style=\"text-align: right;\">\n",
       "      <th></th>\n",
       "      <th>G</th>\n",
       "      <th>UT</th>\n",
       "      <th>UF</th>\n",
       "      <th>A</th>\n",
       "      <th>T</th>\n",
       "      <th>ND</th>\n",
       "      <th>Cr</th>\n",
       "      <th>NN</th>\n",
       "      <th>M</th>\n",
       "      <th>C</th>\n",
       "    </tr>\n",
       "  </thead>\n",
       "  <tbody>\n",
       "    <tr>\n",
       "      <th>0</th>\n",
       "      <td>5</td>\n",
       "      <td>1</td>\n",
       "      <td>1</td>\n",
       "      <td>1</td>\n",
       "      <td>2</td>\n",
       "      <td>1</td>\n",
       "      <td>3</td>\n",
       "      <td>1</td>\n",
       "      <td>1</td>\n",
       "      <td>2</td>\n",
       "    </tr>\n",
       "    <tr>\n",
       "      <th>1</th>\n",
       "      <td>5</td>\n",
       "      <td>4</td>\n",
       "      <td>4</td>\n",
       "      <td>5</td>\n",
       "      <td>7</td>\n",
       "      <td>10</td>\n",
       "      <td>3</td>\n",
       "      <td>2</td>\n",
       "      <td>1</td>\n",
       "      <td>2</td>\n",
       "    </tr>\n",
       "    <tr>\n",
       "      <th>2</th>\n",
       "      <td>3</td>\n",
       "      <td>1</td>\n",
       "      <td>1</td>\n",
       "      <td>1</td>\n",
       "      <td>2</td>\n",
       "      <td>2</td>\n",
       "      <td>3</td>\n",
       "      <td>1</td>\n",
       "      <td>1</td>\n",
       "      <td>2</td>\n",
       "    </tr>\n",
       "    <tr>\n",
       "      <th>3</th>\n",
       "      <td>6</td>\n",
       "      <td>8</td>\n",
       "      <td>8</td>\n",
       "      <td>1</td>\n",
       "      <td>3</td>\n",
       "      <td>4</td>\n",
       "      <td>3</td>\n",
       "      <td>7</td>\n",
       "      <td>1</td>\n",
       "      <td>2</td>\n",
       "    </tr>\n",
       "    <tr>\n",
       "      <th>4</th>\n",
       "      <td>4</td>\n",
       "      <td>1</td>\n",
       "      <td>1</td>\n",
       "      <td>3</td>\n",
       "      <td>2</td>\n",
       "      <td>1</td>\n",
       "      <td>3</td>\n",
       "      <td>1</td>\n",
       "      <td>1</td>\n",
       "      <td>2</td>\n",
       "    </tr>\n",
       "    <tr>\n",
       "      <th>5</th>\n",
       "      <td>8</td>\n",
       "      <td>10</td>\n",
       "      <td>10</td>\n",
       "      <td>8</td>\n",
       "      <td>7</td>\n",
       "      <td>10</td>\n",
       "      <td>9</td>\n",
       "      <td>7</td>\n",
       "      <td>1</td>\n",
       "      <td>4</td>\n",
       "    </tr>\n",
       "    <tr>\n",
       "      <th>6</th>\n",
       "      <td>1</td>\n",
       "      <td>1</td>\n",
       "      <td>1</td>\n",
       "      <td>1</td>\n",
       "      <td>2</td>\n",
       "      <td>10</td>\n",
       "      <td>3</td>\n",
       "      <td>1</td>\n",
       "      <td>1</td>\n",
       "      <td>2</td>\n",
       "    </tr>\n",
       "    <tr>\n",
       "      <th>7</th>\n",
       "      <td>2</td>\n",
       "      <td>1</td>\n",
       "      <td>2</td>\n",
       "      <td>1</td>\n",
       "      <td>2</td>\n",
       "      <td>1</td>\n",
       "      <td>3</td>\n",
       "      <td>1</td>\n",
       "      <td>1</td>\n",
       "      <td>2</td>\n",
       "    </tr>\n",
       "  </tbody>\n",
       "</table>\n",
       "</div>"
      ],
      "text/plain": [
       "   G  UT  UF  A  T  ND  Cr  NN  M  C\n",
       "0  5   1   1  1  2   1   3   1  1  2\n",
       "1  5   4   4  5  7  10   3   2  1  2\n",
       "2  3   1   1  1  2   2   3   1  1  2\n",
       "3  6   8   8  1  3   4   3   7  1  2\n",
       "4  4   1   1  3  2   1   3   1  1  2\n",
       "5  8  10  10  8  7  10   9   7  1  4\n",
       "6  1   1   1  1  2  10   3   1  1  2\n",
       "7  2   1   2  1  2   1   3   1  1  2"
      ]
     },
     "execution_count": 56,
     "metadata": {},
     "output_type": "execute_result"
    }
   ],
   "source": [
    "#leemos nuestros datos\n",
    "cancer = pd.read_csv('breast-cancer-wisconsin.data',header=None,sep=',')\n",
    "#renombramos columnas segun nuestro criterio favorito\n",
    "cancer.rename(columns={0:'ID',1:'G',2:'UT',3:'UF',4:'A',5:'T',6:'ND',7:'Cr',8:'NN',9:'M',10:'C'}, inplace=True)\n",
    "cancer = cancer.drop(columns='ID')\n",
    "#mostramos las primeras 8 filas\n",
    "cancer.head(8)"
   ]
  },
  {
   "cell_type": "code",
   "execution_count": 57,
   "metadata": {},
   "outputs": [
    {
     "name": "stdout",
     "output_type": "stream",
     "text": [
      "<class 'pandas.core.frame.DataFrame'>\n",
      "RangeIndex: 699 entries, 0 to 698\n",
      "Data columns (total 10 columns):\n",
      " #   Column  Non-Null Count  Dtype \n",
      "---  ------  --------------  ----- \n",
      " 0   G       699 non-null    int64 \n",
      " 1   UT      699 non-null    int64 \n",
      " 2   UF      699 non-null    int64 \n",
      " 3   A       699 non-null    int64 \n",
      " 4   T       699 non-null    int64 \n",
      " 5   ND      699 non-null    object\n",
      " 6   Cr      699 non-null    int64 \n",
      " 7   NN      699 non-null    int64 \n",
      " 8   M       699 non-null    int64 \n",
      " 9   C       699 non-null    int64 \n",
      "dtypes: int64(9), object(1)\n",
      "memory usage: 54.7+ KB\n",
      "None\n",
      "     G  UT  UF  A  T ND  Cr  NN  M  C\n",
      "23   8   4   5  1  2  ?   7   3  1  4\n",
      "40   6   6   6  9  6  ?   7   8  1  2\n",
      "139  1   1   1  1  1  ?   2   1  1  2\n",
      "145  1   1   3  1  2  ?   2   1  1  2\n",
      "158  1   1   2  1  3  ?   1   1  1  2\n",
      "164  5   1   1  1  2  ?   3   1  1  2\n",
      "235  3   1   4  1  2  ?   3   1  1  2\n",
      "249  3   1   1  1  2  ?   3   1  1  2\n",
      "275  3   1   3  1  2  ?   2   1  1  2\n",
      "292  8   8   8  1  2  ?   6  10  1  4\n",
      "294  1   1   1  1  2  ?   2   1  1  2\n",
      "297  5   4   3  1  2  ?   2   3  1  2\n",
      "315  4   6   5  6  7  ?   4   9  1  2\n",
      "321  3   1   1  1  2  ?   3   1  1  2\n",
      "411  1   1   1  1  1  ?   2   1  1  2\n",
      "617  1   1   1  1  1  ?   1   1  1  2\n",
      "Int64Index([23, 40, 139, 145, 158, 164, 235, 249, 275, 292, 294, 297, 315, 321,\n",
      "            411, 617],\n",
      "           dtype='int64')\n"
     ]
    }
   ],
   "source": [
    "#Imprimimos la informacion del dataframe para ver posibles ubicaciones de los datos faltantes\n",
    "print(cancer.info())\n",
    "#La info es muy util ya que se observa que todas las columnas excepto la 6 o ND son de tipo numerico\n",
    "#Esto indica que ND es del tipo string y ahi es donde deben estar los datos faltantes\n",
    "\n",
    "#buscamos en la columna ND del dataframe el caracter ? (despues de ver el dataframe sabemos que eso denota el dato faltante)\n",
    "#esta busqueda se hace con la funcion contains()\n",
    "#Guardamos en la variable Perdidos todos los datos faltantes usando la busqueda\n",
    "Perdidos = cancer[cancer['ND'].str.contains('\\?')]\n",
    "#los mostramos en pantalla\n",
    "print(Perdidos)\n",
    "\n",
    "#Guardamos los indices de los datos de la variable Perdidos en la variable indicesPerdidos\n",
    "#Esto se hace con la funcion index\n",
    "indicesPerdidos = cancer[cancer['ND'].str.contains('\\?')].index\n",
    "#imprimimos los indices\n",
    "print(indicesPerdidos)"
   ]
  },
  {
   "cell_type": "code",
   "execution_count": 58,
   "metadata": {},
   "outputs": [
    {
     "name": "stdout",
     "output_type": "stream",
     "text": [
      "<class 'pandas.core.frame.DataFrame'>\n",
      "Int64Index: 683 entries, 0 to 698\n",
      "Data columns (total 10 columns):\n",
      " #   Column  Non-Null Count  Dtype \n",
      "---  ------  --------------  ----- \n",
      " 0   G       683 non-null    int64 \n",
      " 1   UT      683 non-null    int64 \n",
      " 2   UF      683 non-null    int64 \n",
      " 3   A       683 non-null    int64 \n",
      " 4   T       683 non-null    int64 \n",
      " 5   ND      683 non-null    object\n",
      " 6   Cr      683 non-null    int64 \n",
      " 7   NN      683 non-null    int64 \n",
      " 8   M       683 non-null    int64 \n",
      " 9   C       683 non-null    int64 \n",
      "dtypes: int64(9), object(1)\n",
      "memory usage: 58.7+ KB\n"
     ]
    }
   ],
   "source": [
    "#definimos un nuevo dataframe llamado Cancer 1 que No contiene los datos\n",
    "#cuyos valores son ?\n",
    "cancer = pd.DataFrame(cancer.drop(indicesPerdidos))\n",
    "#mostramos la info de este nuevo dataframe\n",
    "cancer.info()"
   ]
  },
  {
   "cell_type": "code",
   "execution_count": 59,
   "metadata": {},
   "outputs": [
    {
     "name": "stdout",
     "output_type": "stream",
     "text": [
      "<class 'pandas.core.frame.DataFrame'>\n",
      "Int64Index: 683 entries, 0 to 698\n",
      "Data columns (total 10 columns):\n",
      " #   Column  Non-Null Count  Dtype\n",
      "---  ------  --------------  -----\n",
      " 0   G       683 non-null    int64\n",
      " 1   UT      683 non-null    int64\n",
      " 2   UF      683 non-null    int64\n",
      " 3   A       683 non-null    int64\n",
      " 4   T       683 non-null    int64\n",
      " 5   ND      683 non-null    int64\n",
      " 6   Cr      683 non-null    int64\n",
      " 7   NN      683 non-null    int64\n",
      " 8   M       683 non-null    int64\n",
      " 9   C       683 non-null    int64\n",
      "dtypes: int64(10)\n",
      "memory usage: 58.7 KB\n"
     ]
    }
   ],
   "source": [
    "#converttimos la columna 6 o ND a tipo numerico, esto es para facilitar el entrenamiento\n",
    "cancer['ND'] = pd.to_numeric(cancer['ND'])\n",
    "cancer.info()"
   ]
  },
  {
   "cell_type": "markdown",
   "metadata": {},
   "source": [
    "De la discusion anterior tenemos que estandarizar nuestras muestras ya que hay muchos atributos bastante similares."
   ]
  },
  {
   "cell_type": "code",
   "execution_count": 60,
   "metadata": {},
   "outputs": [],
   "source": [
    "#dividimos los conjuntos X e Y en independientes y dependientes respectivamente\n",
    "independientes = (cancer.drop(columns=['C'])).to_numpy()\n",
    "dependientes = (cancer['C']).to_numpy()"
   ]
  },
  {
   "cell_type": "code",
   "execution_count": 61,
   "metadata": {},
   "outputs": [],
   "source": [
    "#Hacemos estandarizacion a los valores independientes X\n",
    "Estandar = Estandarizacion(independientes)"
   ]
  },
  {
   "cell_type": "code",
   "execution_count": 62,
   "metadata": {},
   "outputs": [],
   "source": [
    "#creamos un dataframe con los datos estandarizados\n",
    "Estandardf = pd.DataFrame(Estandar)\n",
    "Estandardf['C'] = dependientes"
   ]
  },
  {
   "cell_type": "code",
   "execution_count": 63,
   "metadata": {},
   "outputs": [],
   "source": [
    "#Definimos nuestros conjuntos de entrenamiento y validacion\n",
    "#train se construye a partir de la funcion sample() donde frac es el porcentaje de los datos\n",
    "#random_state es la semilla del numero aleatorio, esta funcion por default tiene desactivado\n",
    "#el ingreso de datos por reemplazo, es decir no se pueden repetir filas\n",
    "#el conjunto test se construye a partir del train quitando todos los indices que tiene train,\n",
    "#es decir hace una operacion de conjuntos del conjunto universo Spam resta el conjunto train \n",
    "#y guarda lo que resta en test\n",
    "datosEnt = Estandardf.sample(frac=0.7,random_state=0)\n",
    "datosVal = Estandardf.drop(datosEnt.index)\n",
    "#reseteamos los indices con la funcion reset_index. drop=True lo usamos para evitar que se\n",
    "#anada una columna del indice anterior\n",
    "datosEnt.reset_index(drop=True,inplace=True)\n",
    "datosVal.reset_index(drop=True,inplace=True)"
   ]
  },
  {
   "cell_type": "code",
   "execution_count": 64,
   "metadata": {},
   "outputs": [],
   "source": [
    "#definimos nuestras x e y de entrenamiento y validacion\n",
    "xTr = (datosEnt.drop(columns=['C'])).to_numpy()\n",
    "yTr = (datosEnt['C']).to_numpy()\n",
    "xVali = (datosVal.drop(columns=['C'])).to_numpy()\n",
    "yVali = (datosVal['C']).to_numpy()"
   ]
  },
  {
   "cell_type": "code",
   "execution_count": 65,
   "metadata": {},
   "outputs": [],
   "source": [
    "#Dado que el modelo predice salidas 0 o 1 tenemos que cambiar los datos de salida (Cancer). Haremos 2 igual a cero\n",
    "#(no cancer) y 4 igual a 1 (si cancer)\n",
    "#buscamos los indices en yTr tal que su valor sea 2 y los guardamos en la variable dos\n",
    "dos = np.where(yTr==2)\n",
    "#buscamos los indices en yTr tal que su valor sea 4 y los guardamos en la variable cuatro\n",
    "cuatro = np.where(yTr==4)\n",
    "#para aquellos valores en las posiciones de la variable dos definelos como cero\n",
    "yTr[dos]=0\n",
    "#para aquellos valores en las posiciones de la variable cuatro definelos como uno\n",
    "yTr[cuatro]=1"
   ]
  },
  {
   "cell_type": "code",
   "execution_count": 66,
   "metadata": {},
   "outputs": [],
   "source": [
    "#hacemos lo mismo para las y de validacion\n",
    "#buscamos los indices en yTr tal que su valor sea 2 y los guardamos en la variable ddos\n",
    "ddos = np.where(yVali==2)\n",
    "#buscamos los indices en yTr tal que su valor sea 4 y los guardamos en la variable ccuatro\n",
    "ccuatro = np.where(yVali==4)\n",
    "#para aquellos valores en las posiciones de la variable ddos definelos como cero\n",
    "yVali[ddos]=0\n",
    "#para aquellos valores en las posiciones de la variable ccuatro definelos como uno\n",
    "yVali[ccuatro]=1"
   ]
  },
  {
   "cell_type": "code",
   "execution_count": 67,
   "metadata": {},
   "outputs": [],
   "source": [
    "#dado que los datos de validacion no seran pasados por la estratificacion que por default agrega una columna\n",
    "#de unos para calcular las thetas_0. hay que agregar manuealmente estas columnas a los x de validacion\n",
    "unos = np.ones((xVali.shape[0],1),dtype=float)\n",
    "xVali = np.append(unos,xVali,axis=1)"
   ]
  },
  {
   "cell_type": "code",
   "execution_count": 68,
   "metadata": {},
   "outputs": [],
   "source": [
    "#Definimos nuestra matriz de Thetas que seran calculadas por la validacion cruzada estratificada de 10\n",
    "#repeticiones y 5 particiones, es decir se calcularan 50 vectores thetha, dado que el vector de thetha es de 10\n",
    "#valores entonces nuestra matriz contendra 50x10 valores, Cada fila contendra las thetas encontradas\n",
    "#para cada una de las validaciones\n",
    "Thetha = np.zeros((50,10),dtype=np.float64)\n",
    "#definimos nuestra matriz de perdida que contendra las perdidas de cada entrenamiento por \n",
    "#validacion cruzada estratificada dado que se hacen 100 repeticiones habra 100 columnas\n",
    "#y 50 filas para los 10*5 validaciones, cada fila tendra los errores calculados para cada una de las\n",
    "#100 thethas calculadas, es decir en 0,0 tendra el error para la primera validacion correspondiente al primer \n",
    "#conjunto de thethas calculada\n",
    "Lossi = np.zeros((50,100),dtype=np.float64)"
   ]
  },
  {
   "cell_type": "code",
   "execution_count": 69,
   "metadata": {},
   "outputs": [],
   "source": [
    "#definimos la variable auxiliar i que nos ayudara a saber en que fila va a colocar los valores\n",
    "#de theta y perdida\n",
    "i=0\n",
    "#iteramos sobre cada x,y de entrenamiento y validacion que calcula la funcion\n",
    "#validacion estratificada de 10 repeticiones con 5 particiones\n",
    "for xTrain, yTrain, xTest, yTest in validacionEstratificada(xTr, yTr,10,5):\n",
    "    #en la fila i de Thetha y Lossi colocamos los valores que resultan del entrenamiento de la funcion Entrena\n",
    "    Thetha[i],Lossi[i]=  Entrena(xTrain,yTrain)\n",
    "    #aumenta i en 1.\n",
    "    i+=1"
   ]
  },
  {
   "cell_type": "code",
   "execution_count": 70,
   "metadata": {},
   "outputs": [
    {
     "data": {
      "image/png": "[encoded data removed]",
      "text/plain": [
       "<Figure size 432x288 with 1 Axes>"
      ]
     },
     "metadata": {
      "needs_background": "light"
     },
     "output_type": "display_data"
    }
   ],
   "source": [
    "#Vamos a calcular la media de los ultimos errores calculados para cada iteracion\n",
    "#entonces guardaremos en una matriz de 1x50 dichos errores\\\n",
    "Perdida = np.mean(Lossi,axis=0)\n",
    "#graficamos el error en funcion de las iteraciones usando la lista perdidas\n",
    "#definida en la forma automatica o forma funcional\n",
    "plt.figure()\n",
    "plt.plot(range(len(Perdida)), Perdida, 'ro')\n",
    "plt.ylabel('Promedio Error por cada iteracion')\n",
    "plt.xlabel('Iteraciones')\n",
    "plt.show()"
   ]
  },
  {
   "cell_type": "code",
   "execution_count": 71,
   "metadata": {},
   "outputs": [],
   "source": [
    "#calculamos las medias de todas las thetas calculadas en la validacion estratificada y entrenamiento\n",
    "#estas se calculan por columna, este promedio sera nuestro vector de Thetas optimo\n",
    "Theta = np.mean(Thetha,axis=0)"
   ]
  },
  {
   "cell_type": "code",
   "execution_count": 72,
   "metadata": {},
   "outputs": [],
   "source": [
    "#una vez entrenado, predecimos nuestros valores de validacion\n",
    "yPredicho = predice(xVali,Theta)"
   ]
  },
  {
   "cell_type": "code",
   "execution_count": 73,
   "metadata": {},
   "outputs": [],
   "source": [
    "#yPredicho tendra valores de probabilidad por lo que debemos decidir si es cancer o no\n",
    "#haciendo que si el valor de y en una determinada fila es menor que 0.5 entonces decimos que\n",
    "#no es cancer. y en caso contrario decimos que si es\n",
    "#creamos una nueva matriz que tendra puros ceros o unos y la llamamos prediccion\n",
    "prediccion = np.zeros(yPredicho.shape,dtype=int)\n",
    "#iteramos sobre las filas de ypredich\n",
    "for i in range (yPredicho.shape[0]):\n",
    "    #asignamos 0 o 1 segun los valores de cada fila\n",
    "    z = yPredicho[i]\n",
    "    if z<0.5:\n",
    "        prediccion[i]=0\n",
    "    else:\n",
    "        prediccion[i]=1"
   ]
  },
  {
   "cell_type": "code",
   "execution_count": 74,
   "metadata": {},
   "outputs": [
    {
     "name": "stdout",
     "output_type": "stream",
     "text": [
      "0.9707317073170731\n"
     ]
    }
   ],
   "source": [
    "#imprime el accuracy score para el array de prediccion y el original\n",
    "print(accuracy_score(prediccion,yVali))"
   ]
  },
  {
   "cell_type": "markdown",
   "metadata": {},
   "source": [
    "Notemos que para este caso el accuracy es del 0.97 al usamor estandarizacion. Por lo que lo consideramos un muy buen modelo. Ahora veamos su curva ROC"
   ]
  },
  {
   "cell_type": "code",
   "execution_count": 75,
   "metadata": {},
   "outputs": [],
   "source": [
    "#con la funcion que calcula la curva roc le damos de comer la matriz de probabilidades definida previamente\n",
    "#y el vector de yValidacion (valores reales) y nos regresa el rasdio de verdaderos positivos (TPR) la guardamos en\n",
    "#la variable rvps y el radio de falsos positivos (FPR)\n",
    "rvpsCancer, rfpsCancer = roc(yPredicho, yVali)"
   ]
  },
  {
   "cell_type": "code",
   "execution_count": 76,
   "metadata": {},
   "outputs": [
    {
     "data": {
      "image/png": "[encoded data removed]",
      "text/plain": [
       "<Figure size 432x288 with 1 Axes>"
      ]
     },
     "metadata": {
      "needs_background": "light"
     },
     "output_type": "display_data"
    }
   ],
   "source": [
    "#GRaficamos el TPR en funcion del FPR previamente calculados\n",
    "plt.plot(rfpsCancer, rvpsCancer)\n",
    "plt.plot([0, 1], [0, 1], '--')\n",
    "plt.fill_between(rfpsCancer, rvpsCancer, 0, alpha=0.5, color = 'pink')\n",
    "plt.xlabel('Tasa de falsos positivos')\n",
    "plt.ylabel('Tasa de verdaderos positivos')\n",
    "plt.show()"
   ]
  },
  {
   "cell_type": "code",
   "execution_count": 77,
   "metadata": {},
   "outputs": [
    {
     "data": {
      "text/plain": [
       "0.9955582475267515"
      ]
     },
     "execution_count": 77,
     "metadata": {},
     "output_type": "execute_result"
    }
   ],
   "source": [
    "#calculamos el area bajo la curva definida por el TPR y FPR para el reescalado\n",
    "aucroc(rfpsCancer, rvpsCancer)"
   ]
  },
  {
   "cell_type": "markdown",
   "metadata": {},
   "source": [
    "El área bajo la curva es de 0.995 que nos confirma que para estos datos la regresion logistica con datos estandarizados y validacion estratificada es muy bueno. Ahora vemos su curva precision-exahustividad"
   ]
  },
  {
   "cell_type": "code",
   "execution_count": 78,
   "metadata": {},
   "outputs": [],
   "source": [
    "#Para la curva precision-exahustividad sabemos que por definicion el radio de verdaderos positivos\n",
    "#es igual a la exahustividad, que ya se calculo previamente. Solo basta calcular la precision. Para ello:\n",
    "#define una matriz llamada positivos cuyos valores corresponden a la posicion para la cual hay un 1 en el \n",
    "#vector de validacion\n",
    "positivosC = np.where(yVali == 1)\n",
    "#define una matriz llamada negativos cuyos valores corresponden a la posicion para la cual hay 1 en el vector\n",
    "#yPred (predicciones) y ademas en la matriz yVa (valores reales) haya un cero. Esto se hace ya que recordemos\n",
    "#que los falsos positivos se definen como un resultado que indica la existencia de una condicion cuando en\n",
    "#realidad no lo es. Traducido a nuestro problema vemos que esto corresponde a el resultado en nuestra prediccion\n",
    "#que nos dice que si gano un jugador cuando no es verdad. Notemos que la contraparte descrita como no gano cuando\n",
    "#en realidad si lo hizo corresponde a un falso negativo.\n",
    "negativosC = np.where((prediccion==1) & (yVali != prediccion))\n",
    "#definimos nuestro vector de precision que tendra dimension del numero de valores diferentes en la matriz probabilidades\n",
    "precisionC = np.zeros(np.unique(yPredicho).shape[0])\n",
    "\n",
    "#iteramos i de 0 hasta el tamano de la matriz probabilidades, p se define como el valor de las probabilidad en la\n",
    "#posicion i\n",
    "for i, p in enumerate(np.unique(yPredicho)[::-1]):\n",
    "    #definimos el float verdaderos positivos como la suma (el total de valores que cumplen la condicion)\n",
    "    #de aquellos valores en la posicion guardada en el array positivos tal que son mayores o iguales que p \n",
    "    truePositivesC = np.sum(yPredicho[positivosC] >= p)\n",
    "    #definimos el float falsos positivos como la suma (el total de valores que cumplen la condicion)\n",
    "    #de aquellos valores en la posicion guardada en el array negativos tal que son mayores o iguales que p \n",
    "    falsePositivesC = np.sum(yPredicho[negativosC] >= p)\n",
    "    #guarda en la posicion i del array precision el cociente de los verdaderos positivos entre verdaderos\n",
    "    #positivos mas falsos positivos (definicion de exahustividad)\n",
    "    precisionC[i] = (truePositivesC)/(falsePositivesC+truePositivesC)"
   ]
  },
  {
   "cell_type": "code",
   "execution_count": 79,
   "metadata": {},
   "outputs": [
    {
     "data": {
      "image/png": "[encoded data removed]",
      "text/plain": [
       "<Figure size 432x288 with 1 Axes>"
      ]
     },
     "metadata": {
      "needs_background": "light"
     },
     "output_type": "display_data"
    }
   ],
   "source": [
    "#graficamos la curva precision-exahustividad\n",
    "plt.plot(rvpsCancer,precisionC)\n",
    "plt.fill_between(rvpsCancer,precisionC, 0, alpha=0.5, color = 'pink')\n",
    "plt.xlabel('Exahustividad')\n",
    "plt.ylabel('Precision')\n",
    "plt.show()"
   ]
  },
  {
   "cell_type": "code",
   "execution_count": 80,
   "metadata": {},
   "outputs": [
    {
     "data": {
      "text/plain": [
       "0.9891346908998113"
      ]
     },
     "execution_count": 80,
     "metadata": {},
     "output_type": "execute_result"
    }
   ],
   "source": [
    "#calculamos el area bajo la curva precision exahustividad\n",
    "aucroc(rvpsCancer,precisionC)"
   ]
  },
  {
   "attachments": {
    "error2.JPG": {
     "image/jpeg": "[encoded data removed]"
    }
   },
   "cell_type": "markdown",
   "metadata": {},
   "source": [
    "Al intentar entrenar Naive con los datos Estandarizados arroja un error que dice que los valores de X no deben ser negativos (ver imagen):![error2.JPG](attachment:error2.JPG)"
   ]
  },
  {
   "cell_type": "code",
   "execution_count": 81,
   "metadata": {},
   "outputs": [],
   "source": [
    "#cati = CategoricalNB()\n",
    "#cati.fit(xTr, yTr)\n",
    "#predictedd = cati.predict(xVali)\n",
    "#print(accuracy_score(predicted,yVali))"
   ]
  },
  {
   "cell_type": "markdown",
   "metadata": {},
   "source": [
    "cambiemos al reescalado ya que en esta forma no hay datos negativos. Asi podemos comparar con naive"
   ]
  },
  {
   "cell_type": "code",
   "execution_count": 82,
   "metadata": {},
   "outputs": [],
   "source": [
    "#Hacemos estandarizacion a los valores independientes X\n",
    "Rees = Reescalado(independientes)"
   ]
  },
  {
   "cell_type": "code",
   "execution_count": 83,
   "metadata": {},
   "outputs": [],
   "source": [
    "#creamos un dataframe con los datos estandarizados\n",
    "Reescaladodf = pd.DataFrame(Rees)\n",
    "Reescaladodf['C'] = dependientes\n",
    "#Definimos nuestros conjuntos de entrenamiento y validacion\n",
    "#train se construye a partir de la funcion sample() donde frac es el porcentaje de los datos\n",
    "#random_state es la semilla del numero aleatorio, esta funcion por default tiene desactivado\n",
    "#el ingreso de datos por reemplazo, es decir no se pueden repetir filas\n",
    "#el conjunto test se construye a partir del train quitando todos los indices que tiene train,\n",
    "#es decir hace una operacion de conjuntos del conjunto universo Spam resta el conjunto train \n",
    "#y guarda lo que resta en test\n",
    "datosEntR = Reescaladodf.sample(frac=0.7,random_state=0)\n",
    "datosValR = Reescaladodf.drop(datosEnt.index)\n",
    "#reseteamos los indices con la funcion reset_index. drop=True lo usamos para evitar que se\n",
    "#anada una columna del indice anterior\n",
    "datosEntR.reset_index(drop=True,inplace=True)\n",
    "datosValR.reset_index(drop=True,inplace=True)\n",
    "#definimos nuestras x e y de entrenamiento y validacion\n",
    "xTrR = (datosEntR.drop(columns=['C'])).to_numpy()\n",
    "yTrR = (datosEntR['C']).to_numpy()\n",
    "xValiR = (datosValR.drop(columns=['C'])).to_numpy()\n",
    "yValiR = (datosValR['C']).to_numpy()"
   ]
  },
  {
   "cell_type": "code",
   "execution_count": 84,
   "metadata": {},
   "outputs": [],
   "source": [
    "#Dado que el modelo predice salidas 0 o 1 tenemos que cambiar los datos de salida (Cancer). Haremos 2 igual a cero\n",
    "#(no cancer) y 4 igual a 1 (si cancer)\n",
    "#buscamos los indices en yTr tal que su valor sea 2 y los guardamos en la variable dos\n",
    "dosR = np.where(yTrR==2)\n",
    "#buscamos los indices en yTr tal que su valor sea 4 y los guardamos en la variable cuatro\n",
    "cuatroR = np.where(yTrR==4)\n",
    "#para aquellos valores en las posiciones de la variable dos definelos como cero\n",
    "yTrR[dosR]=0\n",
    "#para aquellos valores en las posiciones de la variable cuatro definelos como uno\n",
    "yTrR[cuatroR]=1\n",
    "#hacemos lo mismo para las y de validacion\n",
    "#buscamos los indices en yTr tal que su valor sea 2 y los guardamos en la variable ddos\n",
    "ddosR = np.where(yValiR==2)\n",
    "#buscamos los indices en yTr tal que su valor sea 4 y los guardamos en la variable ccuatro\n",
    "ccuatroR = np.where(yValiR==4)\n",
    "#para aquellos valores en las posiciones de la variable ddos definelos como cero\n",
    "yValiR[ddosR]=0\n",
    "#para aquellos valores en las posiciones de la variable ccuatro definelos como uno\n",
    "yValiR[ccuatroR]=1"
   ]
  },
  {
   "cell_type": "code",
   "execution_count": 85,
   "metadata": {},
   "outputs": [],
   "source": [
    "#dado que los datos de validacion no seran pasados por la estratificacion que por default agrega una columna\n",
    "#de unos para calcular las thetas_0. hay que agregar manuealmente estas columnas a los x de validacion\n",
    "unos = np.ones((xValiR.shape[0],1),dtype=float)\n",
    "xValiR = np.append(unos,xValiR,axis=1)\n",
    "#Definimos nuestra matriz de Thetas que seran calculadas por la validacion cruzada estratificada de 10\n",
    "#repeticiones y 5 particiones, es decir se calcularan 50 vectores thetha, dado que el vector de thetha es de 10\n",
    "#valores entonces nuestra matriz contendra 50x10 valores, Cada fila contendra las thetas encontradas\n",
    "#para cada una de las validaciones\n",
    "ThethaR = np.zeros((50,10),dtype=np.float64)\n",
    "#definimos nuestra matriz de perdida que contendra las perdidas de cada entrenamiento por \n",
    "#validacion cruzada estratificada dado que se hacen 100 repeticiones habra 100 columnas\n",
    "#y 50 filas para los 10*5 validaciones, cada fila tendra los errores calculados para cada una de las\n",
    "#100 thethas calculadas, es decir en 0,0 tendra el error para la primera validacion correspondiente al primer \n",
    "#conjunto de thethas calculada\n",
    "LossiR = np.zeros((50,100),dtype=np.float64)"
   ]
  },
  {
   "cell_type": "code",
   "execution_count": 86,
   "metadata": {},
   "outputs": [],
   "source": [
    "#definimos la variable auxiliar i que nos ayudara a saber en que fila va a colocar los valores\n",
    "#de theta y perdida\n",
    "i=0\n",
    "#iteramos sobre cada x,y de entrenamiento y validacion que calcula la funcion\n",
    "#validacion estratificada de 10 repeticiones con 5 particiones\n",
    "for xTrain, yTrain, xTest, yTest in validacionEstratificada(xTrR, yTrR,10,5):\n",
    "    #en la fila i de Thetha y Lossi colocamos los valores que resultan del entrenamiento de la funcion Entrena\n",
    "    ThethaR[i],LossiR[i]=  Entrena(xTrain,yTrain)\n",
    "    #aumenta i en 1.\n",
    "    i+=1"
   ]
  },
  {
   "cell_type": "code",
   "execution_count": 87,
   "metadata": {},
   "outputs": [
    {
     "data": {
      "image/png": "[encoded data removed]",
      "text/plain": [
       "<Figure size 432x288 with 1 Axes>"
      ]
     },
     "metadata": {
      "needs_background": "light"
     },
     "output_type": "display_data"
    }
   ],
   "source": [
    "#Vamos a calcular la media de los ultimos errores calculados para cada iteracion\n",
    "#entonces guardaremos en una matriz de 1x50 dichos errores\\\n",
    "PerdidaR = np.mean(LossiR,axis=0)\n",
    "#graficamos el error en funcion de las iteraciones usando la lista perdidas\n",
    "#definida en la forma automatica o forma funcional\n",
    "plt.figure()\n",
    "plt.plot(range(len(PerdidaR)), PerdidaR, 'ro')\n",
    "plt.ylabel('Promedio Error por cada iteracion')\n",
    "plt.xlabel('Iteraciones')\n",
    "plt.show()"
   ]
  },
  {
   "cell_type": "code",
   "execution_count": 88,
   "metadata": {},
   "outputs": [],
   "source": [
    "#calculamos las medias de todas las thetas calculadas en la validacion estratificada y entrenamiento\n",
    "#estas se calculan por columna, este promedio sera nuestro vector de Thetas optimo\n",
    "ThetaR = np.mean(ThethaR,axis=0)\n",
    "#una vez entrenado, predecimos nuestros valores de validacion\n",
    "yPredichoR = predice(xValiR,ThetaR)\n",
    "#yPredicho tendra valores de probabilidad por lo que debemos decidir si es cancer o no\n",
    "#haciendo que si el valor de y en una determinada fila es menor que 0.5 entonces decimos que\n",
    "#no es cancer. y en caso contrario decimos que si es\n",
    "#creamos una nueva matriz que tendra puros ceros o unos y la llamamos prediccion\n",
    "prediccionR = np.zeros(yPredichoR.shape,dtype=int)\n",
    "#iteramos sobre las filas de ypredich\n",
    "for i in range (yPredichoR.shape[0]):\n",
    "    #asignamos 0 o 1 segun los valores de cada fila\n",
    "    z = yPredichoR[i]\n",
    "    if z<0.5:\n",
    "        prediccionR[i]=0\n",
    "    else:\n",
    "        prediccionR[i]=1"
   ]
  },
  {
   "cell_type": "code",
   "execution_count": 89,
   "metadata": {},
   "outputs": [
    {
     "name": "stdout",
     "output_type": "stream",
     "text": [
      "0.9951219512195122\n"
     ]
    }
   ],
   "source": [
    "#imprime el accuracy score para el array de prediccion y el original\n",
    "print(accuracy_score(prediccionR,yValiR))"
   ]
  },
  {
   "cell_type": "markdown",
   "metadata": {},
   "source": [
    "Vemos que el accuraccy score es mucho mejor con el reescalado comparado con la estandarizacion para este caso. De esta manera tiramos la hipotesis de que el modelo sera mejor si los atributos difieren entre si. Entonces decimos que la estandarizacion de los datos es importante pero no sabemos cual va a ser mejor y debe probarse cada uno"
   ]
  },
  {
   "cell_type": "code",
   "execution_count": 90,
   "metadata": {},
   "outputs": [
    {
     "data": {
      "image/png": "[encoded data removed]",
      "text/plain": [
       "<Figure size 432x288 with 1 Axes>"
      ]
     },
     "metadata": {
      "needs_background": "light"
     },
     "output_type": "display_data"
    }
   ],
   "source": [
    "#con la funcion que calcula la curva roc le damos de comer la matriz de probabilidades definida previamente\n",
    "#y el vector de yValidacion (valores reales) y nos regresa el rasdio de verdaderos positivos (TPR) la guardamos en\n",
    "#la variable rvps y el radio de falsos positivos (FPR)\n",
    "rvpsCancerR, rfpsCancerR = roc(yPredichoR, yValiR)\n",
    "#GRaficamos el TPR en funcion del FPR previamente calculados\n",
    "plt.plot(rfpsCancerR, rvpsCancerR)\n",
    "plt.plot([0, 1], [0, 1], '--')\n",
    "plt.fill_between(rfpsCancerR, rvpsCancerR, 0, alpha=0.5, color = 'pink')\n",
    "plt.xlabel('Tasa de falsos positivos')\n",
    "plt.ylabel('Tasa de verdaderos positivos')\n",
    "plt.show()"
   ]
  },
  {
   "cell_type": "code",
   "execution_count": 91,
   "metadata": {},
   "outputs": [
    {
     "data": {
      "text/plain": [
       "1.0"
      ]
     },
     "execution_count": 91,
     "metadata": {},
     "output_type": "execute_result"
    }
   ],
   "source": [
    "#calculamos el area bajo la curva definida por el TPR y FPR para el reescalado\n",
    "aucroc(rfpsCancerR, rvpsCancerR)"
   ]
  },
  {
   "cell_type": "markdown",
   "metadata": {},
   "source": [
    "Overfitting? o modelo perfecto?"
   ]
  },
  {
   "cell_type": "code",
   "execution_count": 92,
   "metadata": {},
   "outputs": [
    {
     "name": "stdout",
     "output_type": "stream",
     "text": [
      "0.9804878048780488\n"
     ]
    }
   ],
   "source": [
    "cati = CategoricalNB()\n",
    "cati.fit(xTrR, yTrR)\n",
    "predictedd = cati.predict(xValiR[:,1:])\n",
    "print(accuracy_score(predictedd,yValiR))"
   ]
  },
  {
   "cell_type": "markdown",
   "metadata": {},
   "source": [
    "Vemos que el accuracy score es muy similar (solo difieren en 0.01). Para este caso es dificil escoger el modelo. Ambos tienen un buen accuracy. Pero de nuevo elegimos a la regresion logistica. Ya que la cantidad de datos es pequeña y ademas tenemos la informacion extra de las curvas ROC y precision-exahustividad. Retomando lo anterior con la validacion estratificada podemos recorrer varia veces los datos por lo que consideramos que este modelo generaliza mejor que naive bayes que solo le da una pasada a los datos. Si los datos fueran (muy grandes decenas de miles) entonces elegimos Naive ya que la validacion estratificada de varias repeticiones es computacionalmente costoso (por la cantidad de datos)."
   ]
  }
 ],
 "metadata": {
  "kernelspec": {
   "display_name": "Python 3",
   "language": "python",
   "name": "python3"
  },
  "language_info": {
   "codemirror_mode": {
    "name": "ipython",
    "version": 3
   },
   "file_extension": ".py",
   "mimetype": "text/x-python",
   "name": "python",
   "nbconvert_exporter": "python",
   "pygments_lexer": "ipython3",
   "version": "3.7.7"
  }
 },
 "nbformat": 4,
 "nbformat_minor": 4
}
